{
 "cells": [
  {
   "cell_type": "code",
   "execution_count": 147,
   "metadata": {
    "collapsed": false
   },
   "outputs": [
    {
     "data": {
      "text/html": [
       "\n",
       "           <script>\n",
       "               \n",
       "                function vct_load_lib(url, callback){\n",
       "                      if(typeof d3 !== 'undefined' &&\n",
       "                         url === 'http://d3js.org/d3.v3.min.js'){\n",
       "                        callback()\n",
       "                      }\n",
       "                      var s = document.createElement('script');\n",
       "                      s.src = url;\n",
       "                      s.async = true;\n",
       "                      s.onreadystatechange = s.onload = callback;\n",
       "                      s.onerror = function(){\n",
       "                        console.warn(\"failed to load library \" + url);\n",
       "                        };\n",
       "                      document.getElementsByTagName(\"head\")[0].appendChild(s);\n",
       "                };\n",
       "                var vincent_event = new CustomEvent(\n",
       "                  \"vincent_libs_loaded\",\n",
       "                  {bubbles: true, cancelable: true}\n",
       "                );\n",
       "                \n",
       "               function load_all_libs(){\n",
       "                  console.log('Loading Vincent libs...')\n",
       "                  vct_load_lib('http://d3js.org/d3.v3.min.js', function(){\n",
       "                  vct_load_lib('http://d3js.org/d3.geo.projection.v0.min.js', function(){\n",
       "                  vct_load_lib('http://wrobstory.github.io/d3-cloud/d3.layout.cloud.js', function(){\n",
       "                  vct_load_lib('http://wrobstory.github.io/vega/vega.v1.3.3.js', function(){\n",
       "                  window.dispatchEvent(vincent_event);\n",
       "                  });\n",
       "                  });\n",
       "                  });\n",
       "                  });\n",
       "               };\n",
       "               if(typeof define === \"function\" && define.amd){\n",
       "                    if (window['d3'] === undefined ||\n",
       "                        window['topojson'] === undefined){\n",
       "                        require.config(\n",
       "                            {paths: {\n",
       "                              d3: 'http://d3js.org/d3.v3.min',\n",
       "                              topojson: 'http://d3js.org/topojson.v1.min'\n",
       "                              }\n",
       "                            }\n",
       "                          );\n",
       "                        require([\"d3\"], function(d3){\n",
       "                            console.log('Loading Vincent from require.js...')\n",
       "                            window.d3 = d3;\n",
       "                            require([\"topojson\"], function(topojson){\n",
       "                                window.topojson = topojson;\n",
       "                                load_all_libs();\n",
       "                            });\n",
       "                        });\n",
       "                    } else {\n",
       "                        load_all_libs();\n",
       "                    };\n",
       "               }else{\n",
       "                    console.log('Require.js not found, loading manually...')\n",
       "                    load_all_libs();\n",
       "               };\n",
       "\n",
       "           </script>"
      ],
      "text/plain": [
       "<IPython.core.display.HTML object>"
      ]
     },
     "metadata": {},
     "output_type": "display_data"
    }
   ],
   "source": [
    "import pickle as pkl\n",
    "import numpy as np\n",
    "import matplotlib.pyplot as plt\n",
    "import json\n",
    "from nltk.tokenize import word_tokenize\n",
    "import re\n",
    "from collections import Counter\n",
    "from nltk.corpus import stopwords\n",
    "import string\n",
    "import pandas as pd\n",
    "import pytz\n",
    "vincent.core.initialize_notebook()"
   ]
  },
  {
   "cell_type": "code",
   "execution_count": 25,
   "metadata": {
    "collapsed": true
   },
   "outputs": [],
   "source": [
    "emoticons_str = r\"\"\"\n",
    "    (?:\n",
    "        [:=;] # Eyes\n",
    "        [oO\\-]? # Nose (optional)\n",
    "        [D\\)\\]\\(\\]/\\\\OpP] # Mouth\n",
    "    )\"\"\"\n",
    " \n",
    "regex_str = [\n",
    "    emoticons_str,\n",
    "    r'<[^>]+>', # HTML tags\n",
    "    r'(?:@[\\w_]+)', # @-mentions\n",
    "    r\"(?:\\#+[\\w_]+[\\w\\'_\\-]*[\\w_]+)\", # hash-tags\n",
    "    r'http[s]?://(?:[a-z]|[0-9]|[$-_@.&+]|[!*\\(\\),]|(?:%[0-9a-f][0-9a-f]))+', # URLs\n",
    " \n",
    "    r'(?:(?:\\d+,?)+(?:\\.?\\d+)?)', # numbers\n",
    "    r\"(?:[a-z][a-z'\\-_]+[a-z])\", # words with - and '\n",
    "    r'(?:[\\w_]+)', # other words\n",
    "    r'(?:\\S)' # anything else\n",
    "]\n",
    "    \n",
    "tokens_re = re.compile(r'('+'|'.join(regex_str)+')', re.VERBOSE | re.IGNORECASE)\n",
    "emoticon_re = re.compile(r'^'+emoticons_str+'$', re.VERBOSE | re.IGNORECASE)\n",
    " \n",
    "def tokenize(s):\n",
    "    return tokens_re.findall(s)\n",
    " \n",
    "def preprocess(s, lowercase=False):\n",
    "    tokens = tokenize(s)\n",
    "    if lowercase:\n",
    "        tokens = [token if emoticon_re.search(token) else token.lower() for token in tokens]\n",
    "    return tokens"
   ]
  },
  {
   "cell_type": "code",
   "execution_count": 32,
   "metadata": {
    "collapsed": true
   },
   "outputs": [],
   "source": [
    "def to_json(data_array):\n",
    "        # #initialize geo_data json (just a dict here) to feed in to the maps\n",
    "        geo_data = {\n",
    "            \"type\": \"FeatureCollection\",\n",
    "            \"features\": []\n",
    "        }\n",
    "\n",
    "        #populate the json file\n",
    "        for d in data_array:\n",
    "            geo_json_feature = {\n",
    "                    \"type\": \"Feature\",\n",
    "                    \"geometry\": {\"type\" : \"Point\", \"coordinates\" : d['coordinates']},\n",
    "                    \"properties\": {\n",
    "                        \"text\": d['text'],\n",
    "                        \"created_at\": d['created_at']\n",
    "                    }\n",
    "                }\n",
    "            geo_data['features'].append(geo_json_feature)\n",
    "\n",
    "        #write the json out to a file\n",
    "        with open('geo_data.json', 'w') as fout:\n",
    "            fout.write(json.dumps(geo_data, indent=4))"
   ]
  },
  {
   "cell_type": "code",
   "execution_count": 29,
   "metadata": {
    "collapsed": true
   },
   "outputs": [],
   "source": [
    "def vector_add(v,w):\n",
    "    return[v_i + w_i for v_i, w_i in zip(v,w)]\n",
    "\n",
    "def vector_sum(vectors):\n",
    "    result = vectors[0]\n",
    "    for vector in vectors[1:]:\n",
    "        result = vector_add(result, vector)\n",
    "    return result\n",
    "\n",
    "def vector_subtract(v, w):\n",
    "    return [v_i - w_i for v_i, w_i in zip(v,w)]\n",
    "\n",
    "def scalar_multiply(c, v):\n",
    "    return[c * v_i for v_i in v]\n",
    "\n",
    "def vector_mean(vectors):\n",
    "    n = len(vectors)\n",
    "    return scalar_multiply(1/n, vector_sum(vectors))\n",
    "\n",
    "def dot(v, w):\n",
    "    return sum(v_i * w_i for v_i, w_i in zip(v,w))\n",
    "\n",
    "def sum_of_squares(v):\n",
    "    return dot(v,v)\n",
    "\n",
    "def squared_distance(v,w):\n",
    "    return sum_of_squares(vector_subtract(v,w))"
   ]
  },
  {
   "cell_type": "code",
   "execution_count": 30,
   "metadata": {
    "collapsed": true
   },
   "outputs": [],
   "source": [
    "class KMeans(object):\n",
    "    \"\"\"performs k-means clustering\"\"\"\n",
    "\n",
    "    def __init__(self, k):\n",
    "        self.k = k          # number of clusters\n",
    "        self.means = None   # means of clusters\n",
    "\n",
    "    def classify(self, input):\n",
    "        \"\"\"return the index of the cluster closest to the input\"\"\"\n",
    "        return min(range(self.k),\n",
    "                   key=lambda i: squared_distance(input, self.means[i]))\n",
    "\n",
    "    def train(self, inputs):\n",
    "\n",
    "        self.means = random.sample(inputs, self.k)\n",
    "        assignments = None\n",
    "\n",
    "        while True:\n",
    "            # Find new assignments\n",
    "            new_assignments = list(map(self.classify, inputs))\n",
    "\n",
    "            # If no assignments have changed, we're done.\n",
    "            if assignments == new_assignments:\n",
    "                return\n",
    "\n",
    "            # Otherwise keep the new assignments,\n",
    "            assignments = new_assignments\n",
    "\n",
    "            for i in range(self.k):\n",
    "                i_points = [p for p, a in zip(inputs, assignments) if a == i]\n",
    "                # avoid divide-by-zero if i_points is empty\n",
    "                if i_points:\n",
    "                    self.means[i] = vector_mean(i_points)\n"
   ]
  },
  {
   "cell_type": "code",
   "execution_count": null,
   "metadata": {
    "collapsed": false
   },
   "outputs": [],
   "source": [
    "f = open('/Users/calvin/Documents/Lehigh/English/Research/data/cap1.pkl', 'rb')\n",
    "data_array = []\n",
    "count = 0\n",
    "x_sum = 0\n",
    "y_sum = 0\n",
    "#pull out the first 10000 tweets, note this is easy to change, but speed and space\n",
    "#concerns make this limited. I think that doing a random sample would be better\n",
    "for x in range(0,700000):\n",
    "    try:\n",
    "        dd = pkl.load(f)\n",
    "    except EOFError:\n",
    "        break\n",
    "    except Exception:\n",
    "        print(count)\n",
    "        count += 1\n",
    "        unpickler.load()\n",
    "        continue\n",
    "    else:\n",
    "        #right now we just take the first coordinate in the bounding box as the actual\n",
    "        #we could average to find the middle, but this seems good enough for now\n",
    "        if dd['coordinates'] == None:\n",
    "            if dd['place'] == None:\n",
    "                continue\n",
    "            dd['coordinates'] = dd['place']['bounding_box']['coordinates'][0][0]\n",
    "        else:\n",
    "            #account for edge case where coordinates are wrapped\n",
    "            dd['coordinates'] = dd['coordinates']['coordinates']\n",
    "            \n",
    "        #count how many samples we take\n",
    "#         count += 1\n",
    "#         # print(dd.keys())\n",
    "#         # print(dd)\n",
    "\n",
    "#         #sum up the coordinate values\n",
    "#         x_sum += dd['coordinates'][0]\n",
    "#         y_sum += dd['coordinates'][1]\n",
    "\n",
    "        #append the data point to the data array\n",
    "        data_array.append(dd)"
   ]
  },
  {
   "cell_type": "code",
   "execution_count": 143,
   "metadata": {
    "collapsed": false
   },
   "outputs": [
    {
     "name": "stdout",
     "output_type": "stream",
     "text": [
      "[('#Hiring', 11231), ('#job', 8833), ('#Job', 7615), ('#Jobs', 6855), ('#CareerArc', 5815), ('#hiring', 3224), ('#Retail', 2071), ('#MakeTVShowsEvil', 2024), ('#Hospitality', 1794), ('#', 1785), ('#Nursing', 1588), ('#Healthcare', 1440), ('#Veterans', 1378), ('#420', 1283), ('#Sales', 994), ('#NYPrimary', 853), ('#traffic', 806), ('#IT', 709), ('#CustomerService', 544), ('#Transportation', 485), ('#ImWithHer', 469), ('#trndnl', 460), ('#Blackhawks', 423), ('#FeelTheBern', 387), ('#BusinessMgmt', 372), ('#Manufacturing', 357), ('#orlpol', 325), ('#TSOUWithoutYou', 317), ('#Accounting', 311), ('#Finance', 280), ('#Engineering', 280), ('#SoundCloud', 272), ('#Clerical', 269), ('#Trump', 264), ('#NewYork', 257), ('#TweetMe', 255), ('#Toronto', 251), ('#stlblues', 250), ('#SONIC', 247), ('#Physician', 246), ('#realestate', 244), ('#Houston', 241), ('#np', 241), ('#SkilledTrade', 234), ('#BernieOrBust', 224), ('#Boston', 220), ('#Banking', 212), ('#Cosmetology', 212), ('#Repost', 208), ('#KellyJobs', 205), ('#Labor', 204), ('#cdnpoli', 204), ('#ALDUBLoveOnCue', 204), ('#AgentsofSHIELD', 202), ('#Trump2016', 202), ('#happy420', 198), ('#WednesdayWisdom', 197), ('#HR', 192), ('#photo', 191), ('#Atlanta', 190), ('#BernieSanders', 187), ('#Dallas', 182), ('#Chicago', 178), ('#music', 178), ('#nowplaying', 176), ('#Education', 173), ('#opd', 173), ('#menu', 167), ('#KellyServices', 167), ('#Marketing', 166), ('#HillaryClinton', 166), ('#nyc', 164), ('#NeverTrump', 163), ('#STLvsCHI', 161), ('#startup', 160), ('#love', 159), ('#DHHJ', 156), ('#Happy420', 156), ('#RHOBH', 155), ('#blessed', 153), ('#Miami', 152), ('#C51', 152), ('#NYC', 152), ('#ocso', 152), ('#TheFlash', 149), ('#TrumpTrain', 148), ('#TeamIronMan', 147), ('#FacilitiesMgmt', 144), ('#Columbus', 143), ('#Austin', 143), ('#StanleyCupPlayoffs', 141), ('#wcw', 141), ('#Nashville', 141), ('#TeamCap', 140), ('#GOP', 138), ('#cintasjobs', 138), ('#LGB', 136), ('#parttime', 135), ('#SupplyChain', 134), ('#GoSpursGo', 133)]\n"
     ]
    }
   ],
   "source": [
    "punctuation = list(string.punctuation)\n",
    "stop = stopwords.words('english') + punctuation + ['rt', 'via', 'I\\'m', 'I', '😂', 'like','get','don\\'t',]\n",
    "\n",
    "count_all = Counter()\n",
    "for d in data_array:\n",
    "#     tokens = preprocess(d['text'])\n",
    "    terms_stop = [term for term in preprocess(d['text']) if term not in stop]\n",
    "    terms_hash = [term for term in preprocess(d['text']) \n",
    "              if term.startswith('#')]\n",
    "    count_all.update(terms_hash)\n",
    "    \n",
    "print(count_all.most_common(100))\n"
   ]
  },
  {
   "cell_type": "code",
   "execution_count": 164,
   "metadata": {
    "collapsed": true
   },
   "outputs": [],
   "source": [
    "san_fran = [-123.2556,36.8489,-120.3223,38.4235]\n",
    "if (p.x > x && p.y > y && p.x < x+width && p.y < y+height)"
   ]
  },
  {
   "cell_type": "code",
   "execution_count": null,
   "metadata": {
    "collapsed": true
   },
   "outputs": [],
   "source": [
    "def checkBox(d, box):\n",
    "    x = d['coordinates'][0]\n",
    "    y = d['coordinates'][0]\n",
    "    if(x < box[0]) return false;\n",
    "    if(point.y < rect.y) return false;\n",
    "    if(point.x >= rect.x + rect.width) return false;\n",
    "    if(point.y >= rect.y + rect.height) return false;\n",
    "return true;"
   ]
  },
  {
   "cell_type": "code",
   "execution_count": 165,
   "metadata": {
    "collapsed": false
   },
   "outputs": [
    {
     "name": "stdout",
     "output_type": "stream",
     "text": [
      "242\n"
     ]
    }
   ],
   "source": [
    "filtered = []\n",
    "for d in data_array:\n",
    "\n",
    "    if \"#Boston\" in d['text']:\n",
    "        filtered.append(d)\n",
    "print(len(filtered))\n",
    "        "
   ]
  },
  {
   "cell_type": "code",
   "execution_count": 138,
   "metadata": {
    "collapsed": false
   },
   "outputs": [],
   "source": [
    "to_json(filtered)"
   ]
  },
  {
   "cell_type": "code",
   "execution_count": 162,
   "metadata": {
    "collapsed": false
   },
   "outputs": [
    {
     "name": "stderr",
     "output_type": "stream",
     "text": [
      "/Library/Frameworks/Python.framework/Versions/3.4/lib/python3.4/site-packages/ipykernel/__main__.py:9: FutureWarning: how in .resample() is deprecated\n",
      "the new syntax is .resample(...).sum()\n"
     ]
    }
   ],
   "source": [
    "dates = []\n",
    "eastern = pytz.timezone('US/Eastern')\n",
    "for d in filtered:\n",
    "    dates.append(d['created_at'])\n",
    "ones = [1]*len(dates)\n",
    "idx = pd.DatetimeIndex(dates).tz_localize(pytz.utc).tz_convert(eastern)\n",
    "dates_series = pd.Series(ones, index=idx)\n",
    "# Resampling / bucketing\n",
    "per_minuite = dates_series.resample('1Min', how='sum').fillna(0)\n"
   ]
  },
  {
   "cell_type": "code",
   "execution_count": 163,
   "metadata": {
    "collapsed": false,
    "scrolled": true
   },
   "outputs": [
    {
     "data": {
      "text/html": [
       "<div id=\"vis92b2798c158747acbb68553c5a49adb0\"></div>\n",
       "<script>\n",
       "   ( function() {\n",
       "     var _do_plot = function() {\n",
       "       if (typeof vg === 'undefined') {\n",
       "         window.addEventListener('vincent_libs_loaded', _do_plot)\n",
       "         return;\n",
       "       }\n",
       "       vg.parse.spec({\"axes\": [{\"scale\": \"x\", \"title\": \"Time\", \"type\": \"x\"}, {\"scale\": \"y\", \"title\": \"Freq\", \"type\": \"y\"}], \"data\": [{\"name\": \"table\", \"values\": [{\"col\": \"data\", \"idx\": 1461120180000, \"val\": 1.0}, {\"col\": \"data\", \"idx\": 1461120240000, \"val\": 0.0}, {\"col\": \"data\", \"idx\": 1461120300000, \"val\": 0.0}, {\"col\": \"data\", \"idx\": 1461120360000, \"val\": 1.0}, {\"col\": \"data\", \"idx\": 1461120420000, \"val\": 0.0}, {\"col\": \"data\", \"idx\": 1461120480000, \"val\": 0.0}, {\"col\": \"data\", \"idx\": 1461120540000, \"val\": 0.0}, {\"col\": \"data\", \"idx\": 1461120600000, \"val\": 0.0}, {\"col\": \"data\", \"idx\": 1461120660000, \"val\": 0.0}, {\"col\": \"data\", \"idx\": 1461120720000, \"val\": 0.0}, {\"col\": \"data\", \"idx\": 1461120780000, \"val\": 0.0}, {\"col\": \"data\", \"idx\": 1461120840000, \"val\": 0.0}, {\"col\": \"data\", \"idx\": 1461120900000, \"val\": 0.0}, {\"col\": \"data\", \"idx\": 1461120960000, \"val\": 1.0}, {\"col\": \"data\", \"idx\": 1461121020000, \"val\": 0.0}, {\"col\": \"data\", \"idx\": 1461121080000, \"val\": 0.0}, {\"col\": \"data\", \"idx\": 1461121140000, \"val\": 1.0}, {\"col\": \"data\", \"idx\": 1461121200000, \"val\": 0.0}, {\"col\": \"data\", \"idx\": 1461121260000, \"val\": 0.0}, {\"col\": \"data\", \"idx\": 1461121320000, \"val\": 1.0}, {\"col\": \"data\", \"idx\": 1461121380000, \"val\": 1.0}, {\"col\": \"data\", \"idx\": 1461121440000, \"val\": 1.0}, {\"col\": \"data\", \"idx\": 1461121500000, \"val\": 0.0}, {\"col\": \"data\", \"idx\": 1461121560000, \"val\": 0.0}, {\"col\": \"data\", \"idx\": 1461121620000, \"val\": 0.0}, {\"col\": \"data\", \"idx\": 1461121680000, \"val\": 0.0}, {\"col\": \"data\", \"idx\": 1461121740000, \"val\": 0.0}, {\"col\": \"data\", \"idx\": 1461121800000, \"val\": 0.0}, {\"col\": \"data\", \"idx\": 1461121860000, \"val\": 0.0}, {\"col\": \"data\", \"idx\": 1461121920000, \"val\": 0.0}, {\"col\": \"data\", \"idx\": 1461121980000, \"val\": 0.0}, {\"col\": \"data\", \"idx\": 1461122040000, \"val\": 0.0}, {\"col\": \"data\", \"idx\": 1461122100000, \"val\": 0.0}, {\"col\": \"data\", \"idx\": 1461122160000, \"val\": 0.0}, {\"col\": \"data\", \"idx\": 1461122220000, \"val\": 0.0}, {\"col\": \"data\", \"idx\": 1461122280000, \"val\": 0.0}, {\"col\": \"data\", \"idx\": 1461122340000, \"val\": 0.0}, {\"col\": \"data\", \"idx\": 1461122400000, \"val\": 0.0}, {\"col\": \"data\", \"idx\": 1461122460000, \"val\": 0.0}, {\"col\": \"data\", \"idx\": 1461122520000, \"val\": 0.0}, {\"col\": \"data\", \"idx\": 1461122580000, \"val\": 0.0}, {\"col\": \"data\", \"idx\": 1461122640000, \"val\": 0.0}, {\"col\": \"data\", \"idx\": 1461122700000, \"val\": 0.0}, {\"col\": \"data\", \"idx\": 1461122760000, \"val\": 0.0}, {\"col\": \"data\", \"idx\": 1461122820000, \"val\": 0.0}, {\"col\": \"data\", \"idx\": 1461122880000, \"val\": 0.0}, {\"col\": \"data\", \"idx\": 1461122940000, \"val\": 0.0}, {\"col\": \"data\", \"idx\": 1461123000000, \"val\": 0.0}, {\"col\": \"data\", \"idx\": 1461123060000, \"val\": 0.0}, {\"col\": \"data\", \"idx\": 1461123120000, \"val\": 0.0}, {\"col\": \"data\", \"idx\": 1461123180000, \"val\": 0.0}, {\"col\": \"data\", \"idx\": 1461123240000, \"val\": 0.0}, {\"col\": \"data\", \"idx\": 1461123300000, \"val\": 0.0}, {\"col\": \"data\", \"idx\": 1461123360000, \"val\": 0.0}, {\"col\": \"data\", \"idx\": 1461123420000, \"val\": 0.0}, {\"col\": \"data\", \"idx\": 1461123480000, \"val\": 0.0}, {\"col\": \"data\", \"idx\": 1461123540000, \"val\": 0.0}, {\"col\": \"data\", \"idx\": 1461123600000, \"val\": 0.0}, {\"col\": \"data\", \"idx\": 1461123660000, \"val\": 0.0}, {\"col\": \"data\", \"idx\": 1461123720000, \"val\": 0.0}, {\"col\": \"data\", \"idx\": 1461123780000, \"val\": 0.0}, {\"col\": \"data\", \"idx\": 1461123840000, \"val\": 0.0}, {\"col\": \"data\", \"idx\": 1461123900000, \"val\": 0.0}, {\"col\": \"data\", \"idx\": 1461123960000, \"val\": 0.0}, {\"col\": \"data\", \"idx\": 1461124020000, \"val\": 0.0}, {\"col\": \"data\", \"idx\": 1461124080000, \"val\": 0.0}, {\"col\": \"data\", \"idx\": 1461124140000, \"val\": 0.0}, {\"col\": \"data\", \"idx\": 1461124200000, \"val\": 0.0}, {\"col\": \"data\", \"idx\": 1461124260000, \"val\": 0.0}, {\"col\": \"data\", \"idx\": 1461124320000, \"val\": 0.0}, {\"col\": \"data\", \"idx\": 1461124380000, \"val\": 0.0}, {\"col\": \"data\", \"idx\": 1461124440000, \"val\": 0.0}, {\"col\": \"data\", \"idx\": 1461124500000, \"val\": 0.0}, {\"col\": \"data\", \"idx\": 1461124560000, \"val\": 0.0}, {\"col\": \"data\", \"idx\": 1461124620000, \"val\": 0.0}, {\"col\": \"data\", \"idx\": 1461124680000, \"val\": 0.0}, {\"col\": \"data\", \"idx\": 1461124740000, \"val\": 0.0}, {\"col\": \"data\", \"idx\": 1461124800000, \"val\": 0.0}, {\"col\": \"data\", \"idx\": 1461124860000, \"val\": 1.0}, {\"col\": \"data\", \"idx\": 1461124920000, \"val\": 0.0}, {\"col\": \"data\", \"idx\": 1461124980000, \"val\": 1.0}, {\"col\": \"data\", \"idx\": 1461125040000, \"val\": 0.0}, {\"col\": \"data\", \"idx\": 1461125100000, \"val\": 0.0}, {\"col\": \"data\", \"idx\": 1461125160000, \"val\": 0.0}, {\"col\": \"data\", \"idx\": 1461125220000, \"val\": 0.0}, {\"col\": \"data\", \"idx\": 1461125280000, \"val\": 0.0}, {\"col\": \"data\", \"idx\": 1461125340000, \"val\": 0.0}, {\"col\": \"data\", \"idx\": 1461125400000, \"val\": 0.0}, {\"col\": \"data\", \"idx\": 1461125460000, \"val\": 0.0}, {\"col\": \"data\", \"idx\": 1461125520000, \"val\": 0.0}, {\"col\": \"data\", \"idx\": 1461125580000, \"val\": 0.0}, {\"col\": \"data\", \"idx\": 1461125640000, \"val\": 0.0}, {\"col\": \"data\", \"idx\": 1461125700000, \"val\": 0.0}, {\"col\": \"data\", \"idx\": 1461125760000, \"val\": 0.0}, {\"col\": \"data\", \"idx\": 1461125820000, \"val\": 0.0}, {\"col\": \"data\", \"idx\": 1461125880000, \"val\": 1.0}, {\"col\": \"data\", \"idx\": 1461125940000, \"val\": 0.0}, {\"col\": \"data\", \"idx\": 1461126000000, \"val\": 0.0}, {\"col\": \"data\", \"idx\": 1461126060000, \"val\": 0.0}, {\"col\": \"data\", \"idx\": 1461126120000, \"val\": 0.0}, {\"col\": \"data\", \"idx\": 1461126180000, \"val\": 0.0}, {\"col\": \"data\", \"idx\": 1461126240000, \"val\": 1.0}, {\"col\": \"data\", \"idx\": 1461126300000, \"val\": 0.0}, {\"col\": \"data\", \"idx\": 1461126360000, \"val\": 0.0}, {\"col\": \"data\", \"idx\": 1461126420000, \"val\": 0.0}, {\"col\": \"data\", \"idx\": 1461126480000, \"val\": 0.0}, {\"col\": \"data\", \"idx\": 1461126540000, \"val\": 0.0}, {\"col\": \"data\", \"idx\": 1461126600000, \"val\": 0.0}, {\"col\": \"data\", \"idx\": 1461126660000, \"val\": 1.0}, {\"col\": \"data\", \"idx\": 1461126720000, \"val\": 0.0}, {\"col\": \"data\", \"idx\": 1461126780000, \"val\": 0.0}, {\"col\": \"data\", \"idx\": 1461126840000, \"val\": 1.0}, {\"col\": \"data\", \"idx\": 1461126900000, \"val\": 0.0}, {\"col\": \"data\", \"idx\": 1461126960000, \"val\": 0.0}, {\"col\": \"data\", \"idx\": 1461127020000, \"val\": 0.0}, {\"col\": \"data\", \"idx\": 1461127080000, \"val\": 0.0}, {\"col\": \"data\", \"idx\": 1461127140000, \"val\": 0.0}, {\"col\": \"data\", \"idx\": 1461127200000, \"val\": 0.0}, {\"col\": \"data\", \"idx\": 1461127260000, \"val\": 0.0}, {\"col\": \"data\", \"idx\": 1461127320000, \"val\": 0.0}, {\"col\": \"data\", \"idx\": 1461127380000, \"val\": 1.0}, {\"col\": \"data\", \"idx\": 1461127440000, \"val\": 0.0}, {\"col\": \"data\", \"idx\": 1461127500000, \"val\": 0.0}, {\"col\": \"data\", \"idx\": 1461127560000, \"val\": 0.0}, {\"col\": \"data\", \"idx\": 1461127620000, \"val\": 2.0}, {\"col\": \"data\", \"idx\": 1461127680000, \"val\": 0.0}, {\"col\": \"data\", \"idx\": 1461127740000, \"val\": 0.0}, {\"col\": \"data\", \"idx\": 1461127800000, \"val\": 0.0}, {\"col\": \"data\", \"idx\": 1461127860000, \"val\": 1.0}, {\"col\": \"data\", \"idx\": 1461127920000, \"val\": 0.0}, {\"col\": \"data\", \"idx\": 1461127980000, \"val\": 0.0}, {\"col\": \"data\", \"idx\": 1461128040000, \"val\": 0.0}, {\"col\": \"data\", \"idx\": 1461128100000, \"val\": 0.0}, {\"col\": \"data\", \"idx\": 1461128160000, \"val\": 0.0}, {\"col\": \"data\", \"idx\": 1461128220000, \"val\": 0.0}, {\"col\": \"data\", \"idx\": 1461128280000, \"val\": 0.0}, {\"col\": \"data\", \"idx\": 1461128340000, \"val\": 0.0}, {\"col\": \"data\", \"idx\": 1461128400000, \"val\": 0.0}, {\"col\": \"data\", \"idx\": 1461128460000, \"val\": 0.0}, {\"col\": \"data\", \"idx\": 1461128520000, \"val\": 0.0}, {\"col\": \"data\", \"idx\": 1461128580000, \"val\": 1.0}, {\"col\": \"data\", \"idx\": 1461128640000, \"val\": 0.0}, {\"col\": \"data\", \"idx\": 1461128700000, \"val\": 0.0}, {\"col\": \"data\", \"idx\": 1461128760000, \"val\": 0.0}, {\"col\": \"data\", \"idx\": 1461128820000, \"val\": 0.0}, {\"col\": \"data\", \"idx\": 1461128880000, \"val\": 0.0}, {\"col\": \"data\", \"idx\": 1461128940000, \"val\": 0.0}, {\"col\": \"data\", \"idx\": 1461129000000, \"val\": 0.0}, {\"col\": \"data\", \"idx\": 1461129060000, \"val\": 0.0}, {\"col\": \"data\", \"idx\": 1461129120000, \"val\": 0.0}, {\"col\": \"data\", \"idx\": 1461129180000, \"val\": 0.0}, {\"col\": \"data\", \"idx\": 1461129240000, \"val\": 0.0}, {\"col\": \"data\", \"idx\": 1461129300000, \"val\": 0.0}, {\"col\": \"data\", \"idx\": 1461129360000, \"val\": 0.0}, {\"col\": \"data\", \"idx\": 1461129420000, \"val\": 0.0}, {\"col\": \"data\", \"idx\": 1461129480000, \"val\": 1.0}, {\"col\": \"data\", \"idx\": 1461129540000, \"val\": 0.0}, {\"col\": \"data\", \"idx\": 1461129600000, \"val\": 0.0}, {\"col\": \"data\", \"idx\": 1461129660000, \"val\": 0.0}, {\"col\": \"data\", \"idx\": 1461129720000, \"val\": 0.0}, {\"col\": \"data\", \"idx\": 1461129780000, \"val\": 0.0}, {\"col\": \"data\", \"idx\": 1461129840000, \"val\": 0.0}, {\"col\": \"data\", \"idx\": 1461129900000, \"val\": 0.0}, {\"col\": \"data\", \"idx\": 1461129960000, \"val\": 0.0}, {\"col\": \"data\", \"idx\": 1461130020000, \"val\": 0.0}, {\"col\": \"data\", \"idx\": 1461130080000, \"val\": 0.0}, {\"col\": \"data\", \"idx\": 1461130140000, \"val\": 0.0}, {\"col\": \"data\", \"idx\": 1461130200000, \"val\": 0.0}, {\"col\": \"data\", \"idx\": 1461130260000, \"val\": 0.0}, {\"col\": \"data\", \"idx\": 1461130320000, \"val\": 0.0}, {\"col\": \"data\", \"idx\": 1461130380000, \"val\": 1.0}, {\"col\": \"data\", \"idx\": 1461130440000, \"val\": 0.0}, {\"col\": \"data\", \"idx\": 1461130500000, \"val\": 0.0}, {\"col\": \"data\", \"idx\": 1461130560000, \"val\": 0.0}, {\"col\": \"data\", \"idx\": 1461130620000, \"val\": 0.0}, {\"col\": \"data\", \"idx\": 1461130680000, \"val\": 0.0}, {\"col\": \"data\", \"idx\": 1461130740000, \"val\": 0.0}, {\"col\": \"data\", \"idx\": 1461130800000, \"val\": 0.0}, {\"col\": \"data\", \"idx\": 1461130860000, \"val\": 0.0}, {\"col\": \"data\", \"idx\": 1461130920000, \"val\": 0.0}, {\"col\": \"data\", \"idx\": 1461130980000, \"val\": 0.0}, {\"col\": \"data\", \"idx\": 1461131040000, \"val\": 0.0}, {\"col\": \"data\", \"idx\": 1461131100000, \"val\": 0.0}, {\"col\": \"data\", \"idx\": 1461131160000, \"val\": 0.0}, {\"col\": \"data\", \"idx\": 1461131220000, \"val\": 0.0}, {\"col\": \"data\", \"idx\": 1461131280000, \"val\": 1.0}, {\"col\": \"data\", \"idx\": 1461131340000, \"val\": 0.0}, {\"col\": \"data\", \"idx\": 1461131400000, \"val\": 0.0}, {\"col\": \"data\", \"idx\": 1461131460000, \"val\": 1.0}, {\"col\": \"data\", \"idx\": 1461131520000, \"val\": 0.0}, {\"col\": \"data\", \"idx\": 1461131580000, \"val\": 0.0}, {\"col\": \"data\", \"idx\": 1461131640000, \"val\": 0.0}, {\"col\": \"data\", \"idx\": 1461131700000, \"val\": 0.0}, {\"col\": \"data\", \"idx\": 1461131760000, \"val\": 0.0}, {\"col\": \"data\", \"idx\": 1461131820000, \"val\": 0.0}, {\"col\": \"data\", \"idx\": 1461131880000, \"val\": 0.0}, {\"col\": \"data\", \"idx\": 1461131940000, \"val\": 0.0}, {\"col\": \"data\", \"idx\": 1461132000000, \"val\": 0.0}, {\"col\": \"data\", \"idx\": 1461132060000, \"val\": 0.0}, {\"col\": \"data\", \"idx\": 1461132120000, \"val\": 0.0}, {\"col\": \"data\", \"idx\": 1461132180000, \"val\": 1.0}, {\"col\": \"data\", \"idx\": 1461132240000, \"val\": 0.0}, {\"col\": \"data\", \"idx\": 1461132300000, \"val\": 0.0}, {\"col\": \"data\", \"idx\": 1461132360000, \"val\": 0.0}, {\"col\": \"data\", \"idx\": 1461132420000, \"val\": 0.0}, {\"col\": \"data\", \"idx\": 1461132480000, \"val\": 0.0}, {\"col\": \"data\", \"idx\": 1461132540000, \"val\": 0.0}, {\"col\": \"data\", \"idx\": 1461132600000, \"val\": 0.0}, {\"col\": \"data\", \"idx\": 1461132660000, \"val\": 0.0}, {\"col\": \"data\", \"idx\": 1461132720000, \"val\": 0.0}, {\"col\": \"data\", \"idx\": 1461132780000, \"val\": 1.0}, {\"col\": \"data\", \"idx\": 1461132840000, \"val\": 0.0}, {\"col\": \"data\", \"idx\": 1461132900000, \"val\": 0.0}, {\"col\": \"data\", \"idx\": 1461132960000, \"val\": 0.0}, {\"col\": \"data\", \"idx\": 1461133020000, \"val\": 0.0}, {\"col\": \"data\", \"idx\": 1461133080000, \"val\": 0.0}, {\"col\": \"data\", \"idx\": 1461133140000, \"val\": 0.0}, {\"col\": \"data\", \"idx\": 1461133200000, \"val\": 0.0}, {\"col\": \"data\", \"idx\": 1461133260000, \"val\": 0.0}, {\"col\": \"data\", \"idx\": 1461133320000, \"val\": 0.0}, {\"col\": \"data\", \"idx\": 1461133380000, \"val\": 1.0}, {\"col\": \"data\", \"idx\": 1461133440000, \"val\": 0.0}, {\"col\": \"data\", \"idx\": 1461133500000, \"val\": 0.0}, {\"col\": \"data\", \"idx\": 1461133560000, \"val\": 0.0}, {\"col\": \"data\", \"idx\": 1461133620000, \"val\": 0.0}, {\"col\": \"data\", \"idx\": 1461133680000, \"val\": 0.0}, {\"col\": \"data\", \"idx\": 1461133740000, \"val\": 0.0}, {\"col\": \"data\", \"idx\": 1461133800000, \"val\": 0.0}, {\"col\": \"data\", \"idx\": 1461133860000, \"val\": 0.0}, {\"col\": \"data\", \"idx\": 1461133920000, \"val\": 0.0}, {\"col\": \"data\", \"idx\": 1461133980000, \"val\": 0.0}, {\"col\": \"data\", \"idx\": 1461134040000, \"val\": 0.0}, {\"col\": \"data\", \"idx\": 1461134100000, \"val\": 0.0}, {\"col\": \"data\", \"idx\": 1461134160000, \"val\": 0.0}, {\"col\": \"data\", \"idx\": 1461134220000, \"val\": 0.0}, {\"col\": \"data\", \"idx\": 1461134280000, \"val\": 0.0}, {\"col\": \"data\", \"idx\": 1461134340000, \"val\": 0.0}, {\"col\": \"data\", \"idx\": 1461134400000, \"val\": 0.0}, {\"col\": \"data\", \"idx\": 1461134460000, \"val\": 1.0}, {\"col\": \"data\", \"idx\": 1461134520000, \"val\": 0.0}, {\"col\": \"data\", \"idx\": 1461134580000, \"val\": 1.0}, {\"col\": \"data\", \"idx\": 1461134640000, \"val\": 0.0}, {\"col\": \"data\", \"idx\": 1461134700000, \"val\": 0.0}, {\"col\": \"data\", \"idx\": 1461134760000, \"val\": 0.0}, {\"col\": \"data\", \"idx\": 1461134820000, \"val\": 0.0}, {\"col\": \"data\", \"idx\": 1461134880000, \"val\": 1.0}, {\"col\": \"data\", \"idx\": 1461134940000, \"val\": 0.0}, {\"col\": \"data\", \"idx\": 1461135000000, \"val\": 0.0}, {\"col\": \"data\", \"idx\": 1461135060000, \"val\": 0.0}, {\"col\": \"data\", \"idx\": 1461135120000, \"val\": 0.0}, {\"col\": \"data\", \"idx\": 1461135180000, \"val\": 0.0}, {\"col\": \"data\", \"idx\": 1461135240000, \"val\": 0.0}, {\"col\": \"data\", \"idx\": 1461135300000, \"val\": 0.0}, {\"col\": \"data\", \"idx\": 1461135360000, \"val\": 0.0}, {\"col\": \"data\", \"idx\": 1461135420000, \"val\": 0.0}, {\"col\": \"data\", \"idx\": 1461135480000, \"val\": 0.0}, {\"col\": \"data\", \"idx\": 1461135540000, \"val\": 0.0}, {\"col\": \"data\", \"idx\": 1461135600000, \"val\": 0.0}, {\"col\": \"data\", \"idx\": 1461135660000, \"val\": 0.0}, {\"col\": \"data\", \"idx\": 1461135720000, \"val\": 0.0}, {\"col\": \"data\", \"idx\": 1461135780000, \"val\": 0.0}, {\"col\": \"data\", \"idx\": 1461135840000, \"val\": 0.0}, {\"col\": \"data\", \"idx\": 1461135900000, \"val\": 0.0}, {\"col\": \"data\", \"idx\": 1461135960000, \"val\": 0.0}, {\"col\": \"data\", \"idx\": 1461136020000, \"val\": 0.0}, {\"col\": \"data\", \"idx\": 1461136080000, \"val\": 0.0}, {\"col\": \"data\", \"idx\": 1461136140000, \"val\": 0.0}, {\"col\": \"data\", \"idx\": 1461136200000, \"val\": 0.0}, {\"col\": \"data\", \"idx\": 1461136260000, \"val\": 0.0}, {\"col\": \"data\", \"idx\": 1461136320000, \"val\": 0.0}, {\"col\": \"data\", \"idx\": 1461136380000, \"val\": 0.0}, {\"col\": \"data\", \"idx\": 1461136440000, \"val\": 0.0}, {\"col\": \"data\", \"idx\": 1461136500000, \"val\": 0.0}, {\"col\": \"data\", \"idx\": 1461136560000, \"val\": 0.0}, {\"col\": \"data\", \"idx\": 1461136620000, \"val\": 0.0}, {\"col\": \"data\", \"idx\": 1461136680000, \"val\": 0.0}, {\"col\": \"data\", \"idx\": 1461136740000, \"val\": 0.0}, {\"col\": \"data\", \"idx\": 1461136800000, \"val\": 0.0}, {\"col\": \"data\", \"idx\": 1461136860000, \"val\": 0.0}, {\"col\": \"data\", \"idx\": 1461136920000, \"val\": 0.0}, {\"col\": \"data\", \"idx\": 1461136980000, \"val\": 0.0}, {\"col\": \"data\", \"idx\": 1461137040000, \"val\": 0.0}, {\"col\": \"data\", \"idx\": 1461137100000, \"val\": 0.0}, {\"col\": \"data\", \"idx\": 1461137160000, \"val\": 0.0}, {\"col\": \"data\", \"idx\": 1461137220000, \"val\": 0.0}, {\"col\": \"data\", \"idx\": 1461137280000, \"val\": 0.0}, {\"col\": \"data\", \"idx\": 1461137340000, \"val\": 0.0}, {\"col\": \"data\", \"idx\": 1461137400000, \"val\": 0.0}, {\"col\": \"data\", \"idx\": 1461137460000, \"val\": 0.0}, {\"col\": \"data\", \"idx\": 1461137520000, \"val\": 0.0}, {\"col\": \"data\", \"idx\": 1461137580000, \"val\": 0.0}, {\"col\": \"data\", \"idx\": 1461137640000, \"val\": 1.0}, {\"col\": \"data\", \"idx\": 1461137700000, \"val\": 0.0}, {\"col\": \"data\", \"idx\": 1461137760000, \"val\": 0.0}, {\"col\": \"data\", \"idx\": 1461137820000, \"val\": 0.0}, {\"col\": \"data\", \"idx\": 1461137880000, \"val\": 0.0}, {\"col\": \"data\", \"idx\": 1461137940000, \"val\": 0.0}, {\"col\": \"data\", \"idx\": 1461138000000, \"val\": 0.0}, {\"col\": \"data\", \"idx\": 1461138060000, \"val\": 0.0}, {\"col\": \"data\", \"idx\": 1461138120000, \"val\": 0.0}, {\"col\": \"data\", \"idx\": 1461138180000, \"val\": 0.0}, {\"col\": \"data\", \"idx\": 1461138240000, \"val\": 0.0}, {\"col\": \"data\", \"idx\": 1461138300000, \"val\": 0.0}, {\"col\": \"data\", \"idx\": 1461138360000, \"val\": 0.0}, {\"col\": \"data\", \"idx\": 1461138420000, \"val\": 0.0}, {\"col\": \"data\", \"idx\": 1461138480000, \"val\": 0.0}, {\"col\": \"data\", \"idx\": 1461138540000, \"val\": 1.0}, {\"col\": \"data\", \"idx\": 1461138600000, \"val\": 0.0}, {\"col\": \"data\", \"idx\": 1461138660000, \"val\": 0.0}, {\"col\": \"data\", \"idx\": 1461138720000, \"val\": 0.0}, {\"col\": \"data\", \"idx\": 1461138780000, \"val\": 0.0}, {\"col\": \"data\", \"idx\": 1461138840000, \"val\": 1.0}, {\"col\": \"data\", \"idx\": 1461138900000, \"val\": 0.0}, {\"col\": \"data\", \"idx\": 1461138960000, \"val\": 0.0}, {\"col\": \"data\", \"idx\": 1461139020000, \"val\": 0.0}, {\"col\": \"data\", \"idx\": 1461139080000, \"val\": 1.0}, {\"col\": \"data\", \"idx\": 1461139140000, \"val\": 0.0}, {\"col\": \"data\", \"idx\": 1461139200000, \"val\": 0.0}, {\"col\": \"data\", \"idx\": 1461139260000, \"val\": 0.0}, {\"col\": \"data\", \"idx\": 1461139320000, \"val\": 0.0}, {\"col\": \"data\", \"idx\": 1461139380000, \"val\": 0.0}, {\"col\": \"data\", \"idx\": 1461139440000, \"val\": 0.0}, {\"col\": \"data\", \"idx\": 1461139500000, \"val\": 0.0}, {\"col\": \"data\", \"idx\": 1461139560000, \"val\": 0.0}, {\"col\": \"data\", \"idx\": 1461139620000, \"val\": 0.0}, {\"col\": \"data\", \"idx\": 1461139680000, \"val\": 1.0}, {\"col\": \"data\", \"idx\": 1461139740000, \"val\": 0.0}, {\"col\": \"data\", \"idx\": 1461139800000, \"val\": 0.0}, {\"col\": \"data\", \"idx\": 1461139860000, \"val\": 0.0}, {\"col\": \"data\", \"idx\": 1461139920000, \"val\": 0.0}, {\"col\": \"data\", \"idx\": 1461139980000, \"val\": 0.0}, {\"col\": \"data\", \"idx\": 1461140040000, \"val\": 0.0}, {\"col\": \"data\", \"idx\": 1461140100000, \"val\": 0.0}, {\"col\": \"data\", \"idx\": 1461140160000, \"val\": 0.0}, {\"col\": \"data\", \"idx\": 1461140220000, \"val\": 0.0}, {\"col\": \"data\", \"idx\": 1461140280000, \"val\": 0.0}, {\"col\": \"data\", \"idx\": 1461140340000, \"val\": 0.0}, {\"col\": \"data\", \"idx\": 1461140400000, \"val\": 1.0}, {\"col\": \"data\", \"idx\": 1461140460000, \"val\": 0.0}, {\"col\": \"data\", \"idx\": 1461140520000, \"val\": 0.0}, {\"col\": \"data\", \"idx\": 1461140580000, \"val\": 0.0}, {\"col\": \"data\", \"idx\": 1461140640000, \"val\": 0.0}, {\"col\": \"data\", \"idx\": 1461140700000, \"val\": 0.0}, {\"col\": \"data\", \"idx\": 1461140760000, \"val\": 0.0}, {\"col\": \"data\", \"idx\": 1461140820000, \"val\": 0.0}, {\"col\": \"data\", \"idx\": 1461140880000, \"val\": 0.0}, {\"col\": \"data\", \"idx\": 1461140940000, \"val\": 0.0}, {\"col\": \"data\", \"idx\": 1461141000000, \"val\": 0.0}, {\"col\": \"data\", \"idx\": 1461141060000, \"val\": 0.0}, {\"col\": \"data\", \"idx\": 1461141120000, \"val\": 0.0}, {\"col\": \"data\", \"idx\": 1461141180000, \"val\": 0.0}, {\"col\": \"data\", \"idx\": 1461141240000, \"val\": 1.0}, {\"col\": \"data\", \"idx\": 1461141300000, \"val\": 0.0}, {\"col\": \"data\", \"idx\": 1461141360000, \"val\": 0.0}, {\"col\": \"data\", \"idx\": 1461141420000, \"val\": 0.0}, {\"col\": \"data\", \"idx\": 1461141480000, \"val\": 0.0}, {\"col\": \"data\", \"idx\": 1461141540000, \"val\": 0.0}, {\"col\": \"data\", \"idx\": 1461141600000, \"val\": 0.0}, {\"col\": \"data\", \"idx\": 1461141660000, \"val\": 0.0}, {\"col\": \"data\", \"idx\": 1461141720000, \"val\": 0.0}, {\"col\": \"data\", \"idx\": 1461141780000, \"val\": 0.0}, {\"col\": \"data\", \"idx\": 1461141840000, \"val\": 0.0}, {\"col\": \"data\", \"idx\": 1461141900000, \"val\": 0.0}, {\"col\": \"data\", \"idx\": 1461141960000, \"val\": 0.0}, {\"col\": \"data\", \"idx\": 1461142020000, \"val\": 0.0}, {\"col\": \"data\", \"idx\": 1461142080000, \"val\": 0.0}, {\"col\": \"data\", \"idx\": 1461142140000, \"val\": 0.0}, {\"col\": \"data\", \"idx\": 1461142200000, \"val\": 0.0}, {\"col\": \"data\", \"idx\": 1461142260000, \"val\": 0.0}, {\"col\": \"data\", \"idx\": 1461142320000, \"val\": 0.0}, {\"col\": \"data\", \"idx\": 1461142380000, \"val\": 0.0}, {\"col\": \"data\", \"idx\": 1461142440000, \"val\": 0.0}, {\"col\": \"data\", \"idx\": 1461142500000, \"val\": 0.0}, {\"col\": \"data\", \"idx\": 1461142560000, \"val\": 0.0}, {\"col\": \"data\", \"idx\": 1461142620000, \"val\": 0.0}, {\"col\": \"data\", \"idx\": 1461142680000, \"val\": 0.0}, {\"col\": \"data\", \"idx\": 1461142740000, \"val\": 1.0}, {\"col\": \"data\", \"idx\": 1461142800000, \"val\": 0.0}, {\"col\": \"data\", \"idx\": 1461142860000, \"val\": 0.0}, {\"col\": \"data\", \"idx\": 1461142920000, \"val\": 0.0}, {\"col\": \"data\", \"idx\": 1461142980000, \"val\": 0.0}, {\"col\": \"data\", \"idx\": 1461143040000, \"val\": 1.0}, {\"col\": \"data\", \"idx\": 1461143100000, \"val\": 0.0}, {\"col\": \"data\", \"idx\": 1461143160000, \"val\": 0.0}, {\"col\": \"data\", \"idx\": 1461143220000, \"val\": 0.0}, {\"col\": \"data\", \"idx\": 1461143280000, \"val\": 0.0}, {\"col\": \"data\", \"idx\": 1461143340000, \"val\": 0.0}, {\"col\": \"data\", \"idx\": 1461143400000, \"val\": 0.0}, {\"col\": \"data\", \"idx\": 1461143460000, \"val\": 0.0}, {\"col\": \"data\", \"idx\": 1461143520000, \"val\": 0.0}, {\"col\": \"data\", \"idx\": 1461143580000, \"val\": 0.0}, {\"col\": \"data\", \"idx\": 1461143640000, \"val\": 0.0}, {\"col\": \"data\", \"idx\": 1461143700000, \"val\": 0.0}, {\"col\": \"data\", \"idx\": 1461143760000, \"val\": 0.0}, {\"col\": \"data\", \"idx\": 1461143820000, \"val\": 0.0}, {\"col\": \"data\", \"idx\": 1461143880000, \"val\": 0.0}, {\"col\": \"data\", \"idx\": 1461143940000, \"val\": 0.0}, {\"col\": \"data\", \"idx\": 1461144000000, \"val\": 1.0}, {\"col\": \"data\", \"idx\": 1461144060000, \"val\": 0.0}, {\"col\": \"data\", \"idx\": 1461144120000, \"val\": 0.0}, {\"col\": \"data\", \"idx\": 1461144180000, \"val\": 0.0}, {\"col\": \"data\", \"idx\": 1461144240000, \"val\": 1.0}, {\"col\": \"data\", \"idx\": 1461144300000, \"val\": 0.0}, {\"col\": \"data\", \"idx\": 1461144360000, \"val\": 0.0}, {\"col\": \"data\", \"idx\": 1461144420000, \"val\": 0.0}, {\"col\": \"data\", \"idx\": 1461144480000, \"val\": 1.0}, {\"col\": \"data\", \"idx\": 1461144540000, \"val\": 1.0}, {\"col\": \"data\", \"idx\": 1461144600000, \"val\": 0.0}, {\"col\": \"data\", \"idx\": 1461144660000, \"val\": 1.0}, {\"col\": \"data\", \"idx\": 1461144720000, \"val\": 0.0}, {\"col\": \"data\", \"idx\": 1461144780000, \"val\": 0.0}, {\"col\": \"data\", \"idx\": 1461144840000, \"val\": 0.0}, {\"col\": \"data\", \"idx\": 1461144900000, \"val\": 0.0}, {\"col\": \"data\", \"idx\": 1461144960000, \"val\": 0.0}, {\"col\": \"data\", \"idx\": 1461145020000, \"val\": 0.0}, {\"col\": \"data\", \"idx\": 1461145080000, \"val\": 0.0}, {\"col\": \"data\", \"idx\": 1461145140000, \"val\": 0.0}, {\"col\": \"data\", \"idx\": 1461145200000, \"val\": 0.0}, {\"col\": \"data\", \"idx\": 1461145260000, \"val\": 0.0}, {\"col\": \"data\", \"idx\": 1461145320000, \"val\": 0.0}, {\"col\": \"data\", \"idx\": 1461145380000, \"val\": 0.0}, {\"col\": \"data\", \"idx\": 1461145440000, \"val\": 0.0}, {\"col\": \"data\", \"idx\": 1461145500000, \"val\": 0.0}, {\"col\": \"data\", \"idx\": 1461145560000, \"val\": 0.0}, {\"col\": \"data\", \"idx\": 1461145620000, \"val\": 0.0}, {\"col\": \"data\", \"idx\": 1461145680000, \"val\": 0.0}, {\"col\": \"data\", \"idx\": 1461145740000, \"val\": 0.0}, {\"col\": \"data\", \"idx\": 1461145800000, \"val\": 0.0}, {\"col\": \"data\", \"idx\": 1461145860000, \"val\": 0.0}, {\"col\": \"data\", \"idx\": 1461145920000, \"val\": 0.0}, {\"col\": \"data\", \"idx\": 1461145980000, \"val\": 0.0}, {\"col\": \"data\", \"idx\": 1461146040000, \"val\": 0.0}, {\"col\": \"data\", \"idx\": 1461146100000, \"val\": 0.0}, {\"col\": \"data\", \"idx\": 1461146160000, \"val\": 0.0}, {\"col\": \"data\", \"idx\": 1461146220000, \"val\": 0.0}, {\"col\": \"data\", \"idx\": 1461146280000, \"val\": 0.0}, {\"col\": \"data\", \"idx\": 1461146340000, \"val\": 0.0}, {\"col\": \"data\", \"idx\": 1461146400000, \"val\": 0.0}, {\"col\": \"data\", \"idx\": 1461146460000, \"val\": 0.0}, {\"col\": \"data\", \"idx\": 1461146520000, \"val\": 0.0}, {\"col\": \"data\", \"idx\": 1461146580000, \"val\": 0.0}, {\"col\": \"data\", \"idx\": 1461146640000, \"val\": 0.0}, {\"col\": \"data\", \"idx\": 1461146700000, \"val\": 0.0}, {\"col\": \"data\", \"idx\": 1461146760000, \"val\": 0.0}, {\"col\": \"data\", \"idx\": 1461146820000, \"val\": 0.0}, {\"col\": \"data\", \"idx\": 1461146880000, \"val\": 0.0}, {\"col\": \"data\", \"idx\": 1461146940000, \"val\": 0.0}, {\"col\": \"data\", \"idx\": 1461147000000, \"val\": 0.0}, {\"col\": \"data\", \"idx\": 1461147060000, \"val\": 0.0}, {\"col\": \"data\", \"idx\": 1461147120000, \"val\": 0.0}, {\"col\": \"data\", \"idx\": 1461147180000, \"val\": 0.0}, {\"col\": \"data\", \"idx\": 1461147240000, \"val\": 0.0}, {\"col\": \"data\", \"idx\": 1461147300000, \"val\": 0.0}, {\"col\": \"data\", \"idx\": 1461147360000, \"val\": 0.0}, {\"col\": \"data\", \"idx\": 1461147420000, \"val\": 0.0}, {\"col\": \"data\", \"idx\": 1461147480000, \"val\": 1.0}, {\"col\": \"data\", \"idx\": 1461147540000, \"val\": 0.0}, {\"col\": \"data\", \"idx\": 1461147600000, \"val\": 0.0}, {\"col\": \"data\", \"idx\": 1461147660000, \"val\": 0.0}, {\"col\": \"data\", \"idx\": 1461147720000, \"val\": 0.0}, {\"col\": \"data\", \"idx\": 1461147780000, \"val\": 0.0}, {\"col\": \"data\", \"idx\": 1461147840000, \"val\": 0.0}, {\"col\": \"data\", \"idx\": 1461147900000, \"val\": 0.0}, {\"col\": \"data\", \"idx\": 1461147960000, \"val\": 0.0}, {\"col\": \"data\", \"idx\": 1461148020000, \"val\": 0.0}, {\"col\": \"data\", \"idx\": 1461148080000, \"val\": 0.0}, {\"col\": \"data\", \"idx\": 1461148140000, \"val\": 0.0}, {\"col\": \"data\", \"idx\": 1461148200000, \"val\": 0.0}, {\"col\": \"data\", \"idx\": 1461148260000, \"val\": 1.0}, {\"col\": \"data\", \"idx\": 1461148320000, \"val\": 0.0}, {\"col\": \"data\", \"idx\": 1461148380000, \"val\": 0.0}, {\"col\": \"data\", \"idx\": 1461148440000, \"val\": 1.0}, {\"col\": \"data\", \"idx\": 1461148500000, \"val\": 1.0}, {\"col\": \"data\", \"idx\": 1461148560000, \"val\": 0.0}, {\"col\": \"data\", \"idx\": 1461148620000, \"val\": 0.0}, {\"col\": \"data\", \"idx\": 1461148680000, \"val\": 1.0}, {\"col\": \"data\", \"idx\": 1461148740000, \"val\": 0.0}, {\"col\": \"data\", \"idx\": 1461148800000, \"val\": 0.0}, {\"col\": \"data\", \"idx\": 1461148860000, \"val\": 0.0}, {\"col\": \"data\", \"idx\": 1461148920000, \"val\": 0.0}, {\"col\": \"data\", \"idx\": 1461148980000, \"val\": 0.0}, {\"col\": \"data\", \"idx\": 1461149040000, \"val\": 0.0}, {\"col\": \"data\", \"idx\": 1461149100000, \"val\": 0.0}, {\"col\": \"data\", \"idx\": 1461149160000, \"val\": 0.0}, {\"col\": \"data\", \"idx\": 1461149220000, \"val\": 0.0}, {\"col\": \"data\", \"idx\": 1461149280000, \"val\": 0.0}, {\"col\": \"data\", \"idx\": 1461149340000, \"val\": 0.0}, {\"col\": \"data\", \"idx\": 1461149400000, \"val\": 0.0}, {\"col\": \"data\", \"idx\": 1461149460000, \"val\": 0.0}, {\"col\": \"data\", \"idx\": 1461149520000, \"val\": 0.0}, {\"col\": \"data\", \"idx\": 1461149580000, \"val\": 0.0}, {\"col\": \"data\", \"idx\": 1461149640000, \"val\": 0.0}, {\"col\": \"data\", \"idx\": 1461149700000, \"val\": 0.0}, {\"col\": \"data\", \"idx\": 1461149760000, \"val\": 1.0}, {\"col\": \"data\", \"idx\": 1461149820000, \"val\": 0.0}, {\"col\": \"data\", \"idx\": 1461149880000, \"val\": 0.0}, {\"col\": \"data\", \"idx\": 1461149940000, \"val\": 0.0}, {\"col\": \"data\", \"idx\": 1461150000000, \"val\": 0.0}, {\"col\": \"data\", \"idx\": 1461150060000, \"val\": 1.0}, {\"col\": \"data\", \"idx\": 1461150120000, \"val\": 0.0}, {\"col\": \"data\", \"idx\": 1461150180000, \"val\": 1.0}, {\"col\": \"data\", \"idx\": 1461150240000, \"val\": 0.0}, {\"col\": \"data\", \"idx\": 1461150300000, \"val\": 0.0}, {\"col\": \"data\", \"idx\": 1461150360000, \"val\": 0.0}, {\"col\": \"data\", \"idx\": 1461150420000, \"val\": 0.0}, {\"col\": \"data\", \"idx\": 1461150480000, \"val\": 0.0}, {\"col\": \"data\", \"idx\": 1461150540000, \"val\": 0.0}, {\"col\": \"data\", \"idx\": 1461150600000, \"val\": 1.0}, {\"col\": \"data\", \"idx\": 1461150660000, \"val\": 0.0}, {\"col\": \"data\", \"idx\": 1461150720000, \"val\": 0.0}, {\"col\": \"data\", \"idx\": 1461150780000, \"val\": 2.0}, {\"col\": \"data\", \"idx\": 1461150840000, \"val\": 0.0}, {\"col\": \"data\", \"idx\": 1461150900000, \"val\": 0.0}, {\"col\": \"data\", \"idx\": 1461150960000, \"val\": 0.0}, {\"col\": \"data\", \"idx\": 1461151020000, \"val\": 1.0}, {\"col\": \"data\", \"idx\": 1461151080000, \"val\": 0.0}, {\"col\": \"data\", \"idx\": 1461151140000, \"val\": 0.0}, {\"col\": \"data\", \"idx\": 1461151200000, \"val\": 0.0}, {\"col\": \"data\", \"idx\": 1461151260000, \"val\": 1.0}, {\"col\": \"data\", \"idx\": 1461151320000, \"val\": 1.0}, {\"col\": \"data\", \"idx\": 1461151380000, \"val\": 1.0}, {\"col\": \"data\", \"idx\": 1461151440000, \"val\": 0.0}, {\"col\": \"data\", \"idx\": 1461151500000, \"val\": 0.0}, {\"col\": \"data\", \"idx\": 1461151560000, \"val\": 0.0}, {\"col\": \"data\", \"idx\": 1461151620000, \"val\": 0.0}, {\"col\": \"data\", \"idx\": 1461151680000, \"val\": 0.0}, {\"col\": \"data\", \"idx\": 1461151740000, \"val\": 0.0}, {\"col\": \"data\", \"idx\": 1461151800000, \"val\": 0.0}, {\"col\": \"data\", \"idx\": 1461151860000, \"val\": 0.0}, {\"col\": \"data\", \"idx\": 1461151920000, \"val\": 0.0}, {\"col\": \"data\", \"idx\": 1461151980000, \"val\": 0.0}, {\"col\": \"data\", \"idx\": 1461152040000, \"val\": 0.0}, {\"col\": \"data\", \"idx\": 1461152100000, \"val\": 0.0}, {\"col\": \"data\", \"idx\": 1461152160000, \"val\": 1.0}, {\"col\": \"data\", \"idx\": 1461152220000, \"val\": 0.0}, {\"col\": \"data\", \"idx\": 1461152280000, \"val\": 0.0}, {\"col\": \"data\", \"idx\": 1461152340000, \"val\": 0.0}, {\"col\": \"data\", \"idx\": 1461152400000, \"val\": 1.0}, {\"col\": \"data\", \"idx\": 1461152460000, \"val\": 0.0}, {\"col\": \"data\", \"idx\": 1461152520000, \"val\": 0.0}, {\"col\": \"data\", \"idx\": 1461152580000, \"val\": 0.0}, {\"col\": \"data\", \"idx\": 1461152640000, \"val\": 0.0}, {\"col\": \"data\", \"idx\": 1461152700000, \"val\": 0.0}, {\"col\": \"data\", \"idx\": 1461152760000, \"val\": 0.0}, {\"col\": \"data\", \"idx\": 1461152820000, \"val\": 0.0}, {\"col\": \"data\", \"idx\": 1461152880000, \"val\": 0.0}, {\"col\": \"data\", \"idx\": 1461152940000, \"val\": 0.0}, {\"col\": \"data\", \"idx\": 1461153000000, \"val\": 2.0}, {\"col\": \"data\", \"idx\": 1461153060000, \"val\": 1.0}, {\"col\": \"data\", \"idx\": 1461153120000, \"val\": 0.0}, {\"col\": \"data\", \"idx\": 1461153180000, \"val\": 0.0}, {\"col\": \"data\", \"idx\": 1461153240000, \"val\": 1.0}, {\"col\": \"data\", \"idx\": 1461153300000, \"val\": 4.0}, {\"col\": \"data\", \"idx\": 1461153360000, \"val\": 0.0}, {\"col\": \"data\", \"idx\": 1461153420000, \"val\": 0.0}, {\"col\": \"data\", \"idx\": 1461153480000, \"val\": 0.0}, {\"col\": \"data\", \"idx\": 1461153540000, \"val\": 2.0}, {\"col\": \"data\", \"idx\": 1461153600000, \"val\": 4.0}, {\"col\": \"data\", \"idx\": 1461153660000, \"val\": 1.0}, {\"col\": \"data\", \"idx\": 1461153720000, \"val\": 1.0}, {\"col\": \"data\", \"idx\": 1461153780000, \"val\": 1.0}, {\"col\": \"data\", \"idx\": 1461153840000, \"val\": 3.0}, {\"col\": \"data\", \"idx\": 1461153900000, \"val\": 1.0}, {\"col\": \"data\", \"idx\": 1461153960000, \"val\": 4.0}, {\"col\": \"data\", \"idx\": 1461154020000, \"val\": 0.0}, {\"col\": \"data\", \"idx\": 1461154080000, \"val\": 0.0}, {\"col\": \"data\", \"idx\": 1461154140000, \"val\": 1.0}, {\"col\": \"data\", \"idx\": 1461154200000, \"val\": 2.0}, {\"col\": \"data\", \"idx\": 1461154260000, \"val\": 2.0}, {\"col\": \"data\", \"idx\": 1461154320000, \"val\": 0.0}, {\"col\": \"data\", \"idx\": 1461154380000, \"val\": 2.0}, {\"col\": \"data\", \"idx\": 1461154440000, \"val\": 0.0}, {\"col\": \"data\", \"idx\": 1461154500000, \"val\": 1.0}, {\"col\": \"data\", \"idx\": 1461154560000, \"val\": 4.0}, {\"col\": \"data\", \"idx\": 1461154620000, \"val\": 0.0}, {\"col\": \"data\", \"idx\": 1461154680000, \"val\": 0.0}, {\"col\": \"data\", \"idx\": 1461154740000, \"val\": 2.0}, {\"col\": \"data\", \"idx\": 1461154800000, \"val\": 1.0}, {\"col\": \"data\", \"idx\": 1461154860000, \"val\": 1.0}, {\"col\": \"data\", \"idx\": 1461154920000, \"val\": 2.0}, {\"col\": \"data\", \"idx\": 1461154980000, \"val\": 1.0}, {\"col\": \"data\", \"idx\": 1461155040000, \"val\": 0.0}, {\"col\": \"data\", \"idx\": 1461155100000, \"val\": 3.0}, {\"col\": \"data\", \"idx\": 1461155160000, \"val\": 0.0}, {\"col\": \"data\", \"idx\": 1461155220000, \"val\": 2.0}, {\"col\": \"data\", \"idx\": 1461155280000, \"val\": 2.0}, {\"col\": \"data\", \"idx\": 1461155340000, \"val\": 0.0}, {\"col\": \"data\", \"idx\": 1461155400000, \"val\": 1.0}, {\"col\": \"data\", \"idx\": 1461155460000, \"val\": 0.0}, {\"col\": \"data\", \"idx\": 1461155520000, \"val\": 2.0}, {\"col\": \"data\", \"idx\": 1461155580000, \"val\": 3.0}, {\"col\": \"data\", \"idx\": 1461155640000, \"val\": 1.0}, {\"col\": \"data\", \"idx\": 1461155700000, \"val\": 3.0}, {\"col\": \"data\", \"idx\": 1461155760000, \"val\": 1.0}, {\"col\": \"data\", \"idx\": 1461155820000, \"val\": 1.0}, {\"col\": \"data\", \"idx\": 1461155880000, \"val\": 1.0}, {\"col\": \"data\", \"idx\": 1461155940000, \"val\": 1.0}, {\"col\": \"data\", \"idx\": 1461156000000, \"val\": 0.0}, {\"col\": \"data\", \"idx\": 1461156060000, \"val\": 3.0}, {\"col\": \"data\", \"idx\": 1461156120000, \"val\": 3.0}, {\"col\": \"data\", \"idx\": 1461156180000, \"val\": 2.0}, {\"col\": \"data\", \"idx\": 1461156240000, \"val\": 2.0}, {\"col\": \"data\", \"idx\": 1461156300000, \"val\": 0.0}, {\"col\": \"data\", \"idx\": 1461156360000, \"val\": 1.0}, {\"col\": \"data\", \"idx\": 1461156420000, \"val\": 0.0}, {\"col\": \"data\", \"idx\": 1461156480000, \"val\": 1.0}, {\"col\": \"data\", \"idx\": 1461156540000, \"val\": 3.0}, {\"col\": \"data\", \"idx\": 1461156600000, \"val\": 1.0}, {\"col\": \"data\", \"idx\": 1461156660000, \"val\": 0.0}, {\"col\": \"data\", \"idx\": 1461156720000, \"val\": 3.0}, {\"col\": \"data\", \"idx\": 1461156780000, \"val\": 2.0}, {\"col\": \"data\", \"idx\": 1461156840000, \"val\": 1.0}, {\"col\": \"data\", \"idx\": 1461156900000, \"val\": 2.0}, {\"col\": \"data\", \"idx\": 1461156960000, \"val\": 0.0}, {\"col\": \"data\", \"idx\": 1461157020000, \"val\": 1.0}, {\"col\": \"data\", \"idx\": 1461157080000, \"val\": 2.0}, {\"col\": \"data\", \"idx\": 1461157140000, \"val\": 0.0}, {\"col\": \"data\", \"idx\": 1461157200000, \"val\": 3.0}, {\"col\": \"data\", \"idx\": 1461157260000, \"val\": 0.0}, {\"col\": \"data\", \"idx\": 1461157320000, \"val\": 2.0}, {\"col\": \"data\", \"idx\": 1461157380000, \"val\": 0.0}, {\"col\": \"data\", \"idx\": 1461157440000, \"val\": 1.0}, {\"col\": \"data\", \"idx\": 1461157500000, \"val\": 0.0}, {\"col\": \"data\", \"idx\": 1461157560000, \"val\": 0.0}, {\"col\": \"data\", \"idx\": 1461157620000, \"val\": 1.0}, {\"col\": \"data\", \"idx\": 1461157680000, \"val\": 0.0}, {\"col\": \"data\", \"idx\": 1461157740000, \"val\": 1.0}, {\"col\": \"data\", \"idx\": 1461157800000, \"val\": 4.0}, {\"col\": \"data\", \"idx\": 1461157860000, \"val\": 2.0}, {\"col\": \"data\", \"idx\": 1461157920000, \"val\": 1.0}, {\"col\": \"data\", \"idx\": 1461157980000, \"val\": 1.0}, {\"col\": \"data\", \"idx\": 1461158040000, \"val\": 2.0}, {\"col\": \"data\", \"idx\": 1461158100000, \"val\": 1.0}, {\"col\": \"data\", \"idx\": 1461158160000, \"val\": 4.0}, {\"col\": \"data\", \"idx\": 1461158220000, \"val\": 2.0}, {\"col\": \"data\", \"idx\": 1461158280000, \"val\": 0.0}, {\"col\": \"data\", \"idx\": 1461158340000, \"val\": 1.0}, {\"col\": \"data\", \"idx\": 1461158400000, \"val\": 3.0}, {\"col\": \"data\", \"idx\": 1461158460000, \"val\": 1.0}, {\"col\": \"data\", \"idx\": 1461158520000, \"val\": 2.0}, {\"col\": \"data\", \"idx\": 1461158580000, \"val\": 0.0}, {\"col\": \"data\", \"idx\": 1461158640000, \"val\": 1.0}, {\"col\": \"data\", \"idx\": 1461158700000, \"val\": 1.0}, {\"col\": \"data\", \"idx\": 1461158760000, \"val\": 0.0}, {\"col\": \"data\", \"idx\": 1461158820000, \"val\": 4.0}, {\"col\": \"data\", \"idx\": 1461158880000, \"val\": 1.0}, {\"col\": \"data\", \"idx\": 1461158940000, \"val\": 0.0}, {\"col\": \"data\", \"idx\": 1461159000000, \"val\": 2.0}, {\"col\": \"data\", \"idx\": 1461159060000, \"val\": 1.0}, {\"col\": \"data\", \"idx\": 1461159120000, \"val\": 1.0}, {\"col\": \"data\", \"idx\": 1461159180000, \"val\": 2.0}, {\"col\": \"data\", \"idx\": 1461159240000, \"val\": 0.0}, {\"col\": \"data\", \"idx\": 1461159300000, \"val\": 1.0}, {\"col\": \"data\", \"idx\": 1461159360000, \"val\": 1.0}, {\"col\": \"data\", \"idx\": 1461159420000, \"val\": 3.0}, {\"col\": \"data\", \"idx\": 1461159480000, \"val\": 0.0}, {\"col\": \"data\", \"idx\": 1461159540000, \"val\": 0.0}, {\"col\": \"data\", \"idx\": 1461159600000, \"val\": 2.0}, {\"col\": \"data\", \"idx\": 1461159660000, \"val\": 3.0}, {\"col\": \"data\", \"idx\": 1461159720000, \"val\": 1.0}, {\"col\": \"data\", \"idx\": 1461159780000, \"val\": 4.0}, {\"col\": \"data\", \"idx\": 1461159840000, \"val\": 1.0}, {\"col\": \"data\", \"idx\": 1461159900000, \"val\": 0.0}, {\"col\": \"data\", \"idx\": 1461159960000, \"val\": 1.0}, {\"col\": \"data\", \"idx\": 1461160020000, \"val\": 2.0}, {\"col\": \"data\", \"idx\": 1461160080000, \"val\": 2.0}, {\"col\": \"data\", \"idx\": 1461160140000, \"val\": 2.0}, {\"col\": \"data\", \"idx\": 1461160200000, \"val\": 2.0}, {\"col\": \"data\", \"idx\": 1461160260000, \"val\": 0.0}, {\"col\": \"data\", \"idx\": 1461160320000, \"val\": 3.0}, {\"col\": \"data\", \"idx\": 1461160380000, \"val\": 1.0}, {\"col\": \"data\", \"idx\": 1461160440000, \"val\": 1.0}, {\"col\": \"data\", \"idx\": 1461160500000, \"val\": 3.0}, {\"col\": \"data\", \"idx\": 1461160560000, \"val\": 2.0}, {\"col\": \"data\", \"idx\": 1461160620000, \"val\": 0.0}, {\"col\": \"data\", \"idx\": 1461160680000, \"val\": 2.0}, {\"col\": \"data\", \"idx\": 1461160740000, \"val\": 3.0}, {\"col\": \"data\", \"idx\": 1461160800000, \"val\": 0.0}, {\"col\": \"data\", \"idx\": 1461160860000, \"val\": 0.0}, {\"col\": \"data\", \"idx\": 1461160920000, \"val\": 1.0}, {\"col\": \"data\", \"idx\": 1461160980000, \"val\": 0.0}, {\"col\": \"data\", \"idx\": 1461161040000, \"val\": 2.0}, {\"col\": \"data\", \"idx\": 1461161100000, \"val\": 2.0}, {\"col\": \"data\", \"idx\": 1461161160000, \"val\": 0.0}, {\"col\": \"data\", \"idx\": 1461161220000, \"val\": 1.0}]}], \"height\": 500, \"legends\": [], \"marks\": [{\"from\": {\"data\": \"table\", \"transform\": [{\"keys\": [\"data.col\"], \"type\": \"facet\"}]}, \"marks\": [{\"properties\": {\"enter\": {\"stroke\": {\"field\": \"data.col\", \"scale\": \"color\"}, \"strokeWidth\": {\"value\": 2}, \"x\": {\"field\": \"data.idx\", \"scale\": \"x\"}, \"y\": {\"field\": \"data.val\", \"scale\": \"y\"}}}, \"type\": \"line\"}], \"type\": \"group\"}], \"padding\": \"auto\", \"scales\": [{\"domain\": {\"data\": \"table\", \"field\": \"data.idx\"}, \"name\": \"x\", \"range\": \"width\", \"type\": \"time\"}, {\"domain\": {\"data\": \"table\", \"field\": \"data.val\"}, \"name\": \"y\", \"nice\": true, \"range\": \"height\"}, {\"domain\": {\"data\": \"table\", \"field\": \"data.col\"}, \"name\": \"color\", \"range\": \"category20\", \"type\": \"ordinal\"}], \"width\": 960}, function(chart) {\n",
       "         chart({el: \"#vis92b2798c158747acbb68553c5a49adb0\"}).update();\n",
       "       });\n",
       "     };\n",
       "     _do_plot();\n",
       "   })();\n",
       "</script>\n",
       "<style>.vega canvas {width: 100%;}</style>\n",
       "        "
      ],
      "text/plain": [
       "<vincent.charts.Line at 0x1bc7609b0>"
      ]
     },
     "execution_count": 163,
     "metadata": {},
     "output_type": "execute_result"
    }
   ],
   "source": [
    "time_chart = vincent.Line(per_minuite)\n",
    "time_chart.axis_titles(x='Time', y='Freq')"
   ]
  },
  {
   "cell_type": "code",
   "execution_count": 174,
   "metadata": {
    "collapsed": false
   },
   "outputs": [
    {
     "name": "stdout",
     "output_type": "stream",
     "text": [
      "0\n",
      "{'geo': None, 'in_reply_to_user_id': None, 'lang': 'en', 'source': '<a href=\"http://twitter.com/download/iphone\" rel=\"nofollow\">Twitter for iPhone</a>', 'favorited': False, 'id_str': '722788938310483968', 'in_reply_to_screen_name': None, 'id': 722788938310483968, 'is_quote_status': False, 'place': {'name': 'Wichita Falls', 'place_type': 'city', 'country_code': 'US', 'attributes': {}, 'url': 'https://api.twitter.com/1.1/geo/id/b980515f617707a9.json', 'id': 'b980515f617707a9', 'country': 'United States', 'full_name': 'Wichita Falls, TX', 'bounding_box': {'coordinates': [[[-98.614411, 33.835461], [-98.614411, 34.017379], [-98.425702, 34.017379], [-98.425702, 33.835461]]], 'type': 'Polygon'}}, 'contributors': None, 'retweeted': False, 'text': \"&amp; if that doesn't describe our generation &amp; what's going wrong &amp; causing so much heartache then idk man.\", 'in_reply_to_status_id_str': None, 'timestamp_ms': '1461161286319', 'in_reply_to_user_id_str': None, 'retweet_count': 0, 'entities': {'user_mentions': [], 'symbols': [], 'hashtags': [], 'urls': []}, 'truncated': False, 'user': {'profile_image_url_https': 'https://pbs.twimg.com/profile_images/720836454050496512/YeiJMby-_normal.jpg', 'protected': False, 'contributors_enabled': False, 'url': None, 'time_zone': 'Central Time (US & Canada)', 'profile_link_color': '0099B9', 'location': 'Texas', 'lang': 'en', 'default_profile_image': False, 'profile_image_url': 'http://pbs.twimg.com/profile_images/720836454050496512/YeiJMby-_normal.jpg', 'profile_background_color': '0099B9', 'statuses_count': 31867, 'profile_sidebar_fill_color': '95E8EC', 'id_str': '751585933', 'following': None, 'id': 751585933, 'follow_request_sent': None, 'geo_enabled': True, 'listed_count': 5, 'profile_use_background_image': True, 'notifications': None, 'profile_background_tile': False, 'name': 'Bailey', 'profile_sidebar_border_color': '5ED4DC', 'screen_name': 'baileeeeys', 'utc_offset': -18000, 'description': None, 'profile_background_image_url_https': 'https://abs.twimg.com/images/themes/theme4/bg.gif', 'profile_banner_url': 'https://pbs.twimg.com/profile_banners/751585933/1458859136', 'profile_background_image_url': 'http://abs.twimg.com/images/themes/theme4/bg.gif', 'default_profile': False, 'followers_count': 536, 'created_at': 'Sat Aug 11 17:04:56 +0000 2012', 'friends_count': 280, 'verified': False, 'favourites_count': 10244, 'profile_text_color': '3C3940', 'is_translator': False}, 'coordinates': [-98.614411, 33.835461], 'filter_level': 'low', 'in_reply_to_status_id': None, 'created_at': 'Wed Apr 20 14:08:06 +0000 2016', 'favorite_count': 0}\n"
     ]
    }
   ],
   "source": [
    "max_rt = data_array[0]['retweet_count']\n",
    "tweet = data_array[0]\n",
    "for d in data_array:\n",
    "    if d['retweet_count'] > max_rt:\n",
    "        max_rt = d['retweet_count']\n",
    "        tweet = d\n",
    "print(max_rt)\n",
    "print(d)"
   ]
  },
  {
   "cell_type": "code",
   "execution_count": null,
   "metadata": {
    "collapsed": true
   },
   "outputs": [],
   "source": [
    "print(data_array[-1])"
   ]
  }
 ],
 "metadata": {
  "kernelspec": {
   "display_name": "Python 3",
   "language": "python",
   "name": "python3"
  },
  "language_info": {
   "codemirror_mode": {
    "name": "ipython",
    "version": 3
   },
   "file_extension": ".py",
   "mimetype": "text/x-python",
   "name": "python",
   "nbconvert_exporter": "python",
   "pygments_lexer": "ipython3",
   "version": "3.4.3"
  }
 },
 "nbformat": 4,
 "nbformat_minor": 0
}
