{
 "cells": [
  {
   "cell_type": "code",
   "execution_count": 1,
   "metadata": {
    "collapsed": false
   },
   "outputs": [
    {
     "data": {
      "text/html": [
       "\n",
       "           <script>\n",
       "               \n",
       "                function vct_load_lib(url, callback){\n",
       "                      if(typeof d3 !== 'undefined' &&\n",
       "                         url === 'http://d3js.org/d3.v3.min.js'){\n",
       "                        callback()\n",
       "                      }\n",
       "                      var s = document.createElement('script');\n",
       "                      s.src = url;\n",
       "                      s.async = true;\n",
       "                      s.onreadystatechange = s.onload = callback;\n",
       "                      s.onerror = function(){\n",
       "                        console.warn(\"failed to load library \" + url);\n",
       "                        };\n",
       "                      document.getElementsByTagName(\"head\")[0].appendChild(s);\n",
       "                };\n",
       "                var vincent_event = new CustomEvent(\n",
       "                  \"vincent_libs_loaded\",\n",
       "                  {bubbles: true, cancelable: true}\n",
       "                );\n",
       "                \n",
       "               function load_all_libs(){\n",
       "                  console.log('Loading Vincent libs...')\n",
       "                  vct_load_lib('http://d3js.org/d3.v3.min.js', function(){\n",
       "                  vct_load_lib('http://d3js.org/d3.geo.projection.v0.min.js', function(){\n",
       "                  vct_load_lib('http://wrobstory.github.io/d3-cloud/d3.layout.cloud.js', function(){\n",
       "                  vct_load_lib('http://wrobstory.github.io/vega/vega.v1.3.3.js', function(){\n",
       "                  window.dispatchEvent(vincent_event);\n",
       "                  });\n",
       "                  });\n",
       "                  });\n",
       "                  });\n",
       "               };\n",
       "               if(typeof define === \"function\" && define.amd){\n",
       "                    if (window['d3'] === undefined ||\n",
       "                        window['topojson'] === undefined){\n",
       "                        require.config(\n",
       "                            {paths: {\n",
       "                              d3: 'http://d3js.org/d3.v3.min',\n",
       "                              topojson: 'http://d3js.org/topojson.v1.min'\n",
       "                              }\n",
       "                            }\n",
       "                          );\n",
       "                        require([\"d3\"], function(d3){\n",
       "                            console.log('Loading Vincent from require.js...')\n",
       "                            window.d3 = d3;\n",
       "                            require([\"topojson\"], function(topojson){\n",
       "                                window.topojson = topojson;\n",
       "                                load_all_libs();\n",
       "                            });\n",
       "                        });\n",
       "                    } else {\n",
       "                        load_all_libs();\n",
       "                    };\n",
       "               }else{\n",
       "                    console.log('Require.js not found, loading manually...')\n",
       "                    load_all_libs();\n",
       "               };\n",
       "\n",
       "           </script>"
      ],
      "text/plain": [
       "<IPython.core.display.HTML object>"
      ]
     },
     "metadata": {},
     "output_type": "display_data"
    }
   ],
   "source": [
    "import pickle as pkl\n",
    "import numpy as np\n",
    "import matplotlib.pyplot as plt\n",
    "import json\n",
    "from nltk.tokenize import word_tokenize\n",
    "import re\n",
    "from collections import Counter\n",
    "from nltk.corpus import stopwords\n",
    "import string\n",
    "import pandas as pd\n",
    "import pytz\n",
    "import vincent\n",
    "import random\n",
    "vincent.core.initialize_notebook()\n",
    "%matplotlib inline"
   ]
  },
  {
   "cell_type": "markdown",
   "metadata": {},
   "source": [
    "# Define Helper Methods"
   ]
  },
  {
   "cell_type": "markdown",
   "metadata": {},
   "source": [
    "## Text Processing Methods\n",
    "methods and regular expressions for doing tweet preprocessing"
   ]
  },
  {
   "cell_type": "code",
   "execution_count": 2,
   "metadata": {
    "collapsed": true
   },
   "outputs": [],
   "source": [
    "#regex to filter out emoticons\n",
    "emoticons_str = r\"\"\"\n",
    "    (?:\n",
    "        [:=;] \n",
    "        [oO\\-]? \n",
    "        [D\\)\\]\\(\\]/\\\\OpP] \n",
    "    )\"\"\"\n",
    " \n",
    "#regex to filter bad strings    \n",
    "regex_str = [\n",
    "    emoticons_str,\n",
    "    r'<[^>]+>', # HTML tags\n",
    "    r'(?:@[\\w_]+)', # @-mentions\n",
    "    r\"(?:\\#+[\\w_]+[\\w\\'_\\-]*[\\w_]+)\", # hash-tags\n",
    "    r'http[s]?://(?:[a-z]|[0-9]|[$-_@.&+]|[!*\\(\\),]|(?:%[0-9a-f][0-9a-f]))+', # URLs\n",
    " \n",
    "    r'(?:(?:\\d+,?)+(?:\\.?\\d+)?)', # numbers\n",
    "    r\"(?:[a-z][a-z'\\-_]+[a-z])\", # words with - and '\n",
    "    r'(?:[\\w_]+)', # other words\n",
    "    r'(?:\\S)' # anything else\n",
    "]\n",
    "\n",
    "#use re to compile the regex\n",
    "tokens_re = re.compile(r'('+'|'.join(regex_str)+')', re.VERBOSE | re.IGNORECASE)\n",
    "emoticon_re = re.compile(r'^'+emoticons_str+'$', re.VERBOSE | re.IGNORECASE)\n",
    "   \n",
    "def tokenize(s):\n",
    "    \"\"\"\n",
    "    Tokenizes a string\n",
    "    -Parameter s: The string to tokenize\n",
    "    -Return: The tokenized string\n",
    "    \"\"\"\n",
    "    return tokens_re.findall(s)\n",
    " \n",
    "def preprocess(s, lowercase=False):\n",
    "    \"\"\"\n",
    "    Preprocesses string by tokenizing and applying the emoticon and string regex\n",
    "    Parameter s: The string to preprocess\n",
    "    Return: The list of the processed tokens\n",
    "    \"\"\"\n",
    "    tokens = tokenize(s)\n",
    "    if lowercase:\n",
    "        tokens = [token if emoticon_re.search(token) else token.lower() for token in tokens]\n",
    "    return tokens"
   ]
  },
  {
   "cell_type": "markdown",
   "metadata": {},
   "source": [
    "## Map Helper Methods\n",
    "Methods to aid in the mapping of tweets using leaflet.js"
   ]
  },
  {
   "cell_type": "code",
   "execution_count": 3,
   "metadata": {
    "collapsed": true
   },
   "outputs": [],
   "source": [
    "def to_json(data_array):\n",
    "    \"\"\"\n",
    "    Converts an array of tweets into a json file that can be used by leaflet.js to create a map and\n",
    "    saves the json file to the directory using the name geo_data.json. Note that this quietly overwrites\n",
    "    the current data_array so be careful using it\n",
    "    -Parameter data_array: The array to be converted\n",
    "    \"\"\"\n",
    "    #initialize geo_data json (just a dict here) to feed in to the maps\n",
    "    geo_data = {\n",
    "        \"type\": \"FeatureCollection\",\n",
    "        \"features\": []\n",
    "    }\n",
    "\n",
    "    #populate the json file\n",
    "    for d in data_array:\n",
    "        geo_json_feature = {\n",
    "                \"type\": \"Feature\",\n",
    "                \"geometry\": {\"type\" : \"Point\", \"coordinates\" : d['coordinates']},\n",
    "                \"properties\": {\n",
    "                    \"text\": d['text'],\n",
    "                    \"created_at\": d['created_at']\n",
    "                }\n",
    "            }\n",
    "        geo_data['features'].append(geo_json_feature)\n",
    "\n",
    "    #write the json out to a file\n",
    "    with open('geo_data.json', 'w') as fout:\n",
    "        fout.write(json.dumps(geo_data, indent=4))"
   ]
  },
  {
   "cell_type": "markdown",
   "metadata": {},
   "source": [
    "## Vector Helper Methods\n",
    "methods for doing useful computations using vectors in python list form"
   ]
  },
  {
   "cell_type": "code",
   "execution_count": 4,
   "metadata": {
    "collapsed": true
   },
   "outputs": [],
   "source": [
    "#Note vectors here are denoted by normal python lists\n",
    "\n",
    "def vector_add(v,w):\n",
    "    \"\"\"\n",
    "    Perform a vector addition with two vectors\n",
    "    -Parameter v: The first vector to add\n",
    "    -Parameter w: The second vector to add\n",
    "    -Return: The two vectors added together elementwise \n",
    "    ex. [0,2] + [1,1] = [1,3]\n",
    "    \"\"\"\n",
    "    return[v_i + w_i for v_i, w_i in zip(v,w)]\n",
    "\n",
    "def vector_sum(vectors):\n",
    "    \"\"\"\n",
    "    Perform a vector sum with an array of vectors\n",
    "    -Parameter vectors: A list holding the vectors to be added\n",
    "    -Return: The list of vectors added together \n",
    "    ex. [0,2] + [1,1] + [2,2] = [3,5]\n",
    "    \"\"\"\n",
    "    result = vectors[0]\n",
    "    for vector in vectors[1:]:\n",
    "        result = vector_add(result, vector)\n",
    "    return result\n",
    "\n",
    "def vector_subtract(v, w):\n",
    "    \"\"\"\n",
    "    Perform a vector subtraction with two vectors as v-w\n",
    "    -Parameter v: The vector to be subtracted from\n",
    "    -Parameter w: The vector to subtract\n",
    "    -Return: The two vectors subtracted elementwise \n",
    "    ex. [1,3] - [1,1] = [0,2]\n",
    "    \"\"\"\n",
    "    return [v_i - w_i for v_i, w_i in zip(v,w)]\n",
    "\n",
    "def scalar_multiply(c, v):\n",
    "    \"\"\"\n",
    "    Preform a scalar multiplication on vector v by constant c\n",
    "    -Paramter c: The constant to be multiplied by\n",
    "    -Paramter v: The vector to be scalar multiplied\n",
    "    -Return The vector scalar multiplied by c\n",
    "    ex. 3 * [1,2] = [3,6]\n",
    "    \"\"\"\n",
    "    return[c * v_i for v_i in v]\n",
    "\n",
    "def vector_mean(vectors):\n",
    "    \"\"\"\n",
    "    Compute a component wise mean for a list of vectors\n",
    "    -Parameter vectors: The list of vectors to be averaged\n",
    "    -Return a vector whose elements are the componentwise means of the vectors in the vector list\n",
    "    ex. vector_mean([[0,1], [1,1]]) = [0.5,1]\n",
    "    \"\"\"\n",
    "    n = len(vectors)\n",
    "    return scalar_multiply(1/n, vector_sum(vectors))\n",
    "\n",
    "def dot(v, w):\n",
    "    \"\"\"\n",
    "    Compute v dot w. Note order does not matter because v dot w = w dot v for all vectors\n",
    "    -Parameter v: a vector to be dotted\n",
    "    -Parameter w: the second vector to be dotted\n",
    "    -Return v dot w\n",
    "    ex. [1,1] dot [2,2] = 4\n",
    "    \"\"\"\n",
    "    return sum(v_i * w_i for v_i, w_i in zip(v,w))\n",
    "\n",
    "def sum_of_squares(v):\n",
    "    \"\"\"\n",
    "    Returns the sum of squares for a given vector. Note this is just v dot v\n",
    "    -Parameter v: The vector to be summed\n",
    "    -Return the sum of squares of vector v. Can be sqrted to get vector length\n",
    "    ex. sum_of_squares([2,2]) = 8\n",
    "    \"\"\"\n",
    "    return dot(v,v)\n",
    "\n",
    "def squared_distance(v,w):\n",
    "    \"\"\"\n",
    "    Computes the squared distance between two vectors. Note this is just the sum of squares of v-w\n",
    "    -Parameter v: The first vector\n",
    "    -Parameter w: The second vector\n",
    "    -Return The squared distance between two vectors. Can be sqrted to get vector distance\n",
    "    ex. sum_of_squares([2,2],[1,1]) = 2\n",
    "    \"\"\"\n",
    "    return sum_of_squares(vector_subtract(v,w))"
   ]
  },
  {
   "cell_type": "code",
   "execution_count": 5,
   "metadata": {
    "collapsed": true
   },
   "outputs": [],
   "source": [
    "class KMeans(object):\n",
    "    \"\"\"performs k-means clustering\"\"\"\n",
    "\n",
    "    def __init__(self, k):\n",
    "        \"\"\"\n",
    "        Init the KMeans object\n",
    "        -Parameter k: the number of clusters to find\n",
    "        \"\"\"\n",
    "        self.k = k          # number of clusters\n",
    "        self.means = None   # means of clusters\n",
    "\n",
    "    def classify(self, input_vector):\n",
    "        \"\"\"\n",
    "        Return the index of the cluster closest to the input\n",
    "        -Parameter input_vector: the vector to be classified\n",
    "        -Return the cluster closest to the input_vector\n",
    "        \"\"\"\n",
    "        return min(range(self.k),\n",
    "                   key=lambda i: squared_distance(input_vector, self.means[i]))\n",
    "\n",
    "    def train(self, inputs):\n",
    "        \"\"\"\n",
    "        Train the k means object on a given input of vector arrays. Finds K means of clusters in the data\n",
    "        -Parameter inputs: The list of vectors to be trained on\n",
    "        \"\"\"\n",
    "        \n",
    "        #randomly pick the means to start out with\n",
    "        self.means = random.sample(inputs, self.k)\n",
    "        assignments = None\n",
    "\n",
    "        while True:\n",
    "            # Find new assignments\n",
    "            new_assignments = list(map(self.classify, inputs))\n",
    "\n",
    "            # If no assignments have changed, then we have convergence and are done\n",
    "            if assignments == new_assignments:\n",
    "                return\n",
    "\n",
    "            # Otherwise keep the new assignments,\n",
    "            assignments = new_assignments\n",
    "\n",
    "            for i in range(self.k):\n",
    "                i_points = [p for p, a in zip(inputs, assignments) if a == i]\n",
    "                # avoid divide-by-zero if i_points is empty\n",
    "                if i_points:\n",
    "                    self.means[i] = vector_mean(i_points)\n"
   ]
  },
  {
   "cell_type": "markdown",
   "metadata": {},
   "source": [
    "## Data Analysis and Filtration Helper Methods\n",
    "Methods to help with analysis and filtration of the data\n",
    "Note the bounding boxes are specified in the following form:\n",
    "[left_lower_lat, left_lower_long, right_upper_lat, right_upper_long]\n",
    "\n",
    "coordinates are in WSG84"
   ]
  },
  {
   "cell_type": "code",
   "execution_count": 6,
   "metadata": {
    "collapsed": true
   },
   "outputs": [],
   "source": [
    "def plot_bar(datums):\n",
    "    \"\"\"\n",
    "    Plots a bar graph of the passed list of tuples ordered (name, score)\n",
    "    -Parameter datums: The list of tuples to be plotted\n",
    "    \"\"\"\n",
    "    datums.sort(key=lambda x: x[1], reverse=True) \n",
    "    hashtag = list(zip(*datums))[0]\n",
    "    score = list(zip(*datums))[1]\n",
    "    x_pos = np.arange(len(hashtag)) \n",
    "    plt.figure(figsize=(20, 10))\n",
    "    plt.bar(x_pos, score,align='center')\n",
    "    plt.xticks(x_pos, hashtag) \n",
    "    plt.ylabel('Score')\n",
    "    "
   ]
  },
  {
   "cell_type": "code",
   "execution_count": 7,
   "metadata": {
    "collapsed": true
   },
   "outputs": [],
   "source": [
    "def filter_geo(d_array, loc):\n",
    "    \"\"\"\n",
    "    Filters a given array of tweets to only include tweets within a the given bounding box.\n",
    "    -Parameter d_array: The array of tweets to be filtered\n",
    "    -Parameter loc: The bounding box to be filtered\n",
    "    -Return: A list containing the filtered tweets\n",
    "    \"\"\"\n",
    "    geo_array = []\n",
    "    for dd in d_array:\n",
    "        if(checkBox(dd,loc)):\n",
    "            #append the data point to the data array\n",
    "            geo_array.append(dd)\n",
    "    return geo_array\n",
    "    "
   ]
  },
  {
   "cell_type": "code",
   "execution_count": 8,
   "metadata": {
    "collapsed": true
   },
   "outputs": [],
   "source": [
    "#Bounding Boxes of the most populous cities in the US and a few others to get a better spread\n",
    "nyc = [-74,40,-73,41]\n",
    "san_fran = [-122.75,36.8,-121.75,37.8]\n",
    "la = [-118.668176,33.703692,-118.155289,34.337306]\n",
    "chicago = [-87.940267,41.644335,-87.524044,42.023131]\n",
    "houston = [-95.788087,29.523624,-95.014496,30.110732]\n",
    "philadelphia = [-75.280303,39.871514,-74.955763,40.137992]\n",
    "phoenix = [-112.324056,33.29026,-111.926046,33.92057]\n",
    "san_antonio = [-98.805851,29.224141,-98.222958,29.73872]\n",
    "san_diego = [-117.282167,32.534856,-116.90816,33.114249]\n",
    "dallas = [-96.998941,32.617537,-96.463738,33.023792]\n",
    "san_jose = [-122.045668,37.124493,-121.589154,37.469538]\n",
    "seattle = [-122.435908,47.495551,-122.235903,47.734145]\n",
    "denver = [-105.109927,39.614431,-104.600296,39.914247]\n",
    "nashville = [-87.054903,35.967785,-86.515588,36.405496]"
   ]
  },
  {
   "cell_type": "code",
   "execution_count": 9,
   "metadata": {
    "collapsed": false
   },
   "outputs": [],
   "source": [
    "def checkBox(d, box):\n",
    "    \"\"\"\n",
    "    Checks if a given tweet is inside a bounding box\n",
    "    -Parameter d: The tweet to be checked\n",
    "    -Parameter box: The bounding box to be checked\n",
    "    -Return: True if the tweet is inside the box. False if it is outside\n",
    "    \"\"\"\n",
    "    x = d['coordinates'][0]\n",
    "    y = d['coordinates'][1]\n",
    "    if(x < box[0]): \n",
    "        return False\n",
    "    if(y < box[1]): \n",
    "        return False\n",
    "    if(x >= box[2]): \n",
    "        return False\n",
    "    if(y >= box[3]): \n",
    "        return False\n",
    "    return True"
   ]
  },
  {
   "cell_type": "code",
   "execution_count": 10,
   "metadata": {
    "collapsed": true
   },
   "outputs": [],
   "source": [
    "#we filter these hashtags because they seem to dominate everywhere and are not very useful tweets to look at because\n",
    "#they are just advertisements\n",
    "bad_hashtags = ['#Hiring','#job','#Job','#Jobs','#CareerArc']"
   ]
  },
  {
   "cell_type": "markdown",
   "metadata": {},
   "source": [
    "# Start of Data Analysis\n",
    "This is where we start actually analyzing the data"
   ]
  },
  {
   "cell_type": "markdown",
   "metadata": {},
   "source": [
    "## Unpickle The Tweet File \n",
    "We start by unpickling the tweet file, filtering out tweets with no hashtags or with blacklisted hashtags, then storing the tweet in an array."
   ]
  },
  {
   "cell_type": "code",
   "execution_count": 11,
   "metadata": {
    "collapsed": false
   },
   "outputs": [],
   "source": [
    "f = open('/Users/calvin/Documents/Lehigh/English/Research/data/cap1.pkl', 'rb')\n",
    "data_array = []\n",
    "geo_data = []\n",
    "count = 0\n",
    "x_sum = 0\n",
    "y_sum = 0\n",
    "\n",
    "while True:\n",
    "    try:\n",
    "        dd = pkl.load(f)\n",
    "    except EOFError:\n",
    "        break\n",
    "    except Exception:\n",
    "        print(count)\n",
    "        count += 1\n",
    "        unpickler.load()\n",
    "        continue\n",
    "    else:\n",
    "        #right now we just take the first coordinate in the bounding box as the actual\n",
    "        #we could average to find the middle, but this seems good enough for now\n",
    "        if dd['coordinates'] == None:\n",
    "            if dd['place'] == None:\n",
    "                continue\n",
    "            dd['coordinates'] = dd['place']['bounding_box']['coordinates'][0][0]\n",
    "        else:\n",
    "            #account for edge case where coordinates are wrapped\n",
    "            dd['coordinates'] = dd['coordinates']['coordinates']\n",
    "        \n",
    "        #filter out all tweets with no hashtags and take out word related hashtags because those are unhelpful\n",
    "        #TODO- we can keep more data if we can do a sentiment analysis on the tweets instead of just filtering\n",
    "        if '#' in dd['text'] and (not any(hashtag in dd['text'] for hashtag in bad_hashtags)):\n",
    "            data_array.append(dd)\n",
    "\n",
    "            \n",
    "\n",
    "\n",
    "        "
   ]
  },
  {
   "cell_type": "markdown",
   "metadata": {},
   "source": [
    "## Filter Tweets by Geo Location\n",
    "Apply location based filtering to the preprocessed dataset and randomly sample the preprocessed data set."
   ]
  },
  {
   "cell_type": "code",
   "execution_count": 12,
   "metadata": {
    "collapsed": false
   },
   "outputs": [],
   "source": [
    "geo_data = filter_geo(data_array, nyc)"
   ]
  },
  {
   "cell_type": "code",
   "execution_count": 13,
   "metadata": {
    "collapsed": false
   },
   "outputs": [
    {
     "name": "stdout",
     "output_type": "stream",
     "text": [
      "3364\n"
     ]
    }
   ],
   "source": [
    "n = len(geo_data)\n",
    "#create a random sample of size n form the data_array\n",
    "rand_smpl = [ data_array[i] for i in sorted(random.sample(range(len(data_array)), n))]\n",
    "print(n)"
   ]
  },
  {
   "cell_type": "markdown",
   "metadata": {},
   "source": [
    "## Find Most Common Hashtags in our Data and Graph Them Using Histograms"
   ]
  },
  {
   "cell_type": "code",
   "execution_count": 14,
   "metadata": {
    "collapsed": false
   },
   "outputs": [
    {
     "name": "stdout",
     "output_type": "stream",
     "text": [
      "[('#nyc', 105), ('#diabetes', 92), ('#type1diabetes', 91), ('#t1d', 91), ('#diabetic', 91), ('#NYPrimary', 88), ('#NYC', 81), ('#I278', 63), ('#420', 63), ('#', 48), ('#newyork', 43), ('#garden', 43), ('#lime', 42), ('#organic', 42), ('#natural', 42), ('#farm', 42), ('#gogreen', 42), ('#bonemeal', 42), ('#fertilizer', 42), ('#kelp', 42), ('#ImWithHer', 38), ('#Repost', 36), ('#MakeTVShowsEvil', 29), ('#SoundCloud', 28), ('#gunsense', 28), ('#np', 28), ('#I678', 26), ('#brooklyn', 26), ('#FeelTheBern', 25), ('#GeorgeWashingtonBridge', 25), ('#timehop', 25), ('#traffic', 25), ('#RickRoss', 24), ('#Future', 24), ('#Brysontiller', 23), ('#I495', 22), ('#DLine', 21), ('#GrandCentralParkway', 20), ('#2Line', 18), ('#Brooklyn', 18), ('#BernieSanders', 17), ('#newyorkcity', 17), ('#6Line', 17), ('#NewYork', 17), ('#HillaryClinton', 17), ('#art', 15), ('#Manhattan', 14), ('#Queens', 14), ('#SouthernStateParkway', 13), ('#NewYorkCity', 13), ('#UNGASS2016', 13), ('#ALine', 12), ('#SprainBrookStateParkway', 12), ('#nyctonight', 12), ('#LLine', 12), ('#FLine', 11), ('#I95NewEnglandThruway', 11), ('#I95', 11), ('#BeerMenus', 11), ('#manhattan', 11), ('#GLine', 11), ('#FranklinDRooseveltDrive', 11), ('#spring', 10), ('#WCW', 10), ('#M100Bus', 10), ('#NeverTrump', 10), ('#happy420', 10), ('#1Line', 9), ('#Trump2016', 9), ('#WednesdayWisdom', 9), ('#Trump', 9), ('#ny', 9), ('#5Line', 9), ('#love', 9), ('#menu', 9), ('#TENORE', 9), ('#NY27', 9), ('#SaintPatricksCathedral', 8), ('#humpday', 8), ('#life', 8), ('#usa', 8), ('#PrimaryDay', 8), ('#goodmorning', 8), ('#ELine', 8), ('#Motivation', 8), ('#NorthernStateParkway', 8), ('#113Bus', 8), ('#imwithher', 8), ('#I87MajorDeeganExpressway', 8), ('#BeltSystemShoreParkway', 8), ('#timessquare', 8), ('#centralpark', 7), ('#livemusic', 7), ('#HarlemRiverDrive', 7), ('#TheBigApple', 7), ('#flowers', 7), ('#My420CourtAppearance', 7), ('#music', 7), ('#InHumans', 7), ('#streetart', 7)]\n"
     ]
    }
   ],
   "source": [
    "punctuation = list(string.punctuation)\n",
    "stop = stopwords.words('english') + punctuation + ['via', 'I\\'m', 'I', '😂', 'like','get','don\\'t']\n",
    "\n",
    "count_all = Counter()\n",
    "for d in geo_data:\n",
    "#     tokens = preprocess(d['text'])\n",
    "#     terms_stop = [term for term in preprocess(d['text']) if term not in stop]\n",
    "    terms_hash = [term for term in preprocess(d['text']) if term.startswith('#')]\n",
    "    count_all.update(terms_hash)\n",
    "    \n",
    "print(count_all.most_common(100))\n"
   ]
  },
  {
   "cell_type": "code",
   "execution_count": 15,
   "metadata": {
    "collapsed": false,
    "scrolled": false
   },
   "outputs": [
    {
     "name": "stdout",
     "output_type": "stream",
     "text": [
      "[('#', 93), ('#MakeTVShowsEvil', 76), ('#420', 62), ('#NYPrimary', 34), ('#traffic', 25), ('#trndnl', 24), ('#ImWithHer', 23), ('#WednesdayWisdom', 18), ('#Blackhawks', 15), ('#hiring', 14), ('#FeelTheBern', 13), ('#orlpol', 13), ('#startup', 13), ('#Repost', 11), ('#wcw', 11), ('#HillaryClinton', 11), ('#stocks', 11), ('#biotech', 10), ('#Toronto', 10), ('#NYC', 10), ('#cdnpoli', 10), ('#music', 10), ('#mmj', 10), ('#smallcap', 10), ('#Nursing', 10), ('#menu', 10), ('#AgentsofSHIELD', 10), ('#np', 10), ('#Trump2016', 10), ('#BernieSanders', 9), ('#TweetMe', 9), ('#C51', 9), ('#ALDUBLoveOnCue', 9), ('#photo', 9), ('#GardenStateParkway', 9), ('#RT', 9), ('#StillSanders', 9), ('#happy420', 9), ('#TSOUWithoutYou', 9), ('#Veterans', 9), ('#SoundCloud', 8), ('#opd', 8), ('#Bernie', 8), ('#SFGiants', 8), ('#NeverTrump', 8), ('#MakeAmericaGreatAgain', 8), ('#nowplaying', 7), ('#StanleyCup', 7), ('#GoCubsGo', 7), ('#PrimaryDay', 7), ('#GOP', 7), ('#TeamIronMan', 7), ('#CruzCrew', 7), ('#Happy420', 7), ('#endorphins', 7), ('#goodmorning', 7), ('#LegalizeIt', 7), ('#2016', 7), ('#DHHJ', 7), ('#TeamCap', 7), ('#DeepThoughtsOfAStoner', 7), ('#SoundHound', 7), ('#Endomondo', 7), ('#ClaytonNC', 6), ('#blazeit', 6), ('#CSIS', 6), ('#CarolinaWx', 6), ('#WCW', 6), ('#fitness', 6), ('#Hillary', 6), ('#flowers', 6), ('#art', 6), ('#newyork', 6), ('#love', 6), ('#VoteBajaBlast', 6), ('#STLvsCHI', 6), ('#HumpDay', 6), ('#MakeTVshowsEvil', 5), ('#nhlplayoffs', 5), ('#humpday', 5), ('#ocso', 5), ('#NewYorkPrimary', 5), ('#life', 5), ('#livemusic', 5), ('#Transportation', 5), ('#stlblues', 5), ('#USA', 5), ('#txla16', 5), ('#nature', 5), ('#Trump', 5), ('#TerribleHashtagIdeas', 5), ('#fashion', 5), ('#ozclique', 5), ('#California', 5), ('#BernedOut', 5), ('#weather', 5), ('#elive16', 5), ('#photography', 5), ('#goals', 5), ('#Boston', 5)]\n"
     ]
    }
   ],
   "source": [
    "smpl_count = Counter()\n",
    "for d in rand_smpl:\n",
    "#     tokens = preprocess(d['text'])\n",
    "#     terms_stop = [term for term in preprocess(d['text']) if term not in stop]\n",
    "    terms_hash = [term for term in preprocess(d['text']) if term.startswith('#')]\n",
    "    smpl_count.update(terms_hash)\n",
    "print(smpl_count.most_common(100))\n",
    "    "
   ]
  },
  {
   "cell_type": "code",
   "execution_count": 16,
   "metadata": {
    "collapsed": false
   },
   "outputs": [
    {
     "data": {
      "image/png": "[encoded data removed]",
      "text/plain": [
       "<matplotlib.figure.Figure at 0x16d4eca90>"
      ]
     },
     "metadata": {},
     "output_type": "display_data"
    },
    {
     "data": {
      "image/png": "[encoded data removed]",
      "text/plain": [
       "<matplotlib.figure.Figure at 0x16d4ecac8>"
      ]
     },
     "metadata": {},
     "output_type": "display_data"
    }
   ],
   "source": [
    "plot_bar(smpl_count.most_common(10))\n",
    "plot_bar(count_all.most_common(10))"
   ]
  },
  {
   "cell_type": "code",
   "execution_count": null,
   "metadata": {
    "collapsed": false
   },
   "outputs": [],
   "source": [
    "# filtered = []\n",
    "# for d in data_array:\n",
    "#     if \"#420\" in d['text']:\n",
    "# #     if checkBox(d,san_fran):\n",
    "#         filtered.append(d)\n",
    "# print(len(filtered))\n",
    "print(len(geo_data))\n",
    "print(len(smpl_count))\n",
    "print(len(count_all))"
   ]
  },
  {
   "cell_type": "code",
   "execution_count": null,
   "metadata": {
    "collapsed": false
   },
   "outputs": [],
   "source": [
    "print(filtered[100]['text'])"
   ]
  },
  {
   "cell_type": "code",
   "execution_count": null,
   "metadata": {
    "collapsed": false
   },
   "outputs": [],
   "source": [
    "to_json(filtered)"
   ]
  },
  {
   "cell_type": "code",
   "execution_count": null,
   "metadata": {
    "collapsed": false
   },
   "outputs": [],
   "source": [
    "dates = []\n",
    "eastern = pytz.timezone('US/Eastern')\n",
    "for d in filtered:\n",
    "    dates.append(d['created_at'])\n",
    "ones = [1]*len(dates)\n",
    "idx = pd.DatetimeIndex(dates).tz_localize(pytz.utc).tz_convert(eastern)\n",
    "dates_series = pd.Series(ones, index=idx)\n",
    "# Resampling / bucketing\n",
    "per_minuite = dates_series.resample('1Min', how='sum').fillna(0)\n"
   ]
  },
  {
   "cell_type": "code",
   "execution_count": null,
   "metadata": {
    "collapsed": false,
    "scrolled": true
   },
   "outputs": [],
   "source": [
    "time_chart = vincent.Line(per_minuite)\n",
    "time_chart.axis_titles(x='Time', y='Freq')"
   ]
  },
  {
   "cell_type": "code",
   "execution_count": null,
   "metadata": {
    "collapsed": false
   },
   "outputs": [],
   "source": []
  },
  {
   "cell_type": "code",
   "execution_count": null,
   "metadata": {
    "collapsed": true
   },
   "outputs": [],
   "source": []
  },
  {
   "cell_type": "code",
   "execution_count": null,
   "metadata": {
    "collapsed": true
   },
   "outputs": [],
   "source": []
  }
 ],
 "metadata": {
  "kernelspec": {
   "display_name": "Python 3",
   "language": "python",
   "name": "python3"
  },
  "language_info": {
   "codemirror_mode": {
    "name": "ipython",
    "version": 3
   },
   "file_extension": ".py",
   "mimetype": "text/x-python",
   "name": "python",
   "nbconvert_exporter": "python",
   "pygments_lexer": "ipython3",
   "version": "3.4.3"
  }
 },
 "nbformat": 4,
 "nbformat_minor": 0
}
