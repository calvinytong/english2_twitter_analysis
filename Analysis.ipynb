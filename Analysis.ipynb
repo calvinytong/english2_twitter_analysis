{
 "cells": [
  {
   "cell_type": "code",
   "execution_count": 46,
   "metadata": {
    "collapsed": false
   },
   "outputs": [
    {
     "data": {
      "text/html": [
       "\n",
       "           <script>\n",
       "               \n",
       "                function vct_load_lib(url, callback){\n",
       "                      if(typeof d3 !== 'undefined' &&\n",
       "                         url === 'http://d3js.org/d3.v3.min.js'){\n",
       "                        callback()\n",
       "                      }\n",
       "                      var s = document.createElement('script');\n",
       "                      s.src = url;\n",
       "                      s.async = true;\n",
       "                      s.onreadystatechange = s.onload = callback;\n",
       "                      s.onerror = function(){\n",
       "                        console.warn(\"failed to load library \" + url);\n",
       "                        };\n",
       "                      document.getElementsByTagName(\"head\")[0].appendChild(s);\n",
       "                };\n",
       "                var vincent_event = new CustomEvent(\n",
       "                  \"vincent_libs_loaded\",\n",
       "                  {bubbles: true, cancelable: true}\n",
       "                );\n",
       "                \n",
       "               function load_all_libs(){\n",
       "                  console.log('Loading Vincent libs...')\n",
       "                  vct_load_lib('http://d3js.org/d3.v3.min.js', function(){\n",
       "                  vct_load_lib('http://d3js.org/d3.geo.projection.v0.min.js', function(){\n",
       "                  vct_load_lib('http://wrobstory.github.io/d3-cloud/d3.layout.cloud.js', function(){\n",
       "                  vct_load_lib('http://wrobstory.github.io/vega/vega.v1.3.3.js', function(){\n",
       "                  window.dispatchEvent(vincent_event);\n",
       "                  });\n",
       "                  });\n",
       "                  });\n",
       "                  });\n",
       "               };\n",
       "               if(typeof define === \"function\" && define.amd){\n",
       "                    if (window['d3'] === undefined ||\n",
       "                        window['topojson'] === undefined){\n",
       "                        require.config(\n",
       "                            {paths: {\n",
       "                              d3: 'http://d3js.org/d3.v3.min',\n",
       "                              topojson: 'http://d3js.org/topojson.v1.min'\n",
       "                              }\n",
       "                            }\n",
       "                          );\n",
       "                        require([\"d3\"], function(d3){\n",
       "                            console.log('Loading Vincent from require.js...')\n",
       "                            window.d3 = d3;\n",
       "                            require([\"topojson\"], function(topojson){\n",
       "                                window.topojson = topojson;\n",
       "                                load_all_libs();\n",
       "                            });\n",
       "                        });\n",
       "                    } else {\n",
       "                        load_all_libs();\n",
       "                    };\n",
       "               }else{\n",
       "                    console.log('Require.js not found, loading manually...')\n",
       "                    load_all_libs();\n",
       "               };\n",
       "\n",
       "           </script>"
      ],
      "text/plain": [
       "<IPython.core.display.HTML object>"
      ]
     },
     "metadata": {},
     "output_type": "display_data"
    }
   ],
   "source": [
    "import pickle as pkl\n",
    "import numpy as np\n",
    "import matplotlib.pyplot as plt\n",
    "import json\n",
    "from nltk.tokenize import word_tokenize\n",
    "import re\n",
    "from collections import Counter\n",
    "from nltk.corpus import stopwords\n",
    "import string\n",
    "import pandas as pd\n",
    "import pytz\n",
    "import vincent\n",
    "import random\n",
    "from wordcloud import WordCloud\n",
    "from twython import Twython\n",
    "import seaborn as sns\n",
    "import os\n",
    "import time\n",
    "vincent.core.initialize_notebook()\n",
    "%matplotlib inline"
   ]
  },
  {
   "cell_type": "markdown",
   "metadata": {},
   "source": [
    "# Define Helper Methods"
   ]
  },
  {
   "cell_type": "markdown",
   "metadata": {},
   "source": [
    "## Text Processing Methods\n",
    "methods and regular expressions for doing tweet preprocessing"
   ]
  },
  {
   "cell_type": "code",
   "execution_count": 3,
   "metadata": {
    "collapsed": false
   },
   "outputs": [],
   "source": [
    "#regex to filter bad strings    \n",
    "regex_str = [\n",
    "    r'<[^>]+>', # HTML tags\n",
    "    r'(?:@[\\w_]+)', # @-mentions\n",
    "    r\"(?:\\#+[\\w_]+[\\w\\'_\\-]*[\\w_]+)\", # hash-tags\n",
    "    r'http[s]?://(?:[a-z]|[0-9]|[$-_@.&+]|[!*\\(\\),]|(?:%[0-9a-f][0-9a-f]))+', # URLs\n",
    " \n",
    "    r'(?:(?:\\d+,?)+(?:\\.?\\d+)?)', # numbers\n",
    "    r\"(?:[a-z][a-z'\\-_]+[a-z])\", # words with - and '\n",
    "    r'(?:[\\w_]+)', # other words\n",
    "    r'(?:\\S)' # anything else\n",
    "]\n",
    "\n",
    "#use re to compile the regex\n",
    "tokens_re = re.compile(r'('+'|'.join(regex_str)+')', re.VERBOSE | re.IGNORECASE)\n",
    "emoticon_re = re.compile(\"[\"\n",
    "        u\"\\U0001F600-\\U0001F64F\"  # emoticons\n",
    "        u\"\\U0001F300-\\U0001F5FF\"  # symbols & pictographs\n",
    "        u\"\\U0001F680-\\U0001F6FF\"  # transport & map symbols\n",
    "        u\"\\U0001F1E0-\\U0001F1FF\"  # flags (iOS)\n",
    "                           \"]+\", flags=re.UNICODE)\n",
    "   \n",
    "def tokenize(s):\n",
    "    \"\"\"\n",
    "    Tokenizes a string\n",
    "    -Parameter s: The string to tokenize\n",
    "    -Return: The tokenized string\n",
    "    \"\"\"\n",
    "    return tokens_re.findall(s)\n",
    " \n",
    "def preprocess(s, lowercase=False):\n",
    "    \"\"\"\n",
    "    Preprocesses string by tokenizing and applying the emoticon and string regex\n",
    "    Parameter s: The string to preprocess\n",
    "    Return: The list of the processed tokens\n",
    "    \"\"\"\n",
    "    tokens = tokenize(s)\n",
    "    if lowercase:\n",
    "        tokens = [token if emoticon_re.search(token) else token.lower() for token in tokens]\n",
    "    return tokens"
   ]
  },
  {
   "cell_type": "markdown",
   "metadata": {},
   "source": [
    "## Map Helper Methods\n",
    "Methods to aid in the mapping of tweets using leaflet.js"
   ]
  },
  {
   "cell_type": "code",
   "execution_count": 4,
   "metadata": {
    "collapsed": true
   },
   "outputs": [],
   "source": [
    "def to_json(data_array):\n",
    "    \"\"\"\n",
    "    Converts an array of tweets into a json file that can be used by leaflet.js to create a map and\n",
    "    saves the json file to the directory using the name geo_data.json. Note that this quietly overwrites\n",
    "    the current data_array so be careful using it\n",
    "    -Parameter data_array: The array to be converted\n",
    "    \"\"\"\n",
    "    #initialize geo_data json (just a dict here) to feed in to the maps\n",
    "    geo_data = {\n",
    "        \"type\": \"FeatureCollection\",\n",
    "        \"features\": []\n",
    "    }\n",
    "\n",
    "    #populate the json file\n",
    "    for d in data_array:\n",
    "        geo_json_feature = {\n",
    "                \"type\": \"Feature\",\n",
    "                \"geometry\": {\"type\" : \"Point\", \"coordinates\" : d['coordinates']},\n",
    "                \"properties\": {\n",
    "                    \"text\": d['text'],\n",
    "                    \"created_at\": d['created_at']\n",
    "                }\n",
    "            }\n",
    "        geo_data['features'].append(geo_json_feature)\n",
    "\n",
    "    #write the json out to a file\n",
    "    with open('geo_data.json', 'w') as fout:\n",
    "        fout.write(json.dumps(geo_data, indent=4))"
   ]
  },
  {
   "cell_type": "markdown",
   "metadata": {},
   "source": [
    "## Vector Helper Methods\n",
    "methods for doing useful computations using vectors in python list form"
   ]
  },
  {
   "cell_type": "code",
   "execution_count": 5,
   "metadata": {
    "collapsed": true
   },
   "outputs": [],
   "source": [
    "#Note vectors here are denoted by normal python lists\n",
    "\n",
    "def vector_add(v,w):\n",
    "    \"\"\"\n",
    "    Perform a vector addition with two vectors\n",
    "    -Parameter v: The first vector to add\n",
    "    -Parameter w: The second vector to add\n",
    "    -Return: The two vectors added together elementwise \n",
    "    ex. [0,2] + [1,1] = [1,3]\n",
    "    \"\"\"\n",
    "    return[v_i + w_i for v_i, w_i in zip(v,w)]\n",
    "\n",
    "def vector_sum(vectors):\n",
    "    \"\"\"\n",
    "    Perform a vector sum with an array of vectors\n",
    "    -Parameter vectors: A list holding the vectors to be added\n",
    "    -Return: The list of vectors added together \n",
    "    ex. [0,2] + [1,1] + [2,2] = [3,5]\n",
    "    \"\"\"\n",
    "    result = vectors[0]\n",
    "    for vector in vectors[1:]:\n",
    "        result = vector_add(result, vector)\n",
    "    return result\n",
    "\n",
    "def vector_subtract(v, w):\n",
    "    \"\"\"\n",
    "    Perform a vector subtraction with two vectors as v-w\n",
    "    -Parameter v: The vector to be subtracted from\n",
    "    -Parameter w: The vector to subtract\n",
    "    -Return: The two vectors subtracted elementwise \n",
    "    ex. [1,3] - [1,1] = [0,2]\n",
    "    \"\"\"\n",
    "    return [v_i - w_i for v_i, w_i in zip(v,w)]\n",
    "\n",
    "def scalar_multiply(c, v):\n",
    "    \"\"\"\n",
    "    Preform a scalar multiplication on vector v by constant c\n",
    "    -Paramter c: The constant to be multiplied by\n",
    "    -Paramter v: The vector to be scalar multiplied\n",
    "    -Return The vector scalar multiplied by c\n",
    "    ex. 3 * [1,2] = [3,6]\n",
    "    \"\"\"\n",
    "    return[c * v_i for v_i in v]\n",
    "\n",
    "def vector_mean(vectors):\n",
    "    \"\"\"\n",
    "    Compute a component wise mean for a list of vectors\n",
    "    -Parameter vectors: The list of vectors to be averaged\n",
    "    -Return a vector whose elements are the componentwise means of the vectors in the vector list\n",
    "    ex. vector_mean([[0,1], [1,1]]) = [0.5,1]\n",
    "    \"\"\"\n",
    "    n = len(vectors)\n",
    "    return scalar_multiply(1/n, vector_sum(vectors))\n",
    "\n",
    "def dot(v, w):\n",
    "    \"\"\"\n",
    "    Compute v dot w. Note order does not matter because v dot w = w dot v for all vectors\n",
    "    -Parameter v: a vector to be dotted\n",
    "    -Parameter w: the second vector to be dotted\n",
    "    -Return v dot w\n",
    "    ex. [1,1] dot [2,2] = 4\n",
    "    \"\"\"\n",
    "    return sum(v_i * w_i for v_i, w_i in zip(v,w))\n",
    "\n",
    "def sum_of_squares(v):\n",
    "    \"\"\"\n",
    "    Returns the sum of squares for a given vector. Note this is just v dot v\n",
    "    -Parameter v: The vector to be summed\n",
    "    -Return the sum of squares of vector v. Can be sqrted to get vector length\n",
    "    ex. sum_of_squares([2,2]) = 8\n",
    "    \"\"\"\n",
    "    return dot(v,v)\n",
    "\n",
    "def squared_distance(v,w):\n",
    "    \"\"\"\n",
    "    Computes the squared distance between two vectors. Note this is just the sum of squares of v-w\n",
    "    -Parameter v: The first vector\n",
    "    -Parameter w: The second vector\n",
    "    -Return The squared distance between two vectors. Can be sqrted to get vector distance\n",
    "    ex. sum_of_squares([2,2],[1,1]) = 2\n",
    "    \"\"\"\n",
    "    return sum_of_squares(vector_subtract(v,w))"
   ]
  },
  {
   "cell_type": "code",
   "execution_count": 6,
   "metadata": {
    "collapsed": true
   },
   "outputs": [],
   "source": [
    "class KMeans(object):\n",
    "    \"\"\"performs k-means clustering\"\"\"\n",
    "\n",
    "    def __init__(self, k):\n",
    "        \"\"\"\n",
    "        Init the KMeans object\n",
    "        -Parameter k: the number of clusters to find\n",
    "        \"\"\"\n",
    "        self.k = k          # number of clusters\n",
    "        self.means = None   # means of clusters\n",
    "\n",
    "    def classify(self, input_vector):\n",
    "        \"\"\"\n",
    "        Return the index of the cluster closest to the input\n",
    "        -Parameter input_vector: the vector to be classified\n",
    "        -Return the cluster closest to the input_vector\n",
    "        \"\"\"\n",
    "        return min(range(self.k),\n",
    "                   key=lambda i: squared_distance(input_vector, self.means[i]))\n",
    "\n",
    "    def train(self, inputs):\n",
    "        \"\"\"\n",
    "        Train the k means object on a given input of vector arrays. Finds K means of clusters in the data\n",
    "        -Parameter inputs: The list of vectors to be trained on\n",
    "        \"\"\"\n",
    "        \n",
    "        #randomly pick the means to start out with\n",
    "        self.means = random.sample(inputs, self.k)\n",
    "        assignments = None\n",
    "\n",
    "        while True:\n",
    "            # Find new assignments\n",
    "            new_assignments = list(map(self.classify, inputs))\n",
    "\n",
    "            # If no assignments have changed, then we have convergence and are done\n",
    "            if assignments == new_assignments:\n",
    "                return\n",
    "\n",
    "            # Otherwise keep the new assignments,\n",
    "            assignments = new_assignments\n",
    "\n",
    "            for i in range(self.k):\n",
    "                i_points = [p for p, a in zip(inputs, assignments) if a == i]\n",
    "                # avoid divide-by-zero if i_points is empty\n",
    "                if i_points:\n",
    "                    self.means[i] = vector_mean(i_points)\n"
   ]
  },
  {
   "cell_type": "markdown",
   "metadata": {},
   "source": [
    "## Data Analysis and Filtration Helper Methods\n",
    "Methods to help with analysis and filtration of the data\n",
    "Note the bounding boxes are specified in the following form:\n",
    "[left_lower_lat, left_lower_long, right_upper_lat, right_upper_long]\n",
    "\n",
    "coordinates are in WSG84"
   ]
  },
  {
   "cell_type": "code",
   "execution_count": 83,
   "metadata": {
    "collapsed": true
   },
   "outputs": [],
   "source": [
    "def plot_bar(datums):\n",
    "    \"\"\"\n",
    "    Plots a bar graph of the passed list of tuples ordered (name, score)\n",
    "    -Parameter datums: The list of tuples to be plotted\n",
    "    \"\"\"\n",
    "    sns.set(color_codes=True)\n",
    "    datums.sort(key=lambda x: x[1], reverse=True) \n",
    "    hashtag = list(zip(*datums))[0]\n",
    "    score = list(zip(*datums))[1]\n",
    "    x_pos = np.arange(len(hashtag))\n",
    "    print(hashtag)\n",
    "    plt.figure(figsize=(20, 10))\n",
    "    sns.barplot(x_pos,score,color='blue')\n",
    "    plt.xticks(x_pos, hashtag) \n",
    "    plt.ylabel('Score')\n",
    "    "
   ]
  },
  {
   "cell_type": "code",
   "execution_count": 8,
   "metadata": {
    "collapsed": true
   },
   "outputs": [],
   "source": [
    "def filter_geo(d_array, loc):\n",
    "    \"\"\"\n",
    "    Filters a given array of tweets to only include tweets within a the given bounding box.\n",
    "    -Parameter d_array: The array of tweets to be filtered\n",
    "    -Parameter loc: The bounding box to be filtered\n",
    "    -Return: A list containing the filtered tweets\n",
    "    \"\"\"\n",
    "    geo_array = []\n",
    "    for dd in d_array:\n",
    "        if(checkBox(dd,loc)):\n",
    "            #append the data point to the data array\n",
    "            geo_array.append(dd)\n",
    "    return geo_array\n",
    "    "
   ]
  },
  {
   "cell_type": "code",
   "execution_count": 9,
   "metadata": {
    "collapsed": true
   },
   "outputs": [],
   "source": [
    "def count_terms(d_array):\n",
    "    punctuation = list(string.punctuation)\n",
    "    stop = stopwords.words('english') + punctuation + ['via', 'I\\'m', 'I', '😂', 'like','get','don\\'t']\n",
    "\n",
    "    count = Counter()\n",
    "    for d in d_array:\n",
    "    #     tokens = preprocess(d['text'])\n",
    "    #     terms_stop = [term for term in preprocess(d['text']) if term not in stop]\n",
    "        terms_hash = [term for term in preprocess(d['text']) if term.startswith('#')]\n",
    "        count.update(terms_hash)\n",
    "        del count['#']\n",
    "    return count"
   ]
  },
  {
   "cell_type": "code",
   "execution_count": 10,
   "metadata": {
    "collapsed": true
   },
   "outputs": [],
   "source": [
    "def rand_sample(n , dat_arr):\n",
    "    rand_smpl = [ dat_arr[i] for i in sorted(random.sample(range(len(dat_arr)), n))]\n",
    "    return rand_smpl"
   ]
  },
  {
   "cell_type": "code",
   "execution_count": 11,
   "metadata": {
    "collapsed": true
   },
   "outputs": [],
   "source": [
    "#Bounding Boxes of the most populous cities in the US and a few others to get a better spread\n",
    "nyc = [-74,40,-73,41]\n",
    "san_fran = [-122.75,36.8,-121.75,37.8]\n",
    "la = [-118.668176,33.703692,-118.155289,34.337306]\n",
    "chicago = [-87.940267,41.644335,-87.524044,42.023131]\n",
    "houston = [-95.788087,29.523624,-95.014496,30.110732]\n",
    "philadelphia = [-75.280303,39.871514,-74.955763,40.137992]\n",
    "phoenix = [-112.324056,33.29026,-111.926046,33.92057]\n",
    "san_antonio = [-98.805851,29.224141,-98.222958,29.73872]\n",
    "san_diego = [-117.282167,32.534856,-116.90816,33.114249]\n",
    "dallas = [-98.2538,31.9899,-95.4461,33.6828]\n",
    "san_jose = [-122.045668,37.124493,-121.589154,37.469538]\n",
    "seattle = [-122.435908,47.495551,-122.235903,47.734145]\n",
    "denver = [-105.109927,39.614431,-104.600296,39.914247]\n",
    "nashville = [-87.054903,35.967785,-86.515588,36.405496]\n",
    "jacksonville = [-82.049502,30.103748,-81.391412,30.586232]\n",
    "tampa = [-82.906952,27.616014,-82.259741,28.171478]\n",
    "dc = [-77.6001,38.5294,-76.5106,39.1381]\n",
    "atlanta = [-84.9008,33.3635,-83.8162,34.2041]"
   ]
  },
  {
   "cell_type": "code",
   "execution_count": 12,
   "metadata": {
    "collapsed": false
   },
   "outputs": [],
   "source": [
    "def checkBox(d, box):\n",
    "    \"\"\"\n",
    "    Checks if a given tweet is inside a bounding box\n",
    "    -Parameter d: The tweet to be checked\n",
    "    -Parameter box: The bounding box to be checked\n",
    "    -Return: True if the tweet is inside the box. False if it is outside\n",
    "    \"\"\"\n",
    "    x = d['coordinates'][0]\n",
    "    y = d['coordinates'][1]\n",
    "    if(x < box[0]): \n",
    "        return False\n",
    "    if(y < box[1]): \n",
    "        return False\n",
    "    if(x >= box[2]): \n",
    "        return False\n",
    "    if(y >= box[3]): \n",
    "        return False\n",
    "    return True"
   ]
  },
  {
   "cell_type": "code",
   "execution_count": 13,
   "metadata": {
    "collapsed": true
   },
   "outputs": [],
   "source": [
    "#we filter these hashtags because they seem to dominate everywhere and are not very useful tweets to look at because\n",
    "#they are just advertisements\n",
    "bad_hashtags = ['#Hiring','#job','#Job','#Jobs','#CareerArc']"
   ]
  },
  {
   "cell_type": "markdown",
   "metadata": {},
   "source": [
    "# Start of Data Analysis\n",
    "This is where we start actually analyzing the data"
   ]
  },
  {
   "cell_type": "markdown",
   "metadata": {},
   "source": [
    "## Unpickle The Tweet File \n",
    "We start by unpickling the tweet file, filtering out tweets with no hashtags or with blacklisted hashtags, then storing the tweet in an array."
   ]
  },
  {
   "cell_type": "code",
   "execution_count": 14,
   "metadata": {
    "collapsed": false
   },
   "outputs": [],
   "source": [
    "f = open('/Users/calvin/Documents/Lehigh/English/Research/data/cap4.pkl', 'rb')\n",
    "data_array = []\n",
    "geo_data = []\n",
    "count = 0\n",
    "x_sum = 0\n",
    "y_sum = 0\n",
    "\n",
    "while True:\n",
    "    try:\n",
    "        dd = pkl.load(f)\n",
    "    except EOFError:\n",
    "        break\n",
    "    except Exception:\n",
    "        print(count)\n",
    "        count += 1\n",
    "        unpickler.load()\n",
    "        continue\n",
    "    else:\n",
    "        #right now we just take the first coordinate in the bounding box as the actual\n",
    "        #we could average to find the middle, but this seems good enough for now\n",
    "        if dd['coordinates'] == None:\n",
    "            if dd['place'] == None:\n",
    "                continue\n",
    "            dd['coordinates'] = vector_mean(dd['place']['bounding_box']['coordinates'][0])\n",
    "        else:\n",
    "            #account for edge case where coordinates are wrapped\n",
    "            dd['coordinates'] = dd['coordinates']['coordinates']\n",
    "        \n",
    "        #filter out all tweets with no hashtags and take out word related hashtags because those are unhelpful\n",
    "        #TODO- we can keep more data if we can do a sentiment analysis on the tweets instead of just filtering\n",
    "        if '#' in dd['text'] and (not any(hashtag in dd['text'] for hashtag in bad_hashtags)):\n",
    "            data_array.append(dd)"
   ]
  },
  {
   "cell_type": "markdown",
   "metadata": {},
   "source": [
    "## Filter Tweets by Geo Location\n",
    "Apply location based filtering to the preprocessed dataset and randomly sample the preprocessed data set."
   ]
  },
  {
   "cell_type": "code",
   "execution_count": 15,
   "metadata": {
    "collapsed": false
   },
   "outputs": [
    {
     "name": "stdout",
     "output_type": "stream",
     "text": [
      "21898\n",
      "8607\n",
      "15894\n",
      "6710\n",
      "2637\n",
      "2815\n"
     ]
    }
   ],
   "source": [
    "nyc_geo_data = filter_geo(data_array, nyc)\n",
    "sf_geo_data = filter_geo(data_array, san_fran)\n",
    "la_geo_data = filter_geo(data_array, la)\n",
    "ch_geo_data = filter_geo(data_array, chicago)\n",
    "sea_geo_data = filter_geo(data_array, seattle)\n",
    "tamp_geo_data = filter_geo(data_array, tampa)\n",
    "dallas_geo_data = filter_geo(data_array, dallas)\n",
    "dc_geo_data = filter_geo(data_array, dc)\n",
    "atlanta_geo_data = filter_geo(data_array, atlanta)\n",
    "geo_data = [nyc_geo_data,sf_geo_data,ch_geo_data,sea_geo_data,tamp_geo_data]\n",
    "print(len(nyc_geo_data))\n",
    "print(len(sf_geo_data))\n",
    "print(len(la_geo_data))\n",
    "print(len(ch_geo_data))\n",
    "print(len(sea_geo_data))\n",
    "print(len(tamp_geo_data))"
   ]
  },
  {
   "cell_type": "code",
   "execution_count": 24,
   "metadata": {
    "collapsed": false
   },
   "outputs": [],
   "source": [
    "n = len(data_array)\n",
    "#create a random sample of size n form the data_array\n",
    "rand_smpl = rand_sample(n,data_array)"
   ]
  },
  {
   "cell_type": "markdown",
   "metadata": {},
   "source": [
    "## Find Most Common Hashtags in our Data and Graph Them Using Histograms"
   ]
  },
  {
   "cell_type": "code",
   "execution_count": 25,
   "metadata": {
    "collapsed": false,
    "scrolled": true
   },
   "outputs": [],
   "source": [
    "count_sf = count_terms(sf_geo_data)\n",
    "count_nyc = count_terms(nyc_geo_data)\n",
    "count_la = count_terms(la_geo_data)\n",
    "count_ch = count_terms(ch_geo_data)\n",
    "count_sea = count_terms(sea_geo_data)\n",
    "count_tamp = count_terms(tamp_geo_data)\n",
    "count_rand = count_terms(rand_smpl)"
   ]
  },
  {
   "cell_type": "code",
   "execution_count": 85,
   "metadata": {
    "collapsed": false
   },
   "outputs": [
    {
     "name": "stdout",
     "output_type": "stream",
     "text": [
      "('#DubNation', '#SFGiants', '#SanFrancisco', '#Warriors', '#sanfrancisco', '#SDC2016', '#ALDUB41stWeeksary', '#RedneckTVShows', '#iheartsdc', '#hiring')\n",
      "('#nyc', '#NYC', '#I278', '#ALDUB41stWeeksary', '#newyork', '#np', '#Empire', '#RedneckTVShows', '#MakeAMovieSick', '#SoundCloud')\n"
     ]
    },
    {
     "data": {
      "image/png": "[encoded data removed]",
      "text/plain": [
       "<matplotlib.figure.Figure at 0x2ac431c88>"
      ]
     },
     "metadata": {},
     "output_type": "display_data"
    },
    {
     "data": {
      "image/png": "[encoded data removed]",
      "text/plain": [
       "<matplotlib.figure.Figure at 0x2ac48e9b0>"
      ]
     },
     "metadata": {},
     "output_type": "display_data"
    }
   ],
   "source": [
    "plot_bar(count_sf.most_common(10))\n",
    "plot_bar(count_nyc.most_common(10))\n",
    "# plot_bar(count_la.most_common(10))\n",
    "# plot_bar(count_ch.most_common(10))\n",
    "# plot_bar(count_sea.most_common(10))\n",
    "# plot_bar(count_tamp.most_common(10))\n",
    "# plot_bar(count_rand.most_common(10))\n",
    "\n"
   ]
  },
  {
   "cell_type": "code",
   "execution_count": 27,
   "metadata": {
    "collapsed": false,
    "scrolled": false
   },
   "outputs": [
    {
     "name": "stdout",
     "output_type": "stream",
     "text": [
      "[('#nyc', 495), ('#NYC', 398), ('#I278', 199), ('#ALDUB41stWeeksary', 197), ('#newyork', 182), ('#np', 166), ('#Empire', 161), ('#RedneckTVShows', 155), ('#MakeAMovieSick', 148), ('#SoundCloud', 139), ('#Repost', 135), ('#NY', 129), ('#LGM', 127), ('#NYCFC', 122), ('#I495', 120), ('#brooklyn', 107), ('#LEMONADE', 104), ('#Isles', 104), ('#I95', 102), ('#ImWithHer', 97), ('#RoadToRio', 96), ('#SuperTuesday', 96), ('#womancard', 93), ('#UndergroundWGN', 93), ('#Trump', 93), ('#traffic', 89), ('#manhattan', 84), ('#InternationalTravelReviews', 83), ('#newyorkcity', 80), ('#Brooklyn', 77), ('#FeelTheBern', 76), ('#DisabilityAdvocate', 71), ('#gunsense', 69), ('#TravelReviews', 68), ('#Tourism', 67), ('#JCOLE', 66), ('#NeverTrump', 65), ('#TORYLANEZ', 64), ('#art', 64), ('#NewYork', 64), ('#RHOBH', 63), ('#WednesdayWisdom', 63), ('#love', 61), ('#I678', 60), ('#BernieOrBust', 59), ('#TedCruz', 59), ('#ElevateNYC', 59), ('#3Line', 59), ('#Trump2016', 59), ('#NYCvMTL', 59), ('#music', 57), ('#GeorgeWashingtonBridge', 56), ('#DonaldTrump', 56), ('#Leisure', 55), ('#100DaysOut', 55), ('#tbt', 54), ('#Mets', 53), ('#isles', 52), ('#Prince', 51), ('#mets', 51), ('#Queens', 50), ('#GrandCentralParkway', 50), ('#Peacebuilding', 49), ('#FORRMktg', 49), ('#Arrow', 46), ('#NY27', 46), ('#2Line', 46), ('#FranklinDRooseveltDrive', 44), ('#photo', 44), ('#FamilyTherapy', 44), ('#ny', 43), ('#centralpark', 43), ('#BernieSanders', 43), ('#SprainBrookStateParkway', 43), ('#CDOSummitNYC', 42), ('#Quant', 42), ('#WeAreOne', 41), ('#spring', 40), ('#BeerMenus', 40), ('#StanleyCup', 40), ('#Bronx', 39), ('#BloglovinBoss', 39), ('#AcelaPrimary', 39), ('#NBAPlayoffs', 39), ('#CarlyFiorina', 39), ('#Drake', 38), ('#4Line', 38), ('#RHONY', 38), ('#AdweekChat', 38), ('#6Line', 37), ('#UFC200', 37), ('#Brysontiller', 36), ('#AgentsofSHIELD', 36), ('#FLine', 36), ('#NowPlaying', 36), ('#FormationWorldTour', 35), ('#NewFlames', 35), ('#DavidBowie', 35), ('#food', 35), ('#HillaryClinton', 35)]\n"
     ]
    }
   ],
   "source": [
    "# print(count_sf.most_common(100))\n",
    "print(count_nyc.most_common(100))\n",
    "# print(count_la.most_common(100))\n",
    "# print(count_rand.most_common(100))"
   ]
  },
  {
   "cell_type": "code",
   "execution_count": 31,
   "metadata": {
    "collapsed": false
   },
   "outputs": [
    {
     "name": "stdout",
     "output_type": "stream",
     "text": [
      "#nyc 495\n",
      "#NYC 398\n",
      "#I278 199\n",
      "#ALDUB41stWeeksary 197\n",
      "#newyork 182\n",
      "#np 166\n",
      "#Empire 161\n",
      "#RedneckTVShows 155\n",
      "#MakeAMovieSick 148\n",
      "#SoundCloud 139\n"
     ]
    }
   ],
   "source": [
    "f = open('commonhashscore.csv','w')\n",
    "for key,score in count_nyc.most_common(10):\n",
    "    print(key,score)\n",
    "    f.write(str(key) + ',' + str(score) + '\\n')"
   ]
  },
  {
   "cell_type": "code",
   "execution_count": null,
   "metadata": {
    "collapsed": true
   },
   "outputs": [],
   "source": [
    "text = \"\"\n",
    "for key,score in count_nyc.most_common(100):\n",
    "    for x in range(0,score):\n",
    "        text += key + \" \""
   ]
  },
  {
   "cell_type": "code",
   "execution_count": null,
   "metadata": {
    "collapsed": false
   },
   "outputs": [],
   "source": [
    "wordcloud = WordCloud().generate(text)\n",
    "plt.figure(figsize=(20, 20))\n",
    "plt.imshow(wordcloud)\n",
    "plt.axis(\"off\")"
   ]
  },
  {
   "cell_type": "code",
   "execution_count": 18,
   "metadata": {
    "collapsed": true
   },
   "outputs": [],
   "source": [
    "def load_keys():\n",
    "    keys = []\n",
    "    path = os.path.join('.keys')\n",
    "    f = open(path, 'r')\n",
    "    for line in f:\n",
    "        keys.append(str(line).replace('\\n',''))\n",
    "    return keys"
   ]
  },
  {
   "cell_type": "code",
   "execution_count": 19,
   "metadata": {
    "collapsed": false
   },
   "outputs": [],
   "source": [
    "keys = load_keys()\n",
    "twitter = Twython(keys[0], keys[1],\n",
    "                  keys[2], keys[3])"
   ]
  },
  {
   "cell_type": "code",
   "execution_count": 104,
   "metadata": {
    "collapsed": false
   },
   "outputs": [
    {
     "name": "stdout",
     "output_type": "stream",
     "text": [
      "31\n",
      "725120386086625281\n",
      "725123951354060800\n",
      "725124242791079936\n",
      "725134647085137920\n",
      "725153048117518336\n",
      "725278000615424000\n",
      "725323754063183874\n",
      "725330074308857859\n",
      "725332211013181440\n",
      "725351681777631233\n",
      "725353993069838337\n",
      "725356719359049728\n",
      "725373112393551874\n",
      "725389926854971393\n",
      "725400305697980416\n",
      "725415203630886912\n",
      "725418093502144513\n",
      "725418815807492096\n",
      "725421160293347328\n",
      "725422069324849156\n",
      "725423011222982657\n",
      "725428894552219648\n",
      "725437625969065985\n",
      "725450408135655424\n",
      "725450724398739457\n",
      "725453120533368832\n",
      "725464125883691008\n",
      "725504656957272064\n",
      "725647352091033600\n",
      "725676406223568896\n",
      "725694511494664192\n"
     ]
    }
   ],
   "source": [
    "filtered = []\n",
    "for d in tamp_geo_data:\n",
    "    if \"#Trump2016\" in d['text']:\n",
    "        filtered.append(d)\n",
    "print(len(filtered))\n",
    "for d in filtered:\n",
    "    print(d['id'])\n",
    "        \n",
    "# filtered2 = []\n",
    "# for d in tamp_geo_data:\n",
    "#     if \"#Trump2016\" in d['text']:\n",
    "#         filtered2.append(d)"
   ]
  },
  {
   "cell_type": "code",
   "execution_count": null,
   "metadata": {
    "collapsed": true
   },
   "outputs": [],
   "source": [
    "to_json(filtered)"
   ]
  },
  {
   "cell_type": "code",
   "execution_count": null,
   "metadata": {
    "collapsed": false
   },
   "outputs": [],
   "source": [
    "# print(len(filtered))\n",
    "# print(len(filtered2))\n",
    "# print(filtered2[3]['id'])\n",
    "# # print(filtered2[0])\n",
    "\n",
    "\n",
    "# ids = []\n",
    "# for d in filtered:\n",
    "#     print(d['id'], d['text'])\n",
    "#     ids.append(d['id'])\n",
    "\n",
    "# count_nyc.most_common(10)\n",
    "# print(len(filtered2))\n",
    "# print(len(filtered))\n",
    "# s = \"\"\n",
    "# for d in filtered2:\n",
    "#     s += d['text'] + \" \"\n",
    "# print(s)\n",
    "# print(count_jack.most_common(100))"
   ]
  },
  {
   "cell_type": "code",
   "execution_count": 111,
   "metadata": {
    "collapsed": false,
    "scrolled": true
   },
   "outputs": [
    {
     "name": "stdout",
     "output_type": "stream",
     "text": [
      "RT @JonOntiveros: Movin to Bama feller #RollTide #Trump2016 https://t.co/7SCn1UDyPu\n",
      "1\n",
      "RT @offknox: Woooohooo Clean Sweep for Trump!  Marvelous!  #MakeAmericaGreatAgain #Trump2016 https://t.co/6krCohOnIX\n",
      "8\n",
      "NOPE\n",
      "NOPE\n",
      "NOPE\n",
      "RT @browntroutfish: people who dont want trump in office ,dont want the truth #Trump2016\n",
      "1\n",
      "NOPE\n",
      "NOPE\n",
      "NOPE\n",
      "NOPE\n",
      "NOPE\n",
      "Other Error\n",
      "NOPE\n",
      "NOPE\n",
      "NOPE\n",
      "RT @trumpology: #Trump supporters this is where we need 2be focusing our attention &amp; not buffoonery of loser Cruz-Serious days ahead https:…\n",
      "6\n",
      "NOPE\n",
      "RT @pmbasse: @DailyMailCeleb Amal is wrong...She needs to get her FACTS straight.. #WomenForTrump #TrumpTrain #MAGA #DonaldTrump https://t.…\n",
      "3\n",
      "RT @trumpology: Thank you for setting @VanJones68 straight! His utter disdain 4 #Trump makes it hard 4 him to get his info right!  https://…\n",
      "3\n",
      "RT @trumpology: You are a pervert! What was your #Trump hating discourse before this gem! You make me sick! @realDonaldTrump https://t.co/y…\n",
      "3\n",
      "RT @trumpology: ATTN: #Trump supporters @Breaking4Trump is another scam Twitter acct not affiliated w/REAL Bikers https://t.co/qZZpkVFlOH @…\n",
      "7\n",
      "NOPE\n",
      "RT @pmbasse: @LukeBrinker Who cares...anyways,why does Cruz need a VP pick he has been eliminaTED #TrumpTrain #WomenForTrump https://t.co/0…\n",
      "1\n",
      "NOPE\n",
      "NOPE\n",
      "NOPE\n",
      "RT @trumpology: Can't be the same person are w/your friends as u are w/you bosses @work! Just the way it is. We know the true #Trump https:…\n",
      "3\n",
      "NOPE\n",
      "NOPE\n",
      "NOPE\n",
      "NOPE\n"
     ]
    },
    {
     "ename": "KeyboardInterrupt",
     "evalue": "",
     "output_type": "error",
     "traceback": [
      "\u001b[0;31m---------------------------------------------------------------------------\u001b[0m",
      "\u001b[0;31mTypeError\u001b[0m                                 Traceback (most recent call last)",
      "\u001b[0;32m/Library/Frameworks/Python.framework/Versions/3.4/lib/python3.4/site-packages/requests/packages/urllib3/connectionpool.py\u001b[0m in \u001b[0;36m_make_request\u001b[0;34m(self, conn, method, url, timeout, **httplib_request_kw)\u001b[0m\n\u001b[1;32m    375\u001b[0m             \u001b[0;32mtry\u001b[0m\u001b[0;34m:\u001b[0m  \u001b[0;31m# Python 2.7, use buffering of HTTP responses\u001b[0m\u001b[0;34m\u001b[0m\u001b[0m\n\u001b[0;32m--> 376\u001b[0;31m                 \u001b[0mhttplib_response\u001b[0m \u001b[0;34m=\u001b[0m \u001b[0mconn\u001b[0m\u001b[0;34m.\u001b[0m\u001b[0mgetresponse\u001b[0m\u001b[0;34m(\u001b[0m\u001b[0mbuffering\u001b[0m\u001b[0;34m=\u001b[0m\u001b[0;32mTrue\u001b[0m\u001b[0;34m)\u001b[0m\u001b[0;34m\u001b[0m\u001b[0m\n\u001b[0m\u001b[1;32m    377\u001b[0m             \u001b[0;32mexcept\u001b[0m \u001b[0mTypeError\u001b[0m\u001b[0;34m:\u001b[0m  \u001b[0;31m# Python 2.6 and older\u001b[0m\u001b[0;34m\u001b[0m\u001b[0m\n",
      "\u001b[0;31mTypeError\u001b[0m: getresponse() got an unexpected keyword argument 'buffering'",
      "\nDuring handling of the above exception, another exception occurred:\n",
      "\u001b[0;31mKeyboardInterrupt\u001b[0m                         Traceback (most recent call last)",
      "\u001b[0;32m<ipython-input-111-314073e95a65>\u001b[0m in \u001b[0;36m<module>\u001b[0;34m()\u001b[0m\n\u001b[1;32m      9\u001b[0m \u001b[0;32mwhile\u001b[0m \u001b[0mc\u001b[0m \u001b[0;34m<\u001b[0m \u001b[0mlen\u001b[0m\u001b[0;34m(\u001b[0m\u001b[0mfiltered\u001b[0m\u001b[0;34m)\u001b[0m\u001b[0;34m:\u001b[0m\u001b[0;34m\u001b[0m\u001b[0m\n\u001b[1;32m     10\u001b[0m     \u001b[0;32mtry\u001b[0m\u001b[0;34m:\u001b[0m\u001b[0;34m\u001b[0m\u001b[0m\n\u001b[0;32m---> 11\u001b[0;31m         \u001b[0mrt\u001b[0m \u001b[0;34m=\u001b[0m \u001b[0mtwitter\u001b[0m\u001b[0;34m.\u001b[0m\u001b[0mget_retweets\u001b[0m\u001b[0;34m(\u001b[0m\u001b[0mid\u001b[0m\u001b[0;34m=\u001b[0m\u001b[0mfiltered\u001b[0m\u001b[0;34m[\u001b[0m\u001b[0mc\u001b[0m\u001b[0;34m]\u001b[0m\u001b[0;34m[\u001b[0m\u001b[0;34m'id'\u001b[0m\u001b[0;34m]\u001b[0m\u001b[0;34m)\u001b[0m\u001b[0;34m\u001b[0m\u001b[0m\n\u001b[0m\u001b[1;32m     12\u001b[0m         \u001b[0;32mif\u001b[0m \u001b[0mlen\u001b[0m\u001b[0;34m(\u001b[0m\u001b[0mrt\u001b[0m\u001b[0;34m)\u001b[0m \u001b[0;34m>\u001b[0m \u001b[0;36m0\u001b[0m \u001b[0;32mand\u001b[0m \u001b[0mrt\u001b[0m\u001b[0;34m[\u001b[0m\u001b[0;36m0\u001b[0m\u001b[0;34m]\u001b[0m\u001b[0;34m[\u001b[0m\u001b[0;34m'retweet_count'\u001b[0m\u001b[0;34m]\u001b[0m \u001b[0;34m<\u001b[0m \u001b[0;36m10\u001b[0m \u001b[0;32mand\u001b[0m \u001b[0mrt\u001b[0m\u001b[0;34m[\u001b[0m\u001b[0;36m0\u001b[0m\u001b[0;34m]\u001b[0m\u001b[0;34m[\u001b[0m\u001b[0;34m'favorite_count'\u001b[0m\u001b[0;34m]\u001b[0m \u001b[0;34m<\u001b[0m \u001b[0;36m10\u001b[0m\u001b[0;34m:\u001b[0m\u001b[0;34m\u001b[0m\u001b[0m\n\u001b[1;32m     13\u001b[0m             \u001b[0mt_count\u001b[0m \u001b[0;34m+=\u001b[0m \u001b[0;36m1\u001b[0m\u001b[0;34m\u001b[0m\u001b[0m\n",
      "\u001b[0;32m/Library/Frameworks/Python.framework/Versions/3.4/lib/python3.4/site-packages/twython/endpoints.py\u001b[0m in \u001b[0;36mget_retweets\u001b[0;34m(self, **params)\u001b[0m\n\u001b[1;32m     71\u001b[0m         \"\"\"\n\u001b[1;32m     72\u001b[0m         return self.get('statuses/retweets/%s' % params.get('id'),\n\u001b[0;32m---> 73\u001b[0;31m                         params=params)\n\u001b[0m\u001b[1;32m     74\u001b[0m \u001b[0;34m\u001b[0m\u001b[0m\n\u001b[1;32m     75\u001b[0m     \u001b[0;32mdef\u001b[0m \u001b[0mshow_status\u001b[0m\u001b[0;34m(\u001b[0m\u001b[0mself\u001b[0m\u001b[0;34m,\u001b[0m \u001b[0;34m**\u001b[0m\u001b[0mparams\u001b[0m\u001b[0;34m)\u001b[0m\u001b[0;34m:\u001b[0m\u001b[0;34m\u001b[0m\u001b[0m\n",
      "\u001b[0;32m/Library/Frameworks/Python.framework/Versions/3.4/lib/python3.4/site-packages/twython/api.py\u001b[0m in \u001b[0;36mget\u001b[0;34m(self, endpoint, params, version)\u001b[0m\n\u001b[1;32m    263\u001b[0m     \u001b[0;32mdef\u001b[0m \u001b[0mget\u001b[0m\u001b[0;34m(\u001b[0m\u001b[0mself\u001b[0m\u001b[0;34m,\u001b[0m \u001b[0mendpoint\u001b[0m\u001b[0;34m,\u001b[0m \u001b[0mparams\u001b[0m\u001b[0;34m=\u001b[0m\u001b[0;32mNone\u001b[0m\u001b[0;34m,\u001b[0m \u001b[0mversion\u001b[0m\u001b[0;34m=\u001b[0m\u001b[0;34m'1.1'\u001b[0m\u001b[0;34m)\u001b[0m\u001b[0;34m:\u001b[0m\u001b[0;34m\u001b[0m\u001b[0m\n\u001b[1;32m    264\u001b[0m         \u001b[0;34m\"\"\"Shortcut for GET requests via :class:`request`\"\"\"\u001b[0m\u001b[0;34m\u001b[0m\u001b[0m\n\u001b[0;32m--> 265\u001b[0;31m         \u001b[0;32mreturn\u001b[0m \u001b[0mself\u001b[0m\u001b[0;34m.\u001b[0m\u001b[0mrequest\u001b[0m\u001b[0;34m(\u001b[0m\u001b[0mendpoint\u001b[0m\u001b[0;34m,\u001b[0m \u001b[0mparams\u001b[0m\u001b[0;34m=\u001b[0m\u001b[0mparams\u001b[0m\u001b[0;34m,\u001b[0m \u001b[0mversion\u001b[0m\u001b[0;34m=\u001b[0m\u001b[0mversion\u001b[0m\u001b[0;34m)\u001b[0m\u001b[0;34m\u001b[0m\u001b[0m\n\u001b[0m\u001b[1;32m    266\u001b[0m \u001b[0;34m\u001b[0m\u001b[0m\n\u001b[1;32m    267\u001b[0m     \u001b[0;32mdef\u001b[0m \u001b[0mpost\u001b[0m\u001b[0;34m(\u001b[0m\u001b[0mself\u001b[0m\u001b[0;34m,\u001b[0m \u001b[0mendpoint\u001b[0m\u001b[0;34m,\u001b[0m \u001b[0mparams\u001b[0m\u001b[0;34m=\u001b[0m\u001b[0;32mNone\u001b[0m\u001b[0;34m,\u001b[0m \u001b[0mversion\u001b[0m\u001b[0;34m=\u001b[0m\u001b[0;34m'1.1'\u001b[0m\u001b[0;34m)\u001b[0m\u001b[0;34m:\u001b[0m\u001b[0;34m\u001b[0m\u001b[0m\n",
      "\u001b[0;32m/Library/Frameworks/Python.framework/Versions/3.4/lib/python3.4/site-packages/twython/api.py\u001b[0m in \u001b[0;36mrequest\u001b[0;34m(self, endpoint, method, params, version)\u001b[0m\n\u001b[1;32m    257\u001b[0m \u001b[0;34m\u001b[0m\u001b[0m\n\u001b[1;32m    258\u001b[0m         content = self._request(url, method=method, params=params,\n\u001b[0;32m--> 259\u001b[0;31m                                 api_call=url)\n\u001b[0m\u001b[1;32m    260\u001b[0m \u001b[0;34m\u001b[0m\u001b[0m\n\u001b[1;32m    261\u001b[0m         \u001b[0;32mreturn\u001b[0m \u001b[0mcontent\u001b[0m\u001b[0;34m\u001b[0m\u001b[0m\n",
      "\u001b[0;32m/Library/Frameworks/Python.framework/Versions/3.4/lib/python3.4/site-packages/twython/api.py\u001b[0m in \u001b[0;36m_request\u001b[0;34m(self, url, method, params, api_call)\u001b[0m\n\u001b[1;32m    161\u001b[0m             })\n\u001b[1;32m    162\u001b[0m         \u001b[0;32mtry\u001b[0m\u001b[0;34m:\u001b[0m\u001b[0;34m\u001b[0m\u001b[0m\n\u001b[0;32m--> 163\u001b[0;31m             \u001b[0mresponse\u001b[0m \u001b[0;34m=\u001b[0m \u001b[0mfunc\u001b[0m\u001b[0;34m(\u001b[0m\u001b[0murl\u001b[0m\u001b[0;34m,\u001b[0m \u001b[0;34m**\u001b[0m\u001b[0mrequests_args\u001b[0m\u001b[0;34m)\u001b[0m\u001b[0;34m\u001b[0m\u001b[0m\n\u001b[0m\u001b[1;32m    164\u001b[0m         \u001b[0;32mexcept\u001b[0m \u001b[0mrequests\u001b[0m\u001b[0;34m.\u001b[0m\u001b[0mRequestException\u001b[0m \u001b[0;32mas\u001b[0m \u001b[0me\u001b[0m\u001b[0;34m:\u001b[0m\u001b[0;34m\u001b[0m\u001b[0m\n\u001b[1;32m    165\u001b[0m             \u001b[0;32mraise\u001b[0m \u001b[0mTwythonError\u001b[0m\u001b[0;34m(\u001b[0m\u001b[0mstr\u001b[0m\u001b[0;34m(\u001b[0m\u001b[0me\u001b[0m\u001b[0;34m)\u001b[0m\u001b[0;34m)\u001b[0m\u001b[0;34m\u001b[0m\u001b[0m\n",
      "\u001b[0;32m/Library/Frameworks/Python.framework/Versions/3.4/lib/python3.4/site-packages/requests/sessions.py\u001b[0m in \u001b[0;36mget\u001b[0;34m(self, url, **kwargs)\u001b[0m\n\u001b[1;32m    478\u001b[0m \u001b[0;34m\u001b[0m\u001b[0m\n\u001b[1;32m    479\u001b[0m         \u001b[0mkwargs\u001b[0m\u001b[0;34m.\u001b[0m\u001b[0msetdefault\u001b[0m\u001b[0;34m(\u001b[0m\u001b[0;34m'allow_redirects'\u001b[0m\u001b[0;34m,\u001b[0m \u001b[0;32mTrue\u001b[0m\u001b[0;34m)\u001b[0m\u001b[0;34m\u001b[0m\u001b[0m\n\u001b[0;32m--> 480\u001b[0;31m         \u001b[0;32mreturn\u001b[0m \u001b[0mself\u001b[0m\u001b[0;34m.\u001b[0m\u001b[0mrequest\u001b[0m\u001b[0;34m(\u001b[0m\u001b[0;34m'GET'\u001b[0m\u001b[0;34m,\u001b[0m \u001b[0murl\u001b[0m\u001b[0;34m,\u001b[0m \u001b[0;34m**\u001b[0m\u001b[0mkwargs\u001b[0m\u001b[0;34m)\u001b[0m\u001b[0;34m\u001b[0m\u001b[0m\n\u001b[0m\u001b[1;32m    481\u001b[0m \u001b[0;34m\u001b[0m\u001b[0m\n\u001b[1;32m    482\u001b[0m     \u001b[0;32mdef\u001b[0m \u001b[0moptions\u001b[0m\u001b[0;34m(\u001b[0m\u001b[0mself\u001b[0m\u001b[0;34m,\u001b[0m \u001b[0murl\u001b[0m\u001b[0;34m,\u001b[0m \u001b[0;34m**\u001b[0m\u001b[0mkwargs\u001b[0m\u001b[0;34m)\u001b[0m\u001b[0;34m:\u001b[0m\u001b[0;34m\u001b[0m\u001b[0m\n",
      "\u001b[0;32m/Library/Frameworks/Python.framework/Versions/3.4/lib/python3.4/site-packages/requests/sessions.py\u001b[0m in \u001b[0;36mrequest\u001b[0;34m(self, method, url, params, data, headers, cookies, files, auth, timeout, allow_redirects, proxies, hooks, stream, verify, cert, json)\u001b[0m\n\u001b[1;32m    466\u001b[0m         }\n\u001b[1;32m    467\u001b[0m         \u001b[0msend_kwargs\u001b[0m\u001b[0;34m.\u001b[0m\u001b[0mupdate\u001b[0m\u001b[0;34m(\u001b[0m\u001b[0msettings\u001b[0m\u001b[0;34m)\u001b[0m\u001b[0;34m\u001b[0m\u001b[0m\n\u001b[0;32m--> 468\u001b[0;31m         \u001b[0mresp\u001b[0m \u001b[0;34m=\u001b[0m \u001b[0mself\u001b[0m\u001b[0;34m.\u001b[0m\u001b[0msend\u001b[0m\u001b[0;34m(\u001b[0m\u001b[0mprep\u001b[0m\u001b[0;34m,\u001b[0m \u001b[0;34m**\u001b[0m\u001b[0msend_kwargs\u001b[0m\u001b[0;34m)\u001b[0m\u001b[0;34m\u001b[0m\u001b[0m\n\u001b[0m\u001b[1;32m    469\u001b[0m \u001b[0;34m\u001b[0m\u001b[0m\n\u001b[1;32m    470\u001b[0m         \u001b[0;32mreturn\u001b[0m \u001b[0mresp\u001b[0m\u001b[0;34m\u001b[0m\u001b[0m\n",
      "\u001b[0;32m/Library/Frameworks/Python.framework/Versions/3.4/lib/python3.4/site-packages/requests/sessions.py\u001b[0m in \u001b[0;36msend\u001b[0;34m(self, request, **kwargs)\u001b[0m\n\u001b[1;32m    574\u001b[0m \u001b[0;34m\u001b[0m\u001b[0m\n\u001b[1;32m    575\u001b[0m         \u001b[0;31m# Send the request\u001b[0m\u001b[0;34m\u001b[0m\u001b[0;34m\u001b[0m\u001b[0m\n\u001b[0;32m--> 576\u001b[0;31m         \u001b[0mr\u001b[0m \u001b[0;34m=\u001b[0m \u001b[0madapter\u001b[0m\u001b[0;34m.\u001b[0m\u001b[0msend\u001b[0m\u001b[0;34m(\u001b[0m\u001b[0mrequest\u001b[0m\u001b[0;34m,\u001b[0m \u001b[0;34m**\u001b[0m\u001b[0mkwargs\u001b[0m\u001b[0;34m)\u001b[0m\u001b[0;34m\u001b[0m\u001b[0m\n\u001b[0m\u001b[1;32m    577\u001b[0m \u001b[0;34m\u001b[0m\u001b[0m\n\u001b[1;32m    578\u001b[0m         \u001b[0;31m# Total elapsed time of the request (approximately)\u001b[0m\u001b[0;34m\u001b[0m\u001b[0;34m\u001b[0m\u001b[0m\n",
      "\u001b[0;32m/Library/Frameworks/Python.framework/Versions/3.4/lib/python3.4/site-packages/requests/adapters.py\u001b[0m in \u001b[0;36msend\u001b[0;34m(self, request, stream, timeout, verify, cert, proxies)\u001b[0m\n\u001b[1;32m    374\u001b[0m                     \u001b[0mdecode_content\u001b[0m\u001b[0;34m=\u001b[0m\u001b[0;32mFalse\u001b[0m\u001b[0;34m,\u001b[0m\u001b[0;34m\u001b[0m\u001b[0m\n\u001b[1;32m    375\u001b[0m                     \u001b[0mretries\u001b[0m\u001b[0;34m=\u001b[0m\u001b[0mself\u001b[0m\u001b[0;34m.\u001b[0m\u001b[0mmax_retries\u001b[0m\u001b[0;34m,\u001b[0m\u001b[0;34m\u001b[0m\u001b[0m\n\u001b[0;32m--> 376\u001b[0;31m                     \u001b[0mtimeout\u001b[0m\u001b[0;34m=\u001b[0m\u001b[0mtimeout\u001b[0m\u001b[0;34m\u001b[0m\u001b[0m\n\u001b[0m\u001b[1;32m    377\u001b[0m                 )\n\u001b[1;32m    378\u001b[0m \u001b[0;34m\u001b[0m\u001b[0m\n",
      "\u001b[0;32m/Library/Frameworks/Python.framework/Versions/3.4/lib/python3.4/site-packages/requests/packages/urllib3/connectionpool.py\u001b[0m in \u001b[0;36murlopen\u001b[0;34m(self, method, url, body, headers, retries, redirect, assert_same_host, timeout, pool_timeout, release_conn, **response_kw)\u001b[0m\n\u001b[1;32m    557\u001b[0m             httplib_response = self._make_request(conn, method, url,\n\u001b[1;32m    558\u001b[0m                                                   \u001b[0mtimeout\u001b[0m\u001b[0;34m=\u001b[0m\u001b[0mtimeout_obj\u001b[0m\u001b[0;34m,\u001b[0m\u001b[0;34m\u001b[0m\u001b[0m\n\u001b[0;32m--> 559\u001b[0;31m                                                   body=body, headers=headers)\n\u001b[0m\u001b[1;32m    560\u001b[0m \u001b[0;34m\u001b[0m\u001b[0m\n\u001b[1;32m    561\u001b[0m             \u001b[0;31m# If we're going to release the connection in ``finally:``, then\u001b[0m\u001b[0;34m\u001b[0m\u001b[0;34m\u001b[0m\u001b[0m\n",
      "\u001b[0;32m/Library/Frameworks/Python.framework/Versions/3.4/lib/python3.4/site-packages/requests/packages/urllib3/connectionpool.py\u001b[0m in \u001b[0;36m_make_request\u001b[0;34m(self, conn, method, url, timeout, **httplib_request_kw)\u001b[0m\n\u001b[1;32m    376\u001b[0m                 \u001b[0mhttplib_response\u001b[0m \u001b[0;34m=\u001b[0m \u001b[0mconn\u001b[0m\u001b[0;34m.\u001b[0m\u001b[0mgetresponse\u001b[0m\u001b[0;34m(\u001b[0m\u001b[0mbuffering\u001b[0m\u001b[0;34m=\u001b[0m\u001b[0;32mTrue\u001b[0m\u001b[0;34m)\u001b[0m\u001b[0;34m\u001b[0m\u001b[0m\n\u001b[1;32m    377\u001b[0m             \u001b[0;32mexcept\u001b[0m \u001b[0mTypeError\u001b[0m\u001b[0;34m:\u001b[0m  \u001b[0;31m# Python 2.6 and older\u001b[0m\u001b[0;34m\u001b[0m\u001b[0m\n\u001b[0;32m--> 378\u001b[0;31m                 \u001b[0mhttplib_response\u001b[0m \u001b[0;34m=\u001b[0m \u001b[0mconn\u001b[0m\u001b[0;34m.\u001b[0m\u001b[0mgetresponse\u001b[0m\u001b[0;34m(\u001b[0m\u001b[0;34m)\u001b[0m\u001b[0;34m\u001b[0m\u001b[0m\n\u001b[0m\u001b[1;32m    379\u001b[0m         \u001b[0;32mexcept\u001b[0m \u001b[0;34m(\u001b[0m\u001b[0mSocketTimeout\u001b[0m\u001b[0;34m,\u001b[0m \u001b[0mBaseSSLError\u001b[0m\u001b[0;34m,\u001b[0m \u001b[0mSocketError\u001b[0m\u001b[0;34m)\u001b[0m \u001b[0;32mas\u001b[0m \u001b[0me\u001b[0m\u001b[0;34m:\u001b[0m\u001b[0;34m\u001b[0m\u001b[0m\n\u001b[1;32m    380\u001b[0m             \u001b[0mself\u001b[0m\u001b[0;34m.\u001b[0m\u001b[0m_raise_timeout\u001b[0m\u001b[0;34m(\u001b[0m\u001b[0merr\u001b[0m\u001b[0;34m=\u001b[0m\u001b[0me\u001b[0m\u001b[0;34m,\u001b[0m \u001b[0murl\u001b[0m\u001b[0;34m=\u001b[0m\u001b[0murl\u001b[0m\u001b[0;34m,\u001b[0m \u001b[0mtimeout_value\u001b[0m\u001b[0;34m=\u001b[0m\u001b[0mread_timeout\u001b[0m\u001b[0;34m)\u001b[0m\u001b[0;34m\u001b[0m\u001b[0m\n",
      "\u001b[0;32m/Library/Frameworks/Python.framework/Versions/3.4/lib/python3.4/http/client.py\u001b[0m in \u001b[0;36mgetresponse\u001b[0;34m(self)\u001b[0m\n\u001b[1;32m   1169\u001b[0m \u001b[0;34m\u001b[0m\u001b[0m\n\u001b[1;32m   1170\u001b[0m         \u001b[0;32mtry\u001b[0m\u001b[0;34m:\u001b[0m\u001b[0;34m\u001b[0m\u001b[0m\n\u001b[0;32m-> 1171\u001b[0;31m             \u001b[0mresponse\u001b[0m\u001b[0;34m.\u001b[0m\u001b[0mbegin\u001b[0m\u001b[0;34m(\u001b[0m\u001b[0;34m)\u001b[0m\u001b[0;34m\u001b[0m\u001b[0m\n\u001b[0m\u001b[1;32m   1172\u001b[0m             \u001b[0;32massert\u001b[0m \u001b[0mresponse\u001b[0m\u001b[0;34m.\u001b[0m\u001b[0mwill_close\u001b[0m \u001b[0;34m!=\u001b[0m \u001b[0m_UNKNOWN\u001b[0m\u001b[0;34m\u001b[0m\u001b[0m\n\u001b[1;32m   1173\u001b[0m             \u001b[0mself\u001b[0m\u001b[0;34m.\u001b[0m\u001b[0m__state\u001b[0m \u001b[0;34m=\u001b[0m \u001b[0m_CS_IDLE\u001b[0m\u001b[0;34m\u001b[0m\u001b[0m\n",
      "\u001b[0;32m/Library/Frameworks/Python.framework/Versions/3.4/lib/python3.4/http/client.py\u001b[0m in \u001b[0;36mbegin\u001b[0;34m(self)\u001b[0m\n\u001b[1;32m    349\u001b[0m         \u001b[0;31m# read until we get a non-100 response\u001b[0m\u001b[0;34m\u001b[0m\u001b[0;34m\u001b[0m\u001b[0m\n\u001b[1;32m    350\u001b[0m         \u001b[0;32mwhile\u001b[0m \u001b[0;32mTrue\u001b[0m\u001b[0;34m:\u001b[0m\u001b[0;34m\u001b[0m\u001b[0m\n\u001b[0;32m--> 351\u001b[0;31m             \u001b[0mversion\u001b[0m\u001b[0;34m,\u001b[0m \u001b[0mstatus\u001b[0m\u001b[0;34m,\u001b[0m \u001b[0mreason\u001b[0m \u001b[0;34m=\u001b[0m \u001b[0mself\u001b[0m\u001b[0;34m.\u001b[0m\u001b[0m_read_status\u001b[0m\u001b[0;34m(\u001b[0m\u001b[0;34m)\u001b[0m\u001b[0;34m\u001b[0m\u001b[0m\n\u001b[0m\u001b[1;32m    352\u001b[0m             \u001b[0;32mif\u001b[0m \u001b[0mstatus\u001b[0m \u001b[0;34m!=\u001b[0m \u001b[0mCONTINUE\u001b[0m\u001b[0;34m:\u001b[0m\u001b[0;34m\u001b[0m\u001b[0m\n\u001b[1;32m    353\u001b[0m                 \u001b[0;32mbreak\u001b[0m\u001b[0;34m\u001b[0m\u001b[0m\n",
      "\u001b[0;32m/Library/Frameworks/Python.framework/Versions/3.4/lib/python3.4/http/client.py\u001b[0m in \u001b[0;36m_read_status\u001b[0;34m(self)\u001b[0m\n\u001b[1;32m    311\u001b[0m \u001b[0;34m\u001b[0m\u001b[0m\n\u001b[1;32m    312\u001b[0m     \u001b[0;32mdef\u001b[0m \u001b[0m_read_status\u001b[0m\u001b[0;34m(\u001b[0m\u001b[0mself\u001b[0m\u001b[0;34m)\u001b[0m\u001b[0;34m:\u001b[0m\u001b[0;34m\u001b[0m\u001b[0m\n\u001b[0;32m--> 313\u001b[0;31m         \u001b[0mline\u001b[0m \u001b[0;34m=\u001b[0m \u001b[0mstr\u001b[0m\u001b[0;34m(\u001b[0m\u001b[0mself\u001b[0m\u001b[0;34m.\u001b[0m\u001b[0mfp\u001b[0m\u001b[0;34m.\u001b[0m\u001b[0mreadline\u001b[0m\u001b[0;34m(\u001b[0m\u001b[0m_MAXLINE\u001b[0m \u001b[0;34m+\u001b[0m \u001b[0;36m1\u001b[0m\u001b[0;34m)\u001b[0m\u001b[0;34m,\u001b[0m \u001b[0;34m\"iso-8859-1\"\u001b[0m\u001b[0;34m)\u001b[0m\u001b[0;34m\u001b[0m\u001b[0m\n\u001b[0m\u001b[1;32m    314\u001b[0m         \u001b[0;32mif\u001b[0m \u001b[0mlen\u001b[0m\u001b[0;34m(\u001b[0m\u001b[0mline\u001b[0m\u001b[0;34m)\u001b[0m \u001b[0;34m>\u001b[0m \u001b[0m_MAXLINE\u001b[0m\u001b[0;34m:\u001b[0m\u001b[0;34m\u001b[0m\u001b[0m\n\u001b[1;32m    315\u001b[0m             \u001b[0;32mraise\u001b[0m \u001b[0mLineTooLong\u001b[0m\u001b[0;34m(\u001b[0m\u001b[0;34m\"status line\"\u001b[0m\u001b[0;34m)\u001b[0m\u001b[0;34m\u001b[0m\u001b[0m\n",
      "\u001b[0;32m/Library/Frameworks/Python.framework/Versions/3.4/lib/python3.4/socket.py\u001b[0m in \u001b[0;36mreadinto\u001b[0;34m(self, b)\u001b[0m\n\u001b[1;32m    372\u001b[0m         \u001b[0;32mwhile\u001b[0m \u001b[0;32mTrue\u001b[0m\u001b[0;34m:\u001b[0m\u001b[0;34m\u001b[0m\u001b[0m\n\u001b[1;32m    373\u001b[0m             \u001b[0;32mtry\u001b[0m\u001b[0;34m:\u001b[0m\u001b[0;34m\u001b[0m\u001b[0m\n\u001b[0;32m--> 374\u001b[0;31m                 \u001b[0;32mreturn\u001b[0m \u001b[0mself\u001b[0m\u001b[0;34m.\u001b[0m\u001b[0m_sock\u001b[0m\u001b[0;34m.\u001b[0m\u001b[0mrecv_into\u001b[0m\u001b[0;34m(\u001b[0m\u001b[0mb\u001b[0m\u001b[0;34m)\u001b[0m\u001b[0;34m\u001b[0m\u001b[0m\n\u001b[0m\u001b[1;32m    375\u001b[0m             \u001b[0;32mexcept\u001b[0m \u001b[0mtimeout\u001b[0m\u001b[0;34m:\u001b[0m\u001b[0;34m\u001b[0m\u001b[0m\n\u001b[1;32m    376\u001b[0m                 \u001b[0mself\u001b[0m\u001b[0;34m.\u001b[0m\u001b[0m_timeout_occurred\u001b[0m \u001b[0;34m=\u001b[0m \u001b[0;32mTrue\u001b[0m\u001b[0;34m\u001b[0m\u001b[0m\n",
      "\u001b[0;32m/Library/Frameworks/Python.framework/Versions/3.4/lib/python3.4/ssl.py\u001b[0m in \u001b[0;36mrecv_into\u001b[0;34m(self, buffer, nbytes, flags)\u001b[0m\n\u001b[1;32m    749\u001b[0m                   \u001b[0;34m\"non-zero flags not allowed in calls to recv_into() on %s\"\u001b[0m \u001b[0;34m%\u001b[0m\u001b[0;34m\u001b[0m\u001b[0m\n\u001b[1;32m    750\u001b[0m                   self.__class__)\n\u001b[0;32m--> 751\u001b[0;31m             \u001b[0;32mreturn\u001b[0m \u001b[0mself\u001b[0m\u001b[0;34m.\u001b[0m\u001b[0mread\u001b[0m\u001b[0;34m(\u001b[0m\u001b[0mnbytes\u001b[0m\u001b[0;34m,\u001b[0m \u001b[0mbuffer\u001b[0m\u001b[0;34m)\u001b[0m\u001b[0;34m\u001b[0m\u001b[0m\n\u001b[0m\u001b[1;32m    752\u001b[0m         \u001b[0;32melse\u001b[0m\u001b[0;34m:\u001b[0m\u001b[0;34m\u001b[0m\u001b[0m\n\u001b[1;32m    753\u001b[0m             \u001b[0;32mreturn\u001b[0m \u001b[0msocket\u001b[0m\u001b[0;34m.\u001b[0m\u001b[0mrecv_into\u001b[0m\u001b[0;34m(\u001b[0m\u001b[0mself\u001b[0m\u001b[0;34m,\u001b[0m \u001b[0mbuffer\u001b[0m\u001b[0;34m,\u001b[0m \u001b[0mnbytes\u001b[0m\u001b[0;34m,\u001b[0m \u001b[0mflags\u001b[0m\u001b[0;34m)\u001b[0m\u001b[0;34m\u001b[0m\u001b[0m\n",
      "\u001b[0;32m/Library/Frameworks/Python.framework/Versions/3.4/lib/python3.4/ssl.py\u001b[0m in \u001b[0;36mread\u001b[0;34m(self, len, buffer)\u001b[0m\n\u001b[1;32m    621\u001b[0m         \u001b[0;32mtry\u001b[0m\u001b[0;34m:\u001b[0m\u001b[0;34m\u001b[0m\u001b[0m\n\u001b[1;32m    622\u001b[0m             \u001b[0;32mif\u001b[0m \u001b[0mbuffer\u001b[0m \u001b[0;32mis\u001b[0m \u001b[0;32mnot\u001b[0m \u001b[0;32mNone\u001b[0m\u001b[0;34m:\u001b[0m\u001b[0;34m\u001b[0m\u001b[0m\n\u001b[0;32m--> 623\u001b[0;31m                 \u001b[0mv\u001b[0m \u001b[0;34m=\u001b[0m \u001b[0mself\u001b[0m\u001b[0;34m.\u001b[0m\u001b[0m_sslobj\u001b[0m\u001b[0;34m.\u001b[0m\u001b[0mread\u001b[0m\u001b[0;34m(\u001b[0m\u001b[0mlen\u001b[0m\u001b[0;34m,\u001b[0m \u001b[0mbuffer\u001b[0m\u001b[0;34m)\u001b[0m\u001b[0;34m\u001b[0m\u001b[0m\n\u001b[0m\u001b[1;32m    624\u001b[0m             \u001b[0;32melse\u001b[0m\u001b[0;34m:\u001b[0m\u001b[0;34m\u001b[0m\u001b[0m\n\u001b[1;32m    625\u001b[0m                 \u001b[0mv\u001b[0m \u001b[0;34m=\u001b[0m \u001b[0mself\u001b[0m\u001b[0;34m.\u001b[0m\u001b[0m_sslobj\u001b[0m\u001b[0;34m.\u001b[0m\u001b[0mread\u001b[0m\u001b[0;34m(\u001b[0m\u001b[0mlen\u001b[0m \u001b[0;32mor\u001b[0m \u001b[0;36m1024\u001b[0m\u001b[0;34m)\u001b[0m\u001b[0;34m\u001b[0m\u001b[0m\n",
      "\u001b[0;31mKeyboardInterrupt\u001b[0m: "
     ]
    }
   ],
   "source": [
    "filtered = []\n",
    "for d in dallas_geo_data:\n",
    "    if \"#Trump2016\" in d['text'] or \"#Trump\" in d['text']:\n",
    "        filtered.append(d)\n",
    "# filtered = rand_sample(60, filtered)\n",
    "ave = 0\n",
    "t_count = 0\n",
    "c = 0\n",
    "while c < len(filtered):\n",
    "    try:\n",
    "        rt = twitter.get_retweets(id=filtered[c]['id'])\n",
    "        if len(rt) > 0 and rt[0]['retweet_count'] < 10 and rt[0]['favorite_count'] < 10:\n",
    "            t_count += 1\n",
    "            ave += rt[0]['retweet_count'] + rt[0]['favorite_count']\n",
    "            print(rt[0]['text'])\n",
    "            print(rt[0]['retweet_count'])\n",
    "        else:\n",
    "            print(\"NOPE\")\n",
    "        c += 1\n",
    "    except Exception:\n",
    "        if twitter.get_application_rate_limit_status()['resources']['statuses']['/statuses/retweets/:id']['remaining'] == 0:\n",
    "            print(\"RATE EXCEEDED\")\n",
    "            re_time = twitter.get_application_rate_limit_status()['resources']['statuses']['/statuses/retweets/:id']['reset']\n",
    "            curr_time = time.time()\n",
    "            time.sleep(re_time - curr_time + 5)\n",
    "        else:\n",
    "            print(\"Other Error\")\n",
    "            c += 1\n",
    "            pass\n",
    "        \n",
    "        \n",
    "        \n",
    "print(ave/t_count)\n",
    "\n",
    "\n"
   ]
  },
  {
   "cell_type": "code",
   "execution_count": null,
   "metadata": {
    "collapsed": true
   },
   "outputs": [],
   "source": [
    "if len(rt) > 0:\n",
    "    print(rt[0]['text'])\n",
    "    print(rt[0]['retweet_count'])\n",
    "else:\n",
    "    print(\"NOPE\")\n"
   ]
  },
  {
   "cell_type": "code",
   "execution_count": 113,
   "metadata": {
    "collapsed": false
   },
   "outputs": [
    {
     "data": {
      "text/plain": [
       "{'limit': 60, 'remaining': 20, 'reset': 1461984871}"
      ]
     },
     "execution_count": 113,
     "metadata": {},
     "output_type": "execute_result"
    }
   ],
   "source": [
    "twitter.get_application_rate_limit_status()['resources']['statuses']['/statuses/retweets/:id']"
   ]
  },
  {
   "cell_type": "code",
   "execution_count": null,
   "metadata": {
    "collapsed": true
   },
   "outputs": [],
   "source": [
    "#average retweet rates\n",
    "Chicago = 2.5555555555555554\n",
    "Tampa = 2.7142857142857144\n",
    "NYC = 2.0714285714285716\n",
    "SF = 1.6\n",
    "Phoenix = \n",
    "Denver = \n",
    "Atlanta = 1.2\n",
    "DC = 1.8333333333333333\n",
    "Dallas = 2.8\n",
    "\n"
   ]
  },
  {
   "cell_type": "code",
   "execution_count": 109,
   "metadata": {
    "collapsed": true
   },
   "outputs": [],
   "source": [
    "rt = twitter.get_retweets(id=725120386086625281)"
   ]
  },
  {
   "cell_type": "code",
   "execution_count": 108,
   "metadata": {
    "collapsed": false
   },
   "outputs": [
    {
     "name": "stdout",
     "output_type": "stream",
     "text": [
      "{'favorite_count': 0, 'user': {'has_extended_profile': False, 'profile_background_image_url': 'http://abs.twimg.com/images/themes/theme1/bg.png', 'profile_link_color': '0084B4', 'is_translation_enabled': False, 'notifications': False, 'utc_offset': -10800, 'description': '', 'time_zone': 'Atlantic Time (Canada)', 'profile_background_tile': False, 'verified': False, 'entities': {'description': {'urls': []}}, 'geo_enabled': False, 'profile_sidebar_fill_color': 'DDEEF6', 'location': '', 'statuses_count': 135, 'friends_count': 46, 'name': 'S marie', 'screen_name': 'Smatsang', 'followers_count': 15, 'default_profile': True, 'contributors_enabled': False, 'profile_image_url': 'http://pbs.twimg.com/profile_images/523587154656894976/Pan5P2ri_normal.jpeg', 'profile_background_image_url_https': 'https://abs.twimg.com/images/themes/theme1/bg.png', 'created_at': 'Thu Apr 19 18:53:13 +0000 2012', 'protected': False, 'id_str': '557959193', 'favourites_count': 143, 'follow_request_sent': False, 'default_profile_image': False, 'is_translator': False, 'profile_image_url_https': 'https://pbs.twimg.com/profile_images/523587154656894976/Pan5P2ri_normal.jpeg', 'profile_text_color': '333333', 'profile_use_background_image': True, 'profile_sidebar_border_color': 'C0DEED', 'following': False, 'id': 557959193, 'lang': 'en', 'profile_background_color': 'C0DEED', 'url': None, 'listed_count': 0}, 'retweeted': False, 'favorited': False, 'coordinates': None, 'in_reply_to_user_id_str': None, 'text': 'RT @ehotalen: #TrumpTuesday #Trump2016 #TrumpTrain. On the way to Penn Ave!!!  Congrats!!!', 'source': '<a href=\"http://twitter.com/download/iphone\" rel=\"nofollow\">Twitter for iPhone</a>', 'retweet_count': 1, 'place': None, 'entities': {'symbols': [], 'urls': [], 'user_mentions': [{'id': 339367160, 'screen_name': 'ehotalen', 'indices': [3, 12], 'name': 'Rita', 'id_str': '339367160'}], 'hashtags': [{'text': 'TrumpTuesday', 'indices': [14, 27]}, {'text': 'Trump2016', 'indices': [28, 38]}, {'text': 'TrumpTrain', 'indices': [39, 50]}]}, 'contributors': None, 'truncated': False, 'lang': 'en', 'retweeted_status': {'favorite_count': 1, 'user': {'has_extended_profile': False, 'profile_background_image_url': 'http://abs.twimg.com/images/themes/theme1/bg.png', 'profile_link_color': '0084B4', 'is_translation_enabled': False, 'notifications': False, 'utc_offset': None, 'description': 'Born in Athens Greece grew up in NY. Live in Florida since 1979 married three daughters and 2 dogs. I am a banker.', 'time_zone': None, 'profile_background_tile': False, 'verified': False, 'entities': {'description': {'urls': []}}, 'geo_enabled': True, 'profile_sidebar_fill_color': 'DDEEF6', 'location': 'Tarpon Springs Fl', 'statuses_count': 198, 'friends_count': 43, 'name': 'Rita', 'screen_name': 'ehotalen', 'followers_count': 27, 'default_profile': True, 'contributors_enabled': False, 'profile_image_url': 'http://pbs.twimg.com/profile_images/699624947220619268/pwk45_bP_normal.jpg', 'profile_background_image_url_https': 'https://abs.twimg.com/images/themes/theme1/bg.png', 'created_at': 'Thu Jul 21 00:30:25 +0000 2011', 'protected': False, 'id_str': '339367160', 'favourites_count': 408, 'follow_request_sent': False, 'default_profile_image': False, 'is_translator': False, 'profile_image_url_https': 'https://pbs.twimg.com/profile_images/699624947220619268/pwk45_bP_normal.jpg', 'profile_text_color': '333333', 'profile_use_background_image': True, 'profile_sidebar_border_color': 'C0DEED', 'following': False, 'id': 339367160, 'lang': 'en', 'profile_background_color': 'C0DEED', 'url': None, 'listed_count': 0}, 'retweeted': False, 'favorited': False, 'coordinates': None, 'in_reply_to_user_id_str': None, 'text': '#TrumpTuesday #Trump2016 #TrumpTrain. On the way to Penn Ave!!!  Congrats!!!', 'source': '<a href=\"http://twitter.com/download/iphone\" rel=\"nofollow\">Twitter for iPhone</a>', 'retweet_count': 1, 'place': {'bounding_box': {'type': 'Polygon', 'coordinates': [[[-82.8069949, 28.118339], [-82.718876, 28.118339], [-82.718876, 28.173326], [-82.8069949, 28.173326]]]}, 'country_code': 'US', 'full_name': 'Tarpon Springs, FL', 'attributes': {}, 'country': 'United States', 'id': '4ad609c5e10fc033', 'place_type': 'city', 'url': 'https://api.twitter.com/1.1/geo/id/4ad609c5e10fc033.json', 'name': 'Tarpon Springs', 'contained_within': []}, 'entities': {'symbols': [], 'urls': [], 'user_mentions': [], 'hashtags': [{'text': 'TrumpTuesday', 'indices': [0, 13]}, {'text': 'Trump2016', 'indices': [14, 24]}, {'text': 'TrumpTrain', 'indices': [25, 36]}]}, 'contributors': None, 'truncated': False, 'lang': 'en', 'in_reply_to_screen_name': None, 'is_quote_status': False, 'created_at': 'Wed Apr 27 00:32:26 +0000 2016', 'in_reply_to_status_id': None, 'id_str': '725120386086625281', 'in_reply_to_user_id': None, 'geo': None, 'id': 725120386086625281, 'in_reply_to_status_id_str': None}, 'is_quote_status': False, 'created_at': 'Wed Apr 27 03:48:18 +0000 2016', 'in_reply_to_status_id': None, 'id_str': '725169675320070144', 'geo': None, 'in_reply_to_user_id': None, 'in_reply_to_screen_name': None, 'id': 725169675320070144, 'in_reply_to_status_id_str': None}\n"
     ]
    }
   ],
   "source": [
    "\n",
    "print(rt[0])"
   ]
  },
  {
   "cell_type": "code",
   "execution_count": null,
   "metadata": {
    "collapsed": true
   },
   "outputs": [],
   "source": []
  },
  {
   "cell_type": "code",
   "execution_count": null,
   "metadata": {
    "collapsed": false
   },
   "outputs": [],
   "source": [
    "dates = []\n",
    "eastern = pytz.timezone('US/Eastern')\n",
    "for d in filtered:\n",
    "    dates.append(d['created_at'])\n",
    "ones = [1]*len(dates)\n",
    "idx = pd.DatetimeIndex(dates).tz_localize(pytz.utc).tz_convert(eastern)\n",
    "dates_series = pd.Series(ones, index=idx)\n",
    "# Resampling / bucketing\n",
    "per_minuite = dates_series.resample('1Min', how='sum').fillna(0)"
   ]
  },
  {
   "cell_type": "code",
   "execution_count": null,
   "metadata": {
    "collapsed": false,
    "scrolled": true
   },
   "outputs": [],
   "source": [
    "time_chart = vincent.Line(per_minuite)\n",
    "time_chart.axis_titles(x='Time', y='Freq')"
   ]
  },
  {
   "cell_type": "code",
   "execution_count": null,
   "metadata": {
    "collapsed": true
   },
   "outputs": [],
   "source": []
  }
 ],
 "metadata": {
  "kernelspec": {
   "display_name": "Python 3",
   "language": "python",
   "name": "python3"
  },
  "language_info": {
   "codemirror_mode": {
    "name": "ipython",
    "version": 3
   },
   "file_extension": ".py",
   "mimetype": "text/x-python",
   "name": "python",
   "nbconvert_exporter": "python",
   "pygments_lexer": "ipython3",
   "version": "3.4.3"
  }
 },
 "nbformat": 4,
 "nbformat_minor": 0
}
