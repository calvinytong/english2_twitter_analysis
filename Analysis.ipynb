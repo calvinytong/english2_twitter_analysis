{
 "cells": [
  {
   "cell_type": "code",
   "execution_count": 2,
   "metadata": {
    "collapsed": false
   },
   "outputs": [
    {
     "data": {
      "text/html": [
       "\n",
       "           <script>\n",
       "               \n",
       "                function vct_load_lib(url, callback){\n",
       "                      if(typeof d3 !== 'undefined' &&\n",
       "                         url === 'http://d3js.org/d3.v3.min.js'){\n",
       "                        callback()\n",
       "                      }\n",
       "                      var s = document.createElement('script');\n",
       "                      s.src = url;\n",
       "                      s.async = true;\n",
       "                      s.onreadystatechange = s.onload = callback;\n",
       "                      s.onerror = function(){\n",
       "                        console.warn(\"failed to load library \" + url);\n",
       "                        };\n",
       "                      document.getElementsByTagName(\"head\")[0].appendChild(s);\n",
       "                };\n",
       "                var vincent_event = new CustomEvent(\n",
       "                  \"vincent_libs_loaded\",\n",
       "                  {bubbles: true, cancelable: true}\n",
       "                );\n",
       "                \n",
       "               function load_all_libs(){\n",
       "                  console.log('Loading Vincent libs...')\n",
       "                  vct_load_lib('http://d3js.org/d3.v3.min.js', function(){\n",
       "                  vct_load_lib('http://d3js.org/d3.geo.projection.v0.min.js', function(){\n",
       "                  vct_load_lib('http://wrobstory.github.io/d3-cloud/d3.layout.cloud.js', function(){\n",
       "                  vct_load_lib('http://wrobstory.github.io/vega/vega.v1.3.3.js', function(){\n",
       "                  window.dispatchEvent(vincent_event);\n",
       "                  });\n",
       "                  });\n",
       "                  });\n",
       "                  });\n",
       "               };\n",
       "               if(typeof define === \"function\" && define.amd){\n",
       "                    if (window['d3'] === undefined ||\n",
       "                        window['topojson'] === undefined){\n",
       "                        require.config(\n",
       "                            {paths: {\n",
       "                              d3: 'http://d3js.org/d3.v3.min',\n",
       "                              topojson: 'http://d3js.org/topojson.v1.min'\n",
       "                              }\n",
       "                            }\n",
       "                          );\n",
       "                        require([\"d3\"], function(d3){\n",
       "                            console.log('Loading Vincent from require.js...')\n",
       "                            window.d3 = d3;\n",
       "                            require([\"topojson\"], function(topojson){\n",
       "                                window.topojson = topojson;\n",
       "                                load_all_libs();\n",
       "                            });\n",
       "                        });\n",
       "                    } else {\n",
       "                        load_all_libs();\n",
       "                    };\n",
       "               }else{\n",
       "                    console.log('Require.js not found, loading manually...')\n",
       "                    load_all_libs();\n",
       "               };\n",
       "\n",
       "           </script>"
      ],
      "text/plain": [
       "<IPython.core.display.HTML object>"
      ]
     },
     "metadata": {},
     "output_type": "display_data"
    }
   ],
   "source": [
    "import pickle as pkl\n",
    "import numpy as np\n",
    "import matplotlib.pyplot as plt\n",
    "import json\n",
    "from nltk.tokenize import word_tokenize\n",
    "import re\n",
    "from collections import Counter\n",
    "from nltk.corpus import stopwords\n",
    "import string\n",
    "import pandas as pd\n",
    "import pytz\n",
    "import vincent\n",
    "import random\n",
    "from wordcloud import WordCloud\n",
    "from twython import Twython\n",
    "import os\n",
    "import time\n",
    "vincent.core.initialize_notebook()\n",
    "%matplotlib inline"
   ]
  },
  {
   "cell_type": "markdown",
   "metadata": {},
   "source": [
    "# Define Helper Methods"
   ]
  },
  {
   "cell_type": "markdown",
   "metadata": {},
   "source": [
    "## Text Processing Methods\n",
    "methods and regular expressions for doing tweet preprocessing"
   ]
  },
  {
   "cell_type": "code",
   "execution_count": 3,
   "metadata": {
    "collapsed": false
   },
   "outputs": [],
   "source": [
    "#regex to filter bad strings    \n",
    "regex_str = [\n",
    "    r'<[^>]+>', # HTML tags\n",
    "    r'(?:@[\\w_]+)', # @-mentions\n",
    "    r\"(?:\\#+[\\w_]+[\\w\\'_\\-]*[\\w_]+)\", # hash-tags\n",
    "    r'http[s]?://(?:[a-z]|[0-9]|[$-_@.&+]|[!*\\(\\),]|(?:%[0-9a-f][0-9a-f]))+', # URLs\n",
    " \n",
    "    r'(?:(?:\\d+,?)+(?:\\.?\\d+)?)', # numbers\n",
    "    r\"(?:[a-z][a-z'\\-_]+[a-z])\", # words with - and '\n",
    "    r'(?:[\\w_]+)', # other words\n",
    "    r'(?:\\S)' # anything else\n",
    "]\n",
    "\n",
    "#use re to compile the regex\n",
    "tokens_re = re.compile(r'('+'|'.join(regex_str)+')', re.VERBOSE | re.IGNORECASE)\n",
    "emoticon_re = re.compile(\"[\"\n",
    "        u\"\\U0001F600-\\U0001F64F\"  # emoticons\n",
    "        u\"\\U0001F300-\\U0001F5FF\"  # symbols & pictographs\n",
    "        u\"\\U0001F680-\\U0001F6FF\"  # transport & map symbols\n",
    "        u\"\\U0001F1E0-\\U0001F1FF\"  # flags (iOS)\n",
    "                           \"]+\", flags=re.UNICODE)\n",
    "   \n",
    "def tokenize(s):\n",
    "    \"\"\"\n",
    "    Tokenizes a string\n",
    "    -Parameter s: The string to tokenize\n",
    "    -Return: The tokenized string\n",
    "    \"\"\"\n",
    "    return tokens_re.findall(s)\n",
    " \n",
    "def preprocess(s, lowercase=False):\n",
    "    \"\"\"\n",
    "    Preprocesses string by tokenizing and applying the emoticon and string regex\n",
    "    Parameter s: The string to preprocess\n",
    "    Return: The list of the processed tokens\n",
    "    \"\"\"\n",
    "    tokens = tokenize(s)\n",
    "    if lowercase:\n",
    "        tokens = [token if emoticon_re.search(token) else token.lower() for token in tokens]\n",
    "    return tokens"
   ]
  },
  {
   "cell_type": "markdown",
   "metadata": {},
   "source": [
    "## Map Helper Methods\n",
    "Methods to aid in the mapping of tweets using leaflet.js"
   ]
  },
  {
   "cell_type": "code",
   "execution_count": 4,
   "metadata": {
    "collapsed": true
   },
   "outputs": [],
   "source": [
    "def to_json(data_array):\n",
    "    \"\"\"\n",
    "    Converts an array of tweets into a json file that can be used by leaflet.js to create a map and\n",
    "    saves the json file to the directory using the name geo_data.json. Note that this quietly overwrites\n",
    "    the current data_array so be careful using it\n",
    "    -Parameter data_array: The array to be converted\n",
    "    \"\"\"\n",
    "    #initialize geo_data json (just a dict here) to feed in to the maps\n",
    "    geo_data = {\n",
    "        \"type\": \"FeatureCollection\",\n",
    "        \"features\": []\n",
    "    }\n",
    "\n",
    "    #populate the json file\n",
    "    for d in data_array:\n",
    "        geo_json_feature = {\n",
    "                \"type\": \"Feature\",\n",
    "                \"geometry\": {\"type\" : \"Point\", \"coordinates\" : d['coordinates']},\n",
    "                \"properties\": {\n",
    "                    \"text\": d['text'],\n",
    "                    \"created_at\": d['created_at']\n",
    "                }\n",
    "            }\n",
    "        geo_data['features'].append(geo_json_feature)\n",
    "\n",
    "    #write the json out to a file\n",
    "    with open('geo_data.json', 'w') as fout:\n",
    "        fout.write(json.dumps(geo_data, indent=4))"
   ]
  },
  {
   "cell_type": "markdown",
   "metadata": {},
   "source": [
    "## Vector Helper Methods\n",
    "methods for doing useful computations using vectors in python list form"
   ]
  },
  {
   "cell_type": "code",
   "execution_count": 5,
   "metadata": {
    "collapsed": true
   },
   "outputs": [],
   "source": [
    "#Note vectors here are denoted by normal python lists\n",
    "\n",
    "def vector_add(v,w):\n",
    "    \"\"\"\n",
    "    Perform a vector addition with two vectors\n",
    "    -Parameter v: The first vector to add\n",
    "    -Parameter w: The second vector to add\n",
    "    -Return: The two vectors added together elementwise \n",
    "    ex. [0,2] + [1,1] = [1,3]\n",
    "    \"\"\"\n",
    "    return[v_i + w_i for v_i, w_i in zip(v,w)]\n",
    "\n",
    "def vector_sum(vectors):\n",
    "    \"\"\"\n",
    "    Perform a vector sum with an array of vectors\n",
    "    -Parameter vectors: A list holding the vectors to be added\n",
    "    -Return: The list of vectors added together \n",
    "    ex. [0,2] + [1,1] + [2,2] = [3,5]\n",
    "    \"\"\"\n",
    "    result = vectors[0]\n",
    "    for vector in vectors[1:]:\n",
    "        result = vector_add(result, vector)\n",
    "    return result\n",
    "\n",
    "def vector_subtract(v, w):\n",
    "    \"\"\"\n",
    "    Perform a vector subtraction with two vectors as v-w\n",
    "    -Parameter v: The vector to be subtracted from\n",
    "    -Parameter w: The vector to subtract\n",
    "    -Return: The two vectors subtracted elementwise \n",
    "    ex. [1,3] - [1,1] = [0,2]\n",
    "    \"\"\"\n",
    "    return [v_i - w_i for v_i, w_i in zip(v,w)]\n",
    "\n",
    "def scalar_multiply(c, v):\n",
    "    \"\"\"\n",
    "    Preform a scalar multiplication on vector v by constant c\n",
    "    -Paramter c: The constant to be multiplied by\n",
    "    -Paramter v: The vector to be scalar multiplied\n",
    "    -Return The vector scalar multiplied by c\n",
    "    ex. 3 * [1,2] = [3,6]\n",
    "    \"\"\"\n",
    "    return[c * v_i for v_i in v]\n",
    "\n",
    "def vector_mean(vectors):\n",
    "    \"\"\"\n",
    "    Compute a component wise mean for a list of vectors\n",
    "    -Parameter vectors: The list of vectors to be averaged\n",
    "    -Return a vector whose elements are the componentwise means of the vectors in the vector list\n",
    "    ex. vector_mean([[0,1], [1,1]]) = [0.5,1]\n",
    "    \"\"\"\n",
    "    n = len(vectors)\n",
    "    return scalar_multiply(1/n, vector_sum(vectors))\n",
    "\n",
    "def dot(v, w):\n",
    "    \"\"\"\n",
    "    Compute v dot w. Note order does not matter because v dot w = w dot v for all vectors\n",
    "    -Parameter v: a vector to be dotted\n",
    "    -Parameter w: the second vector to be dotted\n",
    "    -Return v dot w\n",
    "    ex. [1,1] dot [2,2] = 4\n",
    "    \"\"\"\n",
    "    return sum(v_i * w_i for v_i, w_i in zip(v,w))\n",
    "\n",
    "def sum_of_squares(v):\n",
    "    \"\"\"\n",
    "    Returns the sum of squares for a given vector. Note this is just v dot v\n",
    "    -Parameter v: The vector to be summed\n",
    "    -Return the sum of squares of vector v. Can be sqrted to get vector length\n",
    "    ex. sum_of_squares([2,2]) = 8\n",
    "    \"\"\"\n",
    "    return dot(v,v)\n",
    "\n",
    "def squared_distance(v,w):\n",
    "    \"\"\"\n",
    "    Computes the squared distance between two vectors. Note this is just the sum of squares of v-w\n",
    "    -Parameter v: The first vector\n",
    "    -Parameter w: The second vector\n",
    "    -Return The squared distance between two vectors. Can be sqrted to get vector distance\n",
    "    ex. sum_of_squares([2,2],[1,1]) = 2\n",
    "    \"\"\"\n",
    "    return sum_of_squares(vector_subtract(v,w))"
   ]
  },
  {
   "cell_type": "code",
   "execution_count": 6,
   "metadata": {
    "collapsed": true
   },
   "outputs": [],
   "source": [
    "class KMeans(object):\n",
    "    \"\"\"performs k-means clustering\"\"\"\n",
    "\n",
    "    def __init__(self, k):\n",
    "        \"\"\"\n",
    "        Init the KMeans object\n",
    "        -Parameter k: the number of clusters to find\n",
    "        \"\"\"\n",
    "        self.k = k          # number of clusters\n",
    "        self.means = None   # means of clusters\n",
    "\n",
    "    def classify(self, input_vector):\n",
    "        \"\"\"\n",
    "        Return the index of the cluster closest to the input\n",
    "        -Parameter input_vector: the vector to be classified\n",
    "        -Return the cluster closest to the input_vector\n",
    "        \"\"\"\n",
    "        return min(range(self.k),\n",
    "                   key=lambda i: squared_distance(input_vector, self.means[i]))\n",
    "\n",
    "    def train(self, inputs):\n",
    "        \"\"\"\n",
    "        Train the k means object on a given input of vector arrays. Finds K means of clusters in the data\n",
    "        -Parameter inputs: The list of vectors to be trained on\n",
    "        \"\"\"\n",
    "        \n",
    "        #randomly pick the means to start out with\n",
    "        self.means = random.sample(inputs, self.k)\n",
    "        assignments = None\n",
    "\n",
    "        while True:\n",
    "            # Find new assignments\n",
    "            new_assignments = list(map(self.classify, inputs))\n",
    "\n",
    "            # If no assignments have changed, then we have convergence and are done\n",
    "            if assignments == new_assignments:\n",
    "                return\n",
    "\n",
    "            # Otherwise keep the new assignments,\n",
    "            assignments = new_assignments\n",
    "\n",
    "            for i in range(self.k):\n",
    "                i_points = [p for p, a in zip(inputs, assignments) if a == i]\n",
    "                # avoid divide-by-zero if i_points is empty\n",
    "                if i_points:\n",
    "                    self.means[i] = vector_mean(i_points)\n"
   ]
  },
  {
   "cell_type": "markdown",
   "metadata": {},
   "source": [
    "## Data Analysis and Filtration Helper Methods\n",
    "Methods to help with analysis and filtration of the data\n",
    "Note the bounding boxes are specified in the following form:\n",
    "[left_lower_lat, left_lower_long, right_upper_lat, right_upper_long]\n",
    "\n",
    "coordinates are in WSG84"
   ]
  },
  {
   "cell_type": "code",
   "execution_count": 7,
   "metadata": {
    "collapsed": true
   },
   "outputs": [],
   "source": [
    "def plot_bar(datums):\n",
    "    \"\"\"\n",
    "    Plots a bar graph of the passed list of tuples ordered (name, score)\n",
    "    -Parameter datums: The list of tuples to be plotted\n",
    "    \"\"\"\n",
    "    datums.sort(key=lambda x: x[1], reverse=True) \n",
    "    hashtag = list(zip(*datums))[0]\n",
    "    score = list(zip(*datums))[1]\n",
    "    x_pos = np.arange(len(hashtag)) \n",
    "    plt.figure(figsize=(20, 10))\n",
    "    plt.bar(x_pos, score,align='center')\n",
    "    plt.xticks(x_pos, hashtag) \n",
    "    plt.ylabel('Score')\n",
    "    "
   ]
  },
  {
   "cell_type": "code",
   "execution_count": 8,
   "metadata": {
    "collapsed": true
   },
   "outputs": [],
   "source": [
    "def filter_geo(d_array, loc):\n",
    "    \"\"\"\n",
    "    Filters a given array of tweets to only include tweets within a the given bounding box.\n",
    "    -Parameter d_array: The array of tweets to be filtered\n",
    "    -Parameter loc: The bounding box to be filtered\n",
    "    -Return: A list containing the filtered tweets\n",
    "    \"\"\"\n",
    "    geo_array = []\n",
    "    for dd in d_array:\n",
    "        if(checkBox(dd,loc)):\n",
    "            #append the data point to the data array\n",
    "            geo_array.append(dd)\n",
    "    return geo_array\n",
    "    "
   ]
  },
  {
   "cell_type": "code",
   "execution_count": 9,
   "metadata": {
    "collapsed": true
   },
   "outputs": [],
   "source": [
    "def count_terms(d_array):\n",
    "    punctuation = list(string.punctuation)\n",
    "    stop = stopwords.words('english') + punctuation + ['via', 'I\\'m', 'I', '😂', 'like','get','don\\'t']\n",
    "\n",
    "    count = Counter()\n",
    "    for d in d_array:\n",
    "    #     tokens = preprocess(d['text'])\n",
    "    #     terms_stop = [term for term in preprocess(d['text']) if term not in stop]\n",
    "        terms_hash = [term for term in preprocess(d['text']) if term.startswith('#')]\n",
    "        count.update(terms_hash)\n",
    "        del count['#']\n",
    "    return count"
   ]
  },
  {
   "cell_type": "code",
   "execution_count": 10,
   "metadata": {
    "collapsed": true
   },
   "outputs": [],
   "source": [
    "def rand_sample(n , dat_arr):\n",
    "    rand_smpl = [ dat_arr[i] for i in sorted(random.sample(range(len(dat_arr)), n))]\n",
    "    return rand_smpl"
   ]
  },
  {
   "cell_type": "code",
   "execution_count": 11,
   "metadata": {
    "collapsed": true
   },
   "outputs": [],
   "source": [
    "#Bounding Boxes of the most populous cities in the US and a few others to get a better spread\n",
    "nyc = [-74,40,-73,41]\n",
    "san_fran = [-122.75,36.8,-121.75,37.8]\n",
    "la = [-118.668176,33.703692,-118.155289,34.337306]\n",
    "chicago = [-87.940267,41.644335,-87.524044,42.023131]\n",
    "houston = [-95.788087,29.523624,-95.014496,30.110732]\n",
    "philadelphia = [-75.280303,39.871514,-74.955763,40.137992]\n",
    "phoenix = [-112.324056,33.29026,-111.926046,33.92057]\n",
    "san_antonio = [-98.805851,29.224141,-98.222958,29.73872]\n",
    "san_diego = [-117.282167,32.534856,-116.90816,33.114249]\n",
    "dallas = [-98.2538,31.9899,-95.4461,33.6828]\n",
    "san_jose = [-122.045668,37.124493,-121.589154,37.469538]\n",
    "seattle = [-122.435908,47.495551,-122.235903,47.734145]\n",
    "denver = [-105.109927,39.614431,-104.600296,39.914247]\n",
    "nashville = [-87.054903,35.967785,-86.515588,36.405496]\n",
    "jacksonville = [-82.049502,30.103748,-81.391412,30.586232]\n",
    "tampa = [-82.906952,27.616014,-82.259741,28.171478]\n",
    "dc = [-77.6001,38.5294,-76.5106,39.1381]\n",
    "atlanta = [-84.9008,33.3635,-83.8162,34.2041]"
   ]
  },
  {
   "cell_type": "code",
   "execution_count": 12,
   "metadata": {
    "collapsed": false
   },
   "outputs": [],
   "source": [
    "def checkBox(d, box):\n",
    "    \"\"\"\n",
    "    Checks if a given tweet is inside a bounding box\n",
    "    -Parameter d: The tweet to be checked\n",
    "    -Parameter box: The bounding box to be checked\n",
    "    -Return: True if the tweet is inside the box. False if it is outside\n",
    "    \"\"\"\n",
    "    x = d['coordinates'][0]\n",
    "    y = d['coordinates'][1]\n",
    "    if(x < box[0]): \n",
    "        return False\n",
    "    if(y < box[1]): \n",
    "        return False\n",
    "    if(x >= box[2]): \n",
    "        return False\n",
    "    if(y >= box[3]): \n",
    "        return False\n",
    "    return True"
   ]
  },
  {
   "cell_type": "code",
   "execution_count": 13,
   "metadata": {
    "collapsed": true
   },
   "outputs": [],
   "source": [
    "#we filter these hashtags because they seem to dominate everywhere and are not very useful tweets to look at because\n",
    "#they are just advertisements\n",
    "bad_hashtags = ['#Hiring','#job','#Job','#Jobs','#CareerArc']"
   ]
  },
  {
   "cell_type": "markdown",
   "metadata": {},
   "source": [
    "# Start of Data Analysis\n",
    "This is where we start actually analyzing the data"
   ]
  },
  {
   "cell_type": "markdown",
   "metadata": {},
   "source": [
    "## Unpickle The Tweet File \n",
    "We start by unpickling the tweet file, filtering out tweets with no hashtags or with blacklisted hashtags, then storing the tweet in an array."
   ]
  },
  {
   "cell_type": "code",
   "execution_count": 14,
   "metadata": {
    "collapsed": false
   },
   "outputs": [],
   "source": [
    "f = open('/Users/calvin/Documents/Lehigh/English/Research/data/cap4.pkl', 'rb')\n",
    "data_array = []\n",
    "geo_data = []\n",
    "count = 0\n",
    "x_sum = 0\n",
    "y_sum = 0\n",
    "\n",
    "while True:\n",
    "    try:\n",
    "        dd = pkl.load(f)\n",
    "    except EOFError:\n",
    "        break\n",
    "    except Exception:\n",
    "        print(count)\n",
    "        count += 1\n",
    "        unpickler.load()\n",
    "        continue\n",
    "    else:\n",
    "        #right now we just take the first coordinate in the bounding box as the actual\n",
    "        #we could average to find the middle, but this seems good enough for now\n",
    "        if dd['coordinates'] == None:\n",
    "            if dd['place'] == None:\n",
    "                continue\n",
    "            dd['coordinates'] = vector_mean(dd['place']['bounding_box']['coordinates'][0])\n",
    "        else:\n",
    "            #account for edge case where coordinates are wrapped\n",
    "            dd['coordinates'] = dd['coordinates']['coordinates']\n",
    "        \n",
    "        #filter out all tweets with no hashtags and take out word related hashtags because those are unhelpful\n",
    "        #TODO- we can keep more data if we can do a sentiment analysis on the tweets instead of just filtering\n",
    "        if '#' in dd['text'] and (not any(hashtag in dd['text'] for hashtag in bad_hashtags)):\n",
    "            data_array.append(dd)"
   ]
  },
  {
   "cell_type": "markdown",
   "metadata": {},
   "source": [
    "## Filter Tweets by Geo Location\n",
    "Apply location based filtering to the preprocessed dataset and randomly sample the preprocessed data set."
   ]
  },
  {
   "cell_type": "code",
   "execution_count": 15,
   "metadata": {
    "collapsed": false
   },
   "outputs": [
    {
     "name": "stdout",
     "output_type": "stream",
     "text": [
      "21898\n",
      "8607\n",
      "15894\n",
      "6710\n",
      "2637\n",
      "2815\n"
     ]
    }
   ],
   "source": [
    "nyc_geo_data = filter_geo(data_array, nyc)\n",
    "sf_geo_data = filter_geo(data_array, san_fran)\n",
    "la_geo_data = filter_geo(data_array, la)\n",
    "ch_geo_data = filter_geo(data_array, chicago)\n",
    "sea_geo_data = filter_geo(data_array, seattle)\n",
    "tamp_geo_data = filter_geo(data_array, tampa)\n",
    "dallas_geo_data = filter_geo(data_array, dallas)\n",
    "dc_geo_data = filter_geo(data_array, dc)\n",
    "atlanta_geo_data = filter_geo(data_array, atlanta)\n",
    "geo_data = [nyc_geo_data,sf_geo_data,ch_geo_data,sea_geo_data,tamp_geo_data]\n",
    "print(len(nyc_geo_data))\n",
    "print(len(sf_geo_data))\n",
    "print(len(la_geo_data))\n",
    "print(len(ch_geo_data))\n",
    "print(len(sea_geo_data))\n",
    "print(len(tamp_geo_data))"
   ]
  },
  {
   "cell_type": "code",
   "execution_count": 24,
   "metadata": {
    "collapsed": false
   },
   "outputs": [],
   "source": [
    "n = len(data_array)\n",
    "#create a random sample of size n form the data_array\n",
    "rand_smpl = rand_sample(n,data_array)"
   ]
  },
  {
   "cell_type": "markdown",
   "metadata": {},
   "source": [
    "## Find Most Common Hashtags in our Data and Graph Them Using Histograms"
   ]
  },
  {
   "cell_type": "code",
   "execution_count": 25,
   "metadata": {
    "collapsed": false,
    "scrolled": true
   },
   "outputs": [],
   "source": [
    "count_sf = count_terms(sf_geo_data)\n",
    "count_nyc = count_terms(nyc_geo_data)\n",
    "count_la = count_terms(la_geo_data)\n",
    "count_ch = count_terms(ch_geo_data)\n",
    "count_sea = count_terms(sea_geo_data)\n",
    "count_tamp = count_terms(tamp_geo_data)\n",
    "count_rand = count_terms(rand_smpl)"
   ]
  },
  {
   "cell_type": "code",
   "execution_count": 33,
   "metadata": {
    "collapsed": false
   },
   "outputs": [
    {
     "data": {
      "image/png": "[encoded data removed]",
      "text/plain": [
       "<matplotlib.figure.Figure at 0x2a567cc50>"
      ]
     },
     "metadata": {},
     "output_type": "display_data"
    }
   ],
   "source": [
    "plot_bar(count_sf.most_common(10))\n",
    "# plot_bar(count_nyc.most_common(10))\n",
    "# plot_bar(count_la.most_common(10))\n",
    "# plot_bar(count_ch.most_common(10))\n",
    "# plot_bar(count_sea.most_common(10))\n",
    "# plot_bar(count_tamp.most_common(10))\n",
    "# plot_bar(count_rand.most_common(10))\n",
    "\n"
   ]
  },
  {
   "cell_type": "code",
   "execution_count": 27,
   "metadata": {
    "collapsed": false,
    "scrolled": false
   },
   "outputs": [
    {
     "name": "stdout",
     "output_type": "stream",
     "text": [
      "[('#nyc', 495), ('#NYC', 398), ('#I278', 199), ('#ALDUB41stWeeksary', 197), ('#newyork', 182), ('#np', 166), ('#Empire', 161), ('#RedneckTVShows', 155), ('#MakeAMovieSick', 148), ('#SoundCloud', 139), ('#Repost', 135), ('#NY', 129), ('#LGM', 127), ('#NYCFC', 122), ('#I495', 120), ('#brooklyn', 107), ('#LEMONADE', 104), ('#Isles', 104), ('#I95', 102), ('#ImWithHer', 97), ('#RoadToRio', 96), ('#SuperTuesday', 96), ('#womancard', 93), ('#UndergroundWGN', 93), ('#Trump', 93), ('#traffic', 89), ('#manhattan', 84), ('#InternationalTravelReviews', 83), ('#newyorkcity', 80), ('#Brooklyn', 77), ('#FeelTheBern', 76), ('#DisabilityAdvocate', 71), ('#gunsense', 69), ('#TravelReviews', 68), ('#Tourism', 67), ('#JCOLE', 66), ('#NeverTrump', 65), ('#TORYLANEZ', 64), ('#art', 64), ('#NewYork', 64), ('#RHOBH', 63), ('#WednesdayWisdom', 63), ('#love', 61), ('#I678', 60), ('#BernieOrBust', 59), ('#TedCruz', 59), ('#ElevateNYC', 59), ('#3Line', 59), ('#Trump2016', 59), ('#NYCvMTL', 59), ('#music', 57), ('#GeorgeWashingtonBridge', 56), ('#DonaldTrump', 56), ('#Leisure', 55), ('#100DaysOut', 55), ('#tbt', 54), ('#Mets', 53), ('#isles', 52), ('#Prince', 51), ('#mets', 51), ('#Queens', 50), ('#GrandCentralParkway', 50), ('#Peacebuilding', 49), ('#FORRMktg', 49), ('#Arrow', 46), ('#NY27', 46), ('#2Line', 46), ('#FranklinDRooseveltDrive', 44), ('#photo', 44), ('#FamilyTherapy', 44), ('#ny', 43), ('#centralpark', 43), ('#BernieSanders', 43), ('#SprainBrookStateParkway', 43), ('#CDOSummitNYC', 42), ('#Quant', 42), ('#WeAreOne', 41), ('#spring', 40), ('#BeerMenus', 40), ('#StanleyCup', 40), ('#Bronx', 39), ('#BloglovinBoss', 39), ('#AcelaPrimary', 39), ('#NBAPlayoffs', 39), ('#CarlyFiorina', 39), ('#Drake', 38), ('#4Line', 38), ('#RHONY', 38), ('#AdweekChat', 38), ('#6Line', 37), ('#UFC200', 37), ('#Brysontiller', 36), ('#AgentsofSHIELD', 36), ('#FLine', 36), ('#NowPlaying', 36), ('#FormationWorldTour', 35), ('#NewFlames', 35), ('#DavidBowie', 35), ('#food', 35), ('#HillaryClinton', 35)]\n"
     ]
    }
   ],
   "source": [
    "# print(count_sf.most_common(100))\n",
    "print(count_nyc.most_common(100))\n",
    "# print(count_la.most_common(100))\n",
    "# print(count_rand.most_common(100))"
   ]
  },
  {
   "cell_type": "code",
   "execution_count": 31,
   "metadata": {
    "collapsed": false
   },
   "outputs": [
    {
     "name": "stdout",
     "output_type": "stream",
     "text": [
      "#nyc 495\n",
      "#NYC 398\n",
      "#I278 199\n",
      "#ALDUB41stWeeksary 197\n",
      "#newyork 182\n",
      "#np 166\n",
      "#Empire 161\n",
      "#RedneckTVShows 155\n",
      "#MakeAMovieSick 148\n",
      "#SoundCloud 139\n"
     ]
    }
   ],
   "source": [
    "f = open('commonhashscore.csv','w')\n",
    "for key,score in count_nyc.most_common(10):\n",
    "    print(key,score)\n",
    "    f.write(str(key) + ',' + str(score) + '\\n')"
   ]
  },
  {
   "cell_type": "code",
   "execution_count": null,
   "metadata": {
    "collapsed": true
   },
   "outputs": [],
   "source": [
    "text = \"\"\n",
    "for key,score in count_nyc.most_common(100):\n",
    "    for x in range(0,score):\n",
    "        text += key + \" \""
   ]
  },
  {
   "cell_type": "code",
   "execution_count": null,
   "metadata": {
    "collapsed": false
   },
   "outputs": [],
   "source": [
    "wordcloud = WordCloud().generate(text)\n",
    "plt.figure(figsize=(20, 20))\n",
    "plt.imshow(wordcloud)\n",
    "plt.axis(\"off\")"
   ]
  },
  {
   "cell_type": "code",
   "execution_count": 18,
   "metadata": {
    "collapsed": true
   },
   "outputs": [],
   "source": [
    "def load_keys():\n",
    "    keys = []\n",
    "    path = os.path.join('.keys')\n",
    "    f = open(path, 'r')\n",
    "    for line in f:\n",
    "        keys.append(str(line).replace('\\n',''))\n",
    "    return keys"
   ]
  },
  {
   "cell_type": "code",
   "execution_count": 19,
   "metadata": {
    "collapsed": false
   },
   "outputs": [],
   "source": [
    "keys = load_keys()\n",
    "twitter = Twython(keys[0], keys[1],\n",
    "                  keys[2], keys[3])"
   ]
  },
  {
   "cell_type": "code",
   "execution_count": 35,
   "metadata": {
    "collapsed": false
   },
   "outputs": [
    {
     "name": "stdout",
     "output_type": "stream",
     "text": [
      "174\n",
      "Thank you Rhode Island! #Trump2016 https://t.co/EzCvm7yc0Y\n",
      "#Trump wins #RhodeIsland\n",
      "Bring out the brooms #Trump2016\n",
      "#Republicans ought not fight #Trump2016. What happened to trust the process? Or is that only for those fighting #BlackLivesMatter activists?\n",
      "#Trump#Trump#Trump#Trump#Trump sweep ❤️✨‼️🇺🇸🍾👍🏻\n",
      "Any1 in need of home improvement work 4 their homes @ good prices, do it now B4 #Trump kicks all the Mexicans out #MakeAmericaGreatAgain\n",
      "Question to all #Trump doubters, after seeing tonight's numbers, what do U think now? #Believe #RealChange #SaveAmerica\n",
      "#Trump can WIN IT ALL if he picks @GonzoShitCock as a running mate??\n",
      "If I have to stare at this for the next 4 imma be tight #Trump2016 https://t.co/dZu6HFqRVa\n",
      "#MakeAmericaGreatAgain #AcelaPrimary #Trump2016  Willie Robertson Huge Trump Supporter w/Trump's cousin London!  https://t.co/b0ik190WHi\n",
      "LIVE Donald Trump Primary Night CLEAN SWEEP WINNING SPEECH Press Conference Trump Tower ✔\n",
      "#Trump2016 #AlwaysTrump https://t.co/IIE0UB1ufH\n",
      "Thank you Delaware! #Trump2016 https://t.co/FeXThmUWuo\n",
      "How sweep it is #Trump2016\n",
      "@cheryl888888 @meetthepress I cant argue w u on that 1. I like #Trump but I would not hire him  for a job w his attitude &amp; lack of details\n",
      "I hope left faggots move to Canada, it will only make it easier for Trump to win a 2nd term #TrumpTrain #Trump2016 #Trump\n",
      "Hillary creates jobs. Look at the sweet deal Chelsea got!  Vote #Trump2016\n",
      "@jimbearNJ @GENUG @KAFosterSowell #ElectorialCongress was CREATED to take OUR #vote away as THEY were scared of a #Trump!\n",
      "@KAFosterSowell @GENUG @jimbearNJ @marklevinshow NOT a *runaway* candidate, a #Trump SCARE to the system!\n",
      "@HillaryClinton #MakeAmericaGreatAgain With More Corruption and Deceit! #Trump2016 #SuperTuesday #freecumforeveryone\n",
      "https://t.co/ZmJNps3mZ4\n",
      "@realDonaldTrump its time for Cruz and Kasich to drop out, the people are speaking via the votes! #MakeAmericaGreatAgain #Trump2016\n",
      "@secupp you should be the last person talk about anyone especially @realDonaldTrump  having lack of knowledge. Ur 🇩🇺🇲🇧er than 💩 #Trump2016 󾓦\n",
      "He is number 1 at rambling, pointless speeches. #Trump2016\n",
      "@jimbearNJ @KAFosterSowell @GENUG @marklevinshow #IndianaPrimary is MEANINGLESS in the #Trump race??\n",
      "#Trump: \"I consider myself the presumptive nominee.\"\n",
      "@dianberly712#Trump.Look at Christie &amp;hiswife standing on either side of Donald as he basks in yet another victory.#Lackey\n",
      "Ben Carson is working the Trump Tower sound system. #Trump #msnbc\n",
      "@Singleton_Paul I posted a picture of #Trump reading his book to a little green man in in bed....\n",
      "#Trump talking about governors of major states who were supposed to win as #Christie plays the background.  #CNN https://t.co/N5aZuY4f71\n",
      "I really don't want #Hillary or #Trump to be our #president #feelingthebern =T #Bernie2016 @ New… https://t.co/DVjA3vJZVl\n",
      "@AIIAmericanGirI @flhrs98  🐍🐍 #Lyin'Ted cant win as a so called \"outsider\" as GOPe hack or Indie He can only win as Canadian PM #Trump2016 󾓦\n",
      "Wow, Christie is really a full on boot licking lacky. #Trump2016\n",
      "@Reince what we can't afford a #Trump in the WH and another GOP lead Congress...\n",
      "@realDonaldTrump \n",
      "Every County in every State tonight was won by #Trump2016 https://t.co/VdtqEPPMhh\n",
      "#Trump merely needs 46% of the remaining delegates. #MoreTheForceifMoreTheResistance\n",
      "The #TrumpTrain is racing wildly westward at 500 MPH. Indiana could be Ted Cruz's Waterloo. #SuperTuesday\n",
      "@realDonaldTrump wins all states, again ! #Trump #Daddy  https://t.co/7vBFl0sWLF\n",
      "@scottienhughes @AJDelgado13 Just realized, back in 2014, OR voters overwhelmingly passed Measure 88...#Trump2016\n",
      "@seanhannity My preference for #Trump's running mate is either Condoleezza Rice, General Petraeus or General McChrystal.\n",
      "If you're trying to get through to a #Trump supporter as to why he's _____________.  You're fighting a losing battle!! #DontWasteYourTime 🤐\n",
      "@Slate That will be next if #Trump wins! He'll have his face on the #TrumpDollarBILL!\n",
      ".@realDonaldTrump @MELANIATRUMP come up escalator at #Trump Tower- to speak w/ AMERICA🇺🇸after a 5-0 ✅#SuperTuesday🚀 https://t.co/XgFytGHgoF\n",
      "The name fits @AC360 perfectly: idiot talking heads argue for an hour, yet you end up right back where you started. #SuperTuesday #Trump\n",
      "And the #TrumpTrain keeps on rolling and winning. #TrumpSweep in the Northeast, adios @tedcruz @JohnKasich https://t.co/JrsS096XjM\n",
      "@marklevinshow @RealOrangeCat #TrumpChumps don't want facts that would show they have been wrong about Fox &amp; can't just go by what Fox says.\n",
      "@AnnCoulter @realDonaldTrump Please let @BillKristol and @weeklystandard know #TrumpTrain has left the station #NeverTrump bites the dust\n",
      "#SuperTuesday #Trump now has 988 delegates won @CNN 988/1237=80% of the vote needed to win #winner #GOPnomination 🇺🇸\n",
      "GOP POPULAR VOTE thru 4/26/2016\n",
      "@realDonaldTrump 10,056,351\n",
      "LYIN' TED 6,854,269\n",
      "KASICH 3,673,042\n",
      "#Trump2016\n",
      "Undoubtedly the nominee⚡️ “#Trump presumes he's #Republican nominee after sweep”\n",
      "\n",
      "https://t.co/s5JvBeZlz6\n",
      "Absolutely impossible to sleep after a MASSIVE LANDSLIDE for @realDonaldTrump &amp; #Trump2016 last night. #TrumpTrain https://t.co/AfDUgVSkpR\n",
      "\"1 man unleashed pepper spray into the pro-Trump crowd [at] girls, aged 8 &amp; 11, at #Trump demo in #California\" https://t.co/KASn2kozp5\n",
      "@tedcruz living in a fantasy world #TrumpTrain @realDonaldTrump is presumptive nominee whether you like it or not https://t.co/QXSYKiQgwb\n",
      "What kind of person would play #Trump and get hit w a bat? Hear my funny #psychological talk with @enormousface https://t.co/ZayQM0MC19\n",
      "How would Ted Cuz be doing if he was a man #SuperTuesday #Trump2016\n",
      "It's ok Mitt. @realDonaldTrump will MAKE AMERICA GREAT AGAIN!\n",
      "#Trump2016 #TrumpTrain🚂💨🇺🇸 https://t.co/EgiSRuCwFV\n",
      "I'm making a prediction: if @realDonaldTrump wins #IndianaPrimary next week he's going to run the table. What say you @deedeegop? #Trump2016\n",
      "#Trump to outline foreign policy \"vision\" at noon ET. Focus on nukes: tells @GMA \"I'm probably last on the trigger\" https://t.co/VL66M3U4nb\n",
      "Very true. Hello #Trump.  https://t.co/QaCWqYyK0y\n",
      "After last night, @AmandaLenti &amp; I will be moving to a place called London where they speak British? #Trump2016 https://t.co/dL9WAq6I5U\n",
      "A leader of the #kkk &amp; Governor #NewJersey both endorsed #Trump in the same week,can anyone say #NeverTrump ! https://t.co/iB461JcqRu..\n",
      "IGNORANT &amp; ARROGANT  #Trump ,mocks person w/ a #Disability ,#USA is better than this ,#NeverTrump as #POTUS https://t.co/K6UAXx6Ba5\n",
      "#TrumpForce 1 arriving Washington DC this morning under cloudy skies! #MayflowerHotel \n",
      "# ForeignPolicySpeech https://t.co/5koHFmUSeM\n",
      "Spoken in Canadian it even has a good 'ring'. \"hoops, eh?\" #Trump2016\n",
      "Ha ha! Are they Trump's card secret weapon? #Trumpcard #orwhat ? https://t.co/yyf66DuZWW\n",
      "You have to give it to #Trump - he won fair &amp; square against v. strong competition #Elections2016 @realDonaldTrump \n",
      "https://t.co/1qMmleuUo8\n",
      "#HillaryClinton Hates The all American BBQ. #Trump2016 #California #USA2016 #Bikers4Trump\n",
      "@JohnKasich never really delivered anything at all. Not too late to board the #TrumpTrain  https://t.co/hB19X21ZPb\n",
      "The candidate who's playing the \"insane bigot\" card accuses another candidate of playing the \"woman\" card. #TrumpTrainWreck\n",
      "The Real Ted Cruz. He may b the most spectacular liar ever 2 run 4 president. #NeverCruz #AlwaysTrump#TrumpTrain \n",
      "https://t.co/mn856DdxYH\n",
      "🐍🐍 Lyin'Ted pls explain how u plan on winning a general election when u say the Northeast is not friendly to you. #EliminaTED #Trump2016󾓦\n",
      "#Trump foriegn policy speech leaked, \"kill, torture, kill, torture, brown people, poor people\" See?  He isn't going to change anything #doom\n",
      "OMG INDIANA WE NEED YOUR VOTE TO STOP THESE 2 TRYING TO ALLIANCE THIS IS COLLISION ITS ILLEGAL #Trump2016 #VOTETRUMP https://t.co/tNloYw0v3r\n",
      "LIVE Donald #Trump2016 Foreign Policy The National Press Club Washington DC Speaks SPEECH HD STREAM ✔\n",
      "#AlwaysTrump https://t.co/gmRw6GW0cQ\n",
      "Richard Engel seems legitimately scared of the prospects of a Trump presidency. Wish more of his peers would join him. #Trump\n",
      "#Trump looking to make America Great Again by returning US to a pre-twentieth century #ForeignPolicy\n",
      "How is scripted #Trump worse than off the cuff Trump? https://t.co/UBPOpiUWsB\n",
      "Everybody is talking #Trump or #HillaryClinton or #FeelTheBern over here like #craftbeer for #POTUS  #nycbeerdoc https://t.co/aW6AI05IbW\n",
      "#Trump forgets that we had allies that helped and in some cases were crucial. Alone we lose\n",
      "The Cold War, according to #Trump: \"We won and we won big.\" #Deep https://t.co/tjdWkryM5J\n",
      "\"Belive me\"  fuck no I don't BELIVE YOU #Trump\n",
      "#Trump is very low energy today. Very weak\n",
      "This is like a 4th grader trying to explain the Science Fair project his parents did for him. #Trump\n",
      "#Trump or any idiot can diagnose \"what\" the hard part is \"how\" So far I hear nothing on how he will accomplish these things\n",
      "what does #Trump think our allies are going to say about us when we make them pay for our military?\n",
      "What. Is this? #Trump\n",
      "Does the #womancard give you 2 million more votes than #Trump? #hill\n",
      "#Trump2016.  Foreign Policy Speech. Hitting it out of the Park https://t.co/DnS7b3Iya5\n",
      "“So I threw down the #WildDrawFour card but then she hit me with the #WomanCard. Worst kind of #UNO card!” - #Trump https://t.co/Avpy6K130M\n",
      "Yeah! Fuck the earth! Let's buy more guns! #Trump2016 #republicans #Stupidhumans\n",
      "Hey #Trump! Just left housing court in BK. Not too many #womancard played there.\n",
      "@PCBushi @BullKilgore @DeepSouthProud @NolteNC @benshapiro Not all #TrumpChumps are stupid, lots of them are just nuts. &amp; there are bots.\n",
      "#BEAUTY 🌸\n",
      "\n",
      "@missmiakang 📸x @jamie_nelson 💄 @LancomeUSA for @saks\n",
      " \n",
      "#TrumpModels\n",
      "#MiaKang\n",
      "#BeautyGirl\n",
      "#❤️ https://t.co/nCA7qK5tJM\n",
      "We're not going to interfere everywhere. But we're going to save lives, \"even humanity itself.\" Oh. #Trump\n",
      "#MakeAmericaGreatAgain @realDonaldTrump gave a SOLID speech keep the momentum #TrumpHasMyVote #ImWithHim\n",
      "@heytana @realDonaldTrump @DanScavino Mr. Trump had a very presidential speech. Amazing foreign policy. #Trump2016  https://t.co/BsfcB0E36u\n",
      "@FareedZakaria I disagree w/ ur commentary on @CNN #Trump was clear, he has vision for the #US &amp; peace throughout the world. 🇺🇸❤️✨\n",
      "Man, it was so hawkish of us to go into Europe in WWII and defeat Hitler. #WednesdayWisdom #TrumpForeignPolicy\n",
      "The #Trump dillema : #capitalism vs #patriotism\n",
      "Great speech by @realDonaldTrump today!  Let's Make America safe and great again!!!  #Trump2016\n",
      "Here's the thing: #Trump is a narcissist who breaks rules out of self-interest. #Cruz is an exceptionalist who thinks the rules don't apply.\n",
      "In #Trump and #Cruz, the #GOP spent decades earning the shitshow it's got. Pray lightning doesn't strike and bring the country down with it.\n",
      "Great speech on foreign policy from @realDonaldTrump today - so excited to have him as my future president. #Trump2016\n",
      "@HillaryClinton #Trump is like a real....real...bad..off...off Broadway play! If they gave Free tickets you would never go to see him!\n",
      "Biggie Trump Ts &amp; Tanks  #DonaldTrump #Trump2016 #trumptrain #MakeAmericaGreatAgain https://t.co/qSucohWTlY https://t.co/GeCx0kBLUQ\n",
      "@AJDelgado13 Couldn't agree more. I'm laughing at Cruz at this point. These optics will hurt him in IN...#Trump2016 https://t.co/n2iCHQd9Es\n",
      "way to try &amp; lock up the failed CEO vote, @tedcruz w/ Fiorina (but pretty sure #Trump has that in his pocket already, being one after all.)\n",
      "in an attempt to lockdown the failed CEO vote, @tedcruz announces Fiorina as his running mate. #Trump scoffs, \"Ha!! I'm the king of those!\"\n",
      "Turned on #CNN hoping to see more about #GOP speaker #DennisHastert being a child molester but it's nothing but their BFF #Trump.\n",
      "😍 INDIAH LAVERS x #NeighborMagazine \n",
      "\n",
      "#TrumpModels\n",
      "#IndiahLavers\n",
      "#Development\n",
      "#wehavethebestgirls https://t.co/F7lvvyzeZC\n",
      "Did Cruz just imply that #Trump2016 was an insider? #cruzfiorina #cruzspeech\n",
      "In my experience, men have absolutely no problem with the \"woman card\" if the woman's number is on it. #Trump #womancard\n",
      "So, you can't have a team consisting of people who know better than you in a given specialization, according to Cruz? #Trump2016 #tcot\n",
      "@Jaeger1985 For Cruz, he has to be the smartest person in the room, &amp; the people there cannot contradict him. Sounds like #0bama. #Trump2016\n",
      "#TedCruz \"If I'm nominated\"..... just give it up. Game. Set. Hair. #Trump\n",
      "Can Lyin' Ted Cruz please shut up. Whenever he talks about Trump, he makes stuff up and lies. Trump was 100% right #LyingTed #Trump2016\n",
      "@FoxNews Rumor has it, tomorrow's polling will show that #Trump will be leading @tedcruz in CA by 50%\n",
      "#Clinton2016 #Bernie2016 #Trump2016 #Cruz Dont miss this: Amy Goodman on the mainstream media: MUST SEE! https://t.co/EaqQ8ZxjdC\n",
      "#DIGITALS 😍 TATJANA\n",
      "\n",
      "Our supermodel @mstatjanapatitz stops by the agency ✨\n",
      "\n",
      "#TrumpLegends\n",
      "#TatjanaPatitz\n",
      "#Supermodel https://t.co/KFnWxkfx8O\n",
      "Cruz's losing campaign naming a VP? Is #Kasich or #Jeb next?? Everyone gets a VP! #TrumpForeignPolicy #CruzFiorina https://t.co/yKIaChTfth\n",
      "Maybe it's just that #CarlyFiorina likes being dismissed. #CruzFiorina #TedCruz #Trump2016 #MAGA #Trump\n",
      "Ted Cruz is a CUCK #Trump\n",
      "Just when you thought it couldn't get any crazier. #CruzFiorina2016? Next we'll see #TrumpKanye2016\n",
      "@DiamondandSilk you two are so funny keep it up #NeverCruz #Trump2016 #onlyTrump\n",
      "There are no facts to refute the authenticity of #Trump. The #MSM scorn stems from thoughts &amp; beliefs they abhor. https://t.co/6RuhAcBZwH\n",
      "@tjfish88 @realDonaldTrump @tedcruz a last ditch effort by lyin' Ted to salvage some pathetic votes #Trump2016\n",
      "Next on @FoxBusiness: Navy SEAL @CarlHigbie, @lizpeek, @rebeccagberg, &amp; @MrsT106 join @cvpayne to talk about #Trump2016\n",
      ".@PaulManafort are you drunk right now? #Trump2016\n",
      "@AriMelber I am not surprised by Bobby Knight's support of #Trump. Stick to basketball. I always thought BK was racist asshole. Confirmed.\n",
      "This is reminding me of Clint talking to the empty chair. #BobbyKnight #Trump\n",
      "A man who said women being raped should just, \"relax and enjoy it\" just endorsed #Trump. That's a big effing surprise. #BobbyKnight\n",
      "If you need something from the Tractor Supply Co. in Indianapolis but hate lines, now is your moment. #Trump\n",
      ".@realDonaldTrump: \"#TedCruz has no path to victory and neither does #JohnKasich\" #TrumpTownHall\n",
      ".@realDonaldTrump on #CruzFiorina: \"I think it's so early in the process. You have to first get the nomination\" #TrumpTownHall\n",
      ".@realDonaldTrump on #CruzFiorina: \"Here is a guy picking a VP candidate who has zero chance. He has no path. Sort of crazy\" #TrumpTownHall\n",
      "I don't like that @realDonaldTrump cucked a bit for Isreal, but overall his foreign policy is the best of the bunch! #Trump #TrumpTrain\n",
      "@DonaldJTrumpJr amazing job at the rally in indie. your dad was so proud @realDonaldTrump #Trump2016 what a great family.\n",
      "#HillaryClinton Lives in Wayward Pines with #Cruz &amp; #CarlyFiorina #Trump2016 #California\n",
      "#TrumpTownHall Bobby Knight endorses @realDonaldTrump. Hoops!\n",
      "\"We as Americans should support policies that can protect America\" says Zalmay #Khalilzad of #Trump's proposed Muslim ban\n",
      "Don't know what smells 👃👃👃👃 worse #Crooked Hillary 's  🐡🐡🐡🐡🐟🐟🐟🐟 breath or her rotten Va JJ  #Trump2016 󾓦 https://t.co/SMrIAc0sNn\n",
      "@scottlincicome @GeoffEarle @tedcruz Burn it ALL down. To a cinder. 🔥🔥🔥🔥 #Trump2016 #TrumpTrain\n",
      "Asked if he would serve in a #Trump admin, #Khalilzad said \"If I could make a positive difference..I would do so\" @OutFrontCNN\n",
      "#TrumpTownHall Nice to see low keyed , thoughtful @realDonaldTrump\n",
      "#Trump2016 dealt #Hillary2016 the best #womenscard. HE LOSES\n",
      "\n",
      "#HillarySoQualified #TNTweeters @Uniteblue #NeverTrump https://t.co/m5AVe7UNVF\n",
      "The road to recovering America has been cleared. Now stand clear because steamroller #Trump2016 is not stoping for anyone. #livefree\n",
      "WHY are ALL @marklevinshow #CruzYouLOSE #dittoheads saying #Trump is HITLER?? @KAFosterSowell @GENUG @jimbearNJ?\n",
      "That's where I think we are all mistaken - #Trump has a real chance - so underestimated -frightening  @danielpeltz\n",
      "OMG I like @BillOReillyNews now! U seem to get it! Let all the celebrities leave when #Trump is #pres #good riddance https://t.co/EryCz91TPo\n",
      "The Hal Turner show is online!\n",
      "https://t.co/yviTCmkPZ2\n",
      "#Trump2016 #AlwaysTrump #MakeAmericaGreatAgain #MAGA #tcot #ctot #ccot #trumptrain\n",
      "@BreitbartNews #Trump does not NEED a 999 endorsement!\n",
      "@CNN When #Trump said #Hillary will \"play the women card \" he's right she will do anything to win. She'll play whatever card she has. 💳\n",
      "Ted &amp; Carly sounds like a really bad lounge act at a Trump Hotel. #Trump #CruzCarly2016 #CNN #MSNBC #Hillary #Bernie\n",
      "@kincannon_show @CarlyFiorina couldn't even handle a talk radio debate with @AnnCoulter ...#Trump2016\n",
      "@tedcruz picked a who? #GOP2016 #Trump2016 https://t.co/4B0pjXds9y\n",
      "If #Trump is found liable in TrumpUniversity/Trump Entrepreneurship Initiative fraud case, what will that do 2 election? I wonder..\n",
      "Trending on @facebook &amp; I captured it live via @Snapchat 🙋🏻🙋🏻 see it here 👇🏻 #LenaDunham #Trump #Matrix cc: @Andy https://t.co/BtbZLyWzwj\n",
      "The firewall that will keep #DNC protected for decades to come! The anti #Trump wall made by #Latinos and #Latinas https://t.co/bwDMMtjKNo\n",
      "@alessandra_mazz so I ended up at Turtle Bay (I know, what is this my sweet 16?) and remembered the good old days... #killedit #Trump\n",
      "It's hard to pick up girls in NYC while wearing a #Trump hat... Like hiking while wearing a backpack full of led... #MakeAmericaGreatAgain\n",
      "@realDonaldTrump is in the business of winning...and business is a booming #TrumpTrain #Trump2016 #NeverCUCK  https://t.co/hT26tkCI7I\n",
      "991/1237=80% #Trump delegates won so far🇺🇸 +NJ/51=1040+PA/39 unbound=1079 propelling #TrumpTrain @CNN @fox @MSNBC @NateSilver538\n",
      "#Trump foreign policy speech promising coherence \"full of paradoxes\". https://t.co/wPGgz1gd74\n",
      "And \"the world\" not too impressed by #Trump's \"America First\" plan. https://t.co/GvyN8Cek3P\n",
      "#Trump sounds like the  #JewishGod, \"Just trust me,but don't ask me 4 anything,&amp; like bad insurance I don't pay off.\" #ThursdayThoughts\n",
      "CNN Poll from March: 73% of women voters have a negative \n",
      "opinion of #Trump. Gee.I wonder why.  #ImWithHer\n",
      "#CruzFiorina16 a joke,used 2 take the media attention from #Trump.#ThisIsNotAHailMary there is no end game,#CruzCantWin #ThursdayThoughts\n",
      "#christie16 cannot be far. He expects #Trump2016 to name him https://t.co/wJxedqtv53\n",
      "#Trump is #ChloroformInPrint #ThurdsdayThoughts on #DogsOfTwitter  #CruzFiorina @Gtwy @BonhamJen @FreethinkRabbi @NoQuivering @ZachsMind\n",
      "@realDonaldTrump @DanScavino @CLewandowski_  Trump could amass most primary votes in GOP history. https://t.co/jNAlxJLvtq #Trump2016 󾓦\n",
      "IGNORANT &amp; ARROGANT  #Trump ,mocks person w/ a #Disability ,#USA is better than this ,#NeverTrump as #POTUS https://t.co/K6UAXx6Ba5\n",
      "A leader of the #kkk &amp; Governor #NewJersey both endorsed #Trump in the same week,can anyone say #NeverTrump ! https://t.co/iB461JcqRu..\n",
      "Glenn Beck thinks #LyingTed didn't go far enough, he should've nominated a whole cabinet\n",
      "#Trump #IndianaPrimary\n",
      "@kincannon_show Neoconservatism is dead...#Trump2016 https://t.co/hkXyCzeYK6\n",
      "Hope GOP isn't stupid Donald Trump could amass most primary votes in GOP history https://t.co/6a53wJ8R5B   #TrumpTrain @realDonaldTrump @GOP\n",
      "A Playground Of Color 🎨\n",
      "\n",
      "Katie Moore stars in @voguejp 📸x #SophieDelaporte\n",
      "\n",
      "#TrumpModels\n",
      "#KatieMoore\n",
      "#VogueJapan https://t.co/IIiudaxOX8\n"
     ]
    }
   ],
   "source": [
    "filtered = []\n",
    "for d in nyc_geo_data:\n",
    "    if \"#Trump\" in d['text']:\n",
    "        filtered.append(d)\n",
    "print(len(filtered))\n",
    "for d in filtered:\n",
    "    print(d['text'])\n",
    "        \n",
    "# filtered2 = []\n",
    "# for d in tamp_geo_data:\n",
    "#     if \"#Trump2016\" in d['text']:\n",
    "#         filtered2.append(d)"
   ]
  },
  {
   "cell_type": "code",
   "execution_count": null,
   "metadata": {
    "collapsed": true
   },
   "outputs": [],
   "source": [
    "to_json(filtered)"
   ]
  },
  {
   "cell_type": "code",
   "execution_count": null,
   "metadata": {
    "collapsed": false
   },
   "outputs": [],
   "source": [
    "# print(len(filtered))\n",
    "# print(len(filtered2))\n",
    "# print(filtered2[3]['id'])\n",
    "# # print(filtered2[0])\n",
    "\n",
    "\n",
    "# ids = []\n",
    "# for d in filtered:\n",
    "#     print(d['id'], d['text'])\n",
    "#     ids.append(d['id'])\n",
    "\n",
    "# count_nyc.most_common(10)\n",
    "# print(len(filtered2))\n",
    "# print(len(filtered))\n",
    "# s = \"\"\n",
    "# for d in filtered2:\n",
    "#     s += d['text'] + \" \"\n",
    "# print(s)\n",
    "# print(count_jack.most_common(100))"
   ]
  },
  {
   "cell_type": "code",
   "execution_count": 38,
   "metadata": {
    "collapsed": false,
    "scrolled": true
   },
   "outputs": [
    {
     "name": "stdout",
     "output_type": "stream",
     "text": [
      "NOPE\n",
      "RT @brainymcblondes: #Trump#Trump#Trump#Trump#Trump sweep ❤️✨‼️🇺🇸🍾👍🏻\n",
      "2\n",
      "NOPE\n",
      "RT @ChJLuc91: #MakeAmericaGreatAgain #AcelaPrimary #Trump2016  Willie Robertson Huge Trump Supporter w/Trump's cousin London!  https://t.co…\n",
      "2\n",
      "NOPE\n",
      "NOPE\n",
      "NOPE\n",
      "NOPE\n",
      "NOPE\n",
      "RT @MattCaprioli: He is number 1 at rambling, pointless speeches. #Trump2016\n",
      "1\n",
      "NOPE\n",
      "NOPE\n",
      "NOPE\n",
      "NOPE\n",
      "NOPE\n",
      "NOPE\n",
      "RT @MissDiagnosis: Undoubtedly the nominee⚡️ “#Trump presumes he's #Republican nominee after sweep”\n",
      "\n",
      "https://t.co/s5JvBeZlz6\n",
      "2\n",
      "NOPE\n",
      "NOPE\n",
      "RT @PonziRegulation: You have to give it to #Trump - he won fair &amp; square against v. strong competition #Elections2016 @realDonaldTrump \n",
      "ht…\n",
      "1\n",
      "NOPE\n",
      "NOPE\n",
      "NOPE\n",
      "RT @tufkaa: #Trump looking to make America Great Again by returning US to a pre-twentieth century #ForeignPolicy\n",
      "1\n",
      "RT @ASE: How is scripted #Trump worse than off the cuff Trump? https://t.co/UBPOpiUWsB\n",
      "3\n",
      "NOPE\n",
      "RT @ASE: The Cold War, according to #Trump: \"We won and we won big.\" #Deep https://t.co/tjdWkryM5J\n",
      "6\n",
      "NOPE\n",
      "NOPE\n",
      "RT @TrumpModels: #BEAUTY 🌸\n",
      "\n",
      "@missmiakang 📸x @jamie_nelson 💄 @LancomeUSA for @saks\n",
      " \n",
      "#TrumpModels\n",
      "#MiaKang\n",
      "#BeautyGirl\n",
      "#❤️ https://t.co/nCA7…\n",
      "3\n",
      "NOPE\n",
      "NOPE\n",
      "NOPE\n",
      "NOPE\n",
      "NOPE\n",
      "Other Error\n",
      "NOPE\n",
      "NOPE\n",
      "RT @The_Sandman8: Can Lyin' Ted Cruz please shut up. Whenever he talks about Trump, he makes stuff up and lies. Trump was 100% right #Lying…\n",
      "1\n",
      "NOPE\n",
      "NOPE\n",
      "NOPE\n",
      "NOPE\n",
      "NOPE\n",
      "NOPE\n",
      "RT @kingsley_a_rowe: @AriMelber I am not surprised by Bobby Knight's support of #Trump. Stick to basketball. I always thought BK was racist…\n",
      "4\n",
      "NOPE\n",
      "NOPE\n",
      "NOPE\n",
      "RT @MikeandDawnNY: Don't know what smells 👃👃👃👃 worse #Crooked Hillary 's  🐡🐡🐡🐡🐟🐟🐟🐟 breath or her rotten Va JJ  #Trump2016 󾓦 https://t.co/SM…\n",
      "1\n",
      "RT @Riverboys: #TrumpTownHall Nice to see low keyed , thoughtful @realDonaldTrump\n",
      "1\n",
      "Other Error\n",
      "NOPE\n",
      "NOPE\n",
      "NOPE\n",
      "NOPE\n",
      "RT @LeeSpaner: #Trump is #ChloroformInPrint #ThurdsdayThoughts on #DogsOfTwitter  #CruzFiorina @Gtwy @BonhamJen @FreethinkRabbi @NoQuiverin…\n",
      "1\n",
      "NOPE\n",
      "NOPE\n",
      "NOPE\n",
      "2.0714285714285716\n"
     ]
    }
   ],
   "source": [
    "filtered = []\n",
    "for d in nyc_geo_data:\n",
    "    if \"#Trump2016\" in d['text'] or \"#Trump\" in d['text']:\n",
    "        filtered.append(d)\n",
    "filtered = rand_sample(60, filtered)\n",
    "ave = 0\n",
    "t_count = 0\n",
    "c = 0\n",
    "while c < len(filtered):\n",
    "    try:\n",
    "        rt = twitter.get_retweets(id=filtered[c]['id'])\n",
    "        if len(rt) > 0 and rt[0]['retweet_count'] < 10:\n",
    "            t_count += 1\n",
    "            ave += rt[0]['retweet_count']\n",
    "            print(rt[0]['text'])\n",
    "            print(rt[0]['retweet_count'])\n",
    "        else:\n",
    "            print(\"NOPE\")\n",
    "        c += 1\n",
    "    except Exception:\n",
    "        if twitter.get_application_rate_limit_status()['resources']['statuses']['/statuses/retweets/:id']['remaining'] == 0:\n",
    "            print(\"RATE EXCEEDED\")\n",
    "            re_time = twitter.get_application_rate_limit_status()['resources']['statuses']['/statuses/retweets/:id']['reset']\n",
    "            curr_time = time.time()\n",
    "            time.sleep(re_time - curr_time + 5)\n",
    "        else:\n",
    "            print(\"Other Error\")\n",
    "            c += 1\n",
    "            pass\n",
    "        \n",
    "        \n",
    "        \n",
    "print(ave/t_count)\n",
    "\n",
    "\n"
   ]
  },
  {
   "cell_type": "code",
   "execution_count": null,
   "metadata": {
    "collapsed": true
   },
   "outputs": [],
   "source": [
    "if len(rt) > 0:\n",
    "    print(rt[0]['text'])\n",
    "    print(rt[0]['retweet_count'])\n",
    "else:\n",
    "    print(\"NOPE\")\n"
   ]
  },
  {
   "cell_type": "code",
   "execution_count": 40,
   "metadata": {
    "collapsed": false
   },
   "outputs": [
    {
     "data": {
      "text/plain": [
       "{'limit': 60, 'remaining': 0, 'reset': 1461981181}"
      ]
     },
     "execution_count": 40,
     "metadata": {},
     "output_type": "execute_result"
    }
   ],
   "source": [
    "twitter.get_application_rate_limit_status()['resources']['statuses']['/statuses/retweets/:id']"
   ]
  },
  {
   "cell_type": "code",
   "execution_count": null,
   "metadata": {
    "collapsed": true
   },
   "outputs": [],
   "source": [
    "#average retweet rates\n",
    "*Chicago = 2.5555555555555554\n",
    "*Tampa = 2.7142857142857144\n",
    "*NYC = 2.0714285714285716\n",
    "SF = 1.6\n",
    "Phoenix = \n",
    "Denver = \n",
    "*Atlanta = 1.2\n",
    "DC = 1.8333333333333333\n",
    "Dallas = 2.8\n",
    "\n"
   ]
  },
  {
   "cell_type": "code",
   "execution_count": null,
   "metadata": {
    "collapsed": true
   },
   "outputs": [],
   "source": []
  },
  {
   "cell_type": "code",
   "execution_count": null,
   "metadata": {
    "collapsed": true
   },
   "outputs": [],
   "source": []
  },
  {
   "cell_type": "code",
   "execution_count": null,
   "metadata": {
    "collapsed": true
   },
   "outputs": [],
   "source": []
  },
  {
   "cell_type": "code",
   "execution_count": null,
   "metadata": {
    "collapsed": false
   },
   "outputs": [],
   "source": [
    "dates = []\n",
    "eastern = pytz.timezone('US/Eastern')\n",
    "for d in filtered:\n",
    "    dates.append(d['created_at'])\n",
    "ones = [1]*len(dates)\n",
    "idx = pd.DatetimeIndex(dates).tz_localize(pytz.utc).tz_convert(eastern)\n",
    "dates_series = pd.Series(ones, index=idx)\n",
    "# Resampling / bucketing\n",
    "per_minuite = dates_series.resample('1Min', how='sum').fillna(0)"
   ]
  },
  {
   "cell_type": "code",
   "execution_count": null,
   "metadata": {
    "collapsed": false,
    "scrolled": true
   },
   "outputs": [],
   "source": [
    "time_chart = vincent.Line(per_minuite)\n",
    "time_chart.axis_titles(x='Time', y='Freq')"
   ]
  },
  {
   "cell_type": "code",
   "execution_count": null,
   "metadata": {
    "collapsed": true
   },
   "outputs": [],
   "source": []
  }
 ],
 "metadata": {
  "kernelspec": {
   "display_name": "Python 3",
   "language": "python",
   "name": "python3"
  },
  "language_info": {
   "codemirror_mode": {
    "name": "ipython",
    "version": 3
   },
   "file_extension": ".py",
   "mimetype": "text/x-python",
   "name": "python",
   "nbconvert_exporter": "python",
   "pygments_lexer": "ipython3",
   "version": "3.4.3"
  }
 },
 "nbformat": 4,
 "nbformat_minor": 0
}
