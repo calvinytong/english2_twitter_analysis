{
 "cells": [
  {
   "cell_type": "code",
   "execution_count": 1,
   "metadata": {
    "collapsed": true
   },
   "outputs": [],
   "source": [
    "import pickle as pkl\n",
    "import numpy as np\n",
    "import matplotlib.pyplot as plt\n",
    "import json"
   ]
  },
  {
   "cell_type": "code",
   "execution_count": 2,
   "metadata": {
    "collapsed": true
   },
   "outputs": [],
   "source": [
    "def load_data(file):\n",
    "    \"\"\"\n",
    "    Loads the data from the passed pickle file\n",
    "    Returns an array populated where each index is a datum in dict form\n",
    "    \"\"\"\n",
    "    unpickler = pkl.Unpickler(file)\n",
    "\n",
    "    # unpickle the data\n",
    "    m1 = []\n",
    "    while True:\n",
    "        try:\n",
    "            dd = unpickler.load()\n",
    "        except EOFError:\n",
    "            break;\n",
    "        else:\n",
    "            m1.append(dd)\n",
    "    return m1\n"
   ]
  },
  {
   "cell_type": "code",
   "execution_count": 7,
   "metadata": {
    "collapsed": false
   },
   "outputs": [
    {
     "data": {
      "text/plain": [
       "{'contributors': None,\n",
       " 'coordinates': None,\n",
       " 'created_at': 'Wed Apr 20 02:38:28 +0000 2016',\n",
       " 'entities': {'hashtags': [{'indices': [102, 114], 'text': 'FeelTheBern'}],\n",
       "  'symbols': [],\n",
       "  'urls': [],\n",
       "  'user_mentions': []},\n",
       " 'favorite_count': 0,\n",
       " 'favorited': False,\n",
       " 'filter_level': 'low',\n",
       " 'geo': None,\n",
       " 'id': 722615387578347520,\n",
       " 'id_str': '722615387578347520',\n",
       " 'in_reply_to_screen_name': None,\n",
       " 'in_reply_to_status_id': None,\n",
       " 'in_reply_to_status_id_str': None,\n",
       " 'in_reply_to_user_id': None,\n",
       " 'in_reply_to_user_id_str': None,\n",
       " 'is_quote_status': False,\n",
       " 'lang': 'en',\n",
       " 'place': {'attributes': {},\n",
       "  'bounding_box': {'coordinates': [[[-79.76259, 40.477383],\n",
       "     [-79.76259, 45.015851],\n",
       "     [-71.777492, 45.015851],\n",
       "     [-71.777492, 40.477383]]],\n",
       "   'type': 'Polygon'},\n",
       "  'country': 'United States',\n",
       "  'country_code': 'US',\n",
       "  'full_name': 'New York, USA',\n",
       "  'id': '94965b2c45386f87',\n",
       "  'name': 'New York',\n",
       "  'place_type': 'admin',\n",
       "  'url': 'https://api.twitter.com/1.1/geo/id/94965b2c45386f87.json'},\n",
       " 'retweet_count': 0,\n",
       " 'retweeted': False,\n",
       " 'source': '<a href=\"http://twitter.com/download/iphone\" rel=\"nofollow\">Twitter for iPhone</a>',\n",
       " 'text': \"I'm way to sad for Bernie to be happy for Hillary. Sorry Hillary supporters Bernie will always be mvp #FeelTheBern\",\n",
       " 'timestamp_ms': '1461119908600',\n",
       " 'truncated': False,\n",
       " 'user': {'contributors_enabled': False,\n",
       "  'created_at': 'Thu May 15 00:58:00 +0000 2014',\n",
       "  'default_profile': False,\n",
       "  'default_profile_image': False,\n",
       "  'description': None,\n",
       "  'favourites_count': 2176,\n",
       "  'follow_request_sent': None,\n",
       "  'followers_count': 85,\n",
       "  'following': None,\n",
       "  'friends_count': 76,\n",
       "  'geo_enabled': True,\n",
       "  'id': 2495408749,\n",
       "  'id_str': '2495408749',\n",
       "  'is_translator': False,\n",
       "  'lang': 'en',\n",
       "  'listed_count': 1,\n",
       "  'location': None,\n",
       "  'name': 'LilSur',\n",
       "  'notifications': None,\n",
       "  'profile_background_color': '89C9FA',\n",
       "  'profile_background_image_url': 'http://abs.twimg.com/images/themes/theme1/bg.png',\n",
       "  'profile_background_image_url_https': 'https://abs.twimg.com/images/themes/theme1/bg.png',\n",
       "  'profile_background_tile': False,\n",
       "  'profile_image_url': 'http://pbs.twimg.com/profile_images/466749521116925952/yTk3yijO_normal.jpeg',\n",
       "  'profile_image_url_https': 'https://pbs.twimg.com/profile_images/466749521116925952/yTk3yijO_normal.jpeg',\n",
       "  'profile_link_color': '3B94D9',\n",
       "  'profile_sidebar_border_color': 'C0DEED',\n",
       "  'profile_sidebar_fill_color': 'DDEEF6',\n",
       "  'profile_text_color': '333333',\n",
       "  'profile_use_background_image': True,\n",
       "  'protected': False,\n",
       "  'screen_name': 'sarahmu21441978',\n",
       "  'statuses_count': 134,\n",
       "  'time_zone': None,\n",
       "  'url': None,\n",
       "  'utc_offset': None,\n",
       "  'verified': False}}"
      ]
     },
     "execution_count": 7,
     "metadata": {},
     "output_type": "execute_result"
    }
   ],
   "source": [
    "f = open('/Users/calvin/Documents/Lehigh/English/Research/data/cap1.pkl', 'rb')\n",
    "unpickler = pkl.Unpickler(f)\n",
    "data_array = []\n",
    "pkl.load(f)\n",
    "pkl.load(f)\n",
    "# while(True):\n",
    "#     try:\n",
    "#         dd = pkl.load(f)\n",
    "#     except EOFError:\n",
    "#         break\n",
    "#     except Exception:\n",
    "#         print(count)\n",
    "#         count += 1\n",
    "#         unpickler.load()\n",
    "#         continue\n",
    "#     else:\n",
    "#         data_array.append(dd)\n"
   ]
  },
  {
   "cell_type": "code",
   "execution_count": 10,
   "metadata": {
    "collapsed": false
   },
   "outputs": [
    {
     "name": "stdout",
     "output_type": "stream",
     "text": [
      "1000\n"
     ]
    }
   ],
   "source": [
    "print(len(data_array))"
   ]
  },
  {
   "cell_type": "code",
   "execution_count": 7,
   "metadata": {
    "collapsed": false
   },
   "outputs": [],
   "source": [
    "geo_data = {\n",
    "    \"type\": \"FeatureCollection\",\n",
    "    \"features\": []\n",
    "}\n",
    "for d in data_array:\n",
    "    geo_json_feature = {\n",
    "            \"type\": \"Feature\",\n",
    "            \"geometry\": d['coordinates'],\n",
    "            \"properties\": {\n",
    "                \"text\": d['text'],\n",
    "                \"created_at\": d['created_at']\n",
    "            }\n",
    "        }\n",
    "    geo_data['features'].append(geo_json_feature)"
   ]
  },
  {
   "cell_type": "code",
   "execution_count": 8,
   "metadata": {
    "collapsed": false
   },
   "outputs": [],
   "source": [
    "with open('geo_data.json', 'w') as fout:\n",
    "    fout.write(json.dumps(geo_data, indent=4))"
   ]
  },
  {
   "cell_type": "code",
   "execution_count": null,
   "metadata": {
    "collapsed": true
   },
   "outputs": [],
   "source": []
  }
 ],
 "metadata": {
  "kernelspec": {
   "display_name": "Python 3",
   "language": "python",
   "name": "python3"
  },
  "language_info": {
   "codemirror_mode": {
    "name": "ipython",
    "version": 3
   },
   "file_extension": ".py",
   "mimetype": "text/x-python",
   "name": "python",
   "nbconvert_exporter": "python",
   "pygments_lexer": "ipython3",
   "version": "3.4.3"
  }
 },
 "nbformat": 4,
 "nbformat_minor": 0
}
